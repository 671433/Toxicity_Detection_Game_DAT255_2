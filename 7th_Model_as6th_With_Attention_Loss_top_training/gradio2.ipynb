{
 "cells": [
  {
   "cell_type": "code",
   "execution_count": 1,
   "id": "7f9c32ef-79a8-4496-a3d3-801fe34210db",
   "metadata": {},
   "outputs": [
    {
     "ename": "NameError",
     "evalue": "name 'os' is not defined",
     "output_type": "error",
     "traceback": [
      "\u001b[1;31m---------------------------------------------------------------------------\u001b[0m",
      "\u001b[1;31mNameError\u001b[0m                                 Traceback (most recent call last)",
      "Cell \u001b[1;32mIn[1], line 1\u001b[0m\n\u001b[1;32m----> 1\u001b[0m result \u001b[38;5;241m=\u001b[39m \u001b[43mos\u001b[49m\u001b[38;5;241m.\u001b[39msystem(\u001b[38;5;124m'\u001b[39m\u001b[38;5;124mpip install gradio\u001b[39m\u001b[38;5;124m'\u001b[39m)\n\u001b[0;32m      2\u001b[0m \u001b[38;5;28mprint\u001b[39m(result)\n",
      "\u001b[1;31mNameError\u001b[0m: name 'os' is not defined"
     ]
    }
   ],
   "source": [
    "result = os.system('pip install gradio')\n",
    "print(result)"
   ]
  },
  {
   "cell_type": "code",
   "execution_count": 2,
   "id": "538d1f67-105d-4759-9a5e-e34a898a5ec9",
   "metadata": {},
   "outputs": [],
   "source": [
    "import gradio as gr\n",
    "import tensorflow as tf\n",
    "import numpy as np\n",
    "import random"
   ]
  },
  {
   "cell_type": "code",
   "execution_count": 4,
   "id": "102d4d01-b65c-42fa-b2b9-aff79291d2c0",
   "metadata": {},
   "outputs": [],
   "source": [
    "# Sample labels and messages \n",
    "labels = ['toxicity', 'severe_toxicity', 'obscene', 'threat', 'insult', 'identity_attack', 'sexual_explicit']\n",
    "awareness_messages = {\n",
    "    'toxicity': [\n",
    "        \"Toxic comments can deeply hurt others—choose empathy.\",\n",
    "        \"What you say online matters. Avoid spreading negativity.\",\n",
    "        \"Toxicity can damage communities. Lead with kindness.\",\n",
    "    ],\n",
    "    'severe_toxicity': [\n",
    "        \"This level of toxicity can be extremely harmful. Please reconsider your words.\",\n",
    "        \"Such extreme language might get flagged or reported—stay respectful.\",\n",
    "        \"Severe toxicity can lead to serious consequences, even legal action.\",\n",
    "    ],\n",
    "    'obscene': [\n",
    "        \"Obscene language can make others uncomfortable. Let's keep it respectful.\",\n",
    "        \"Using vulgar terms doesn't strengthen your point.\",\n",
    "        \"Consider expressing yourself in a cleaner way.\",\n",
    "    ],\n",
    "    'threat': [\n",
    "        \"Threats aren't just harmful—they can be illegal.\",\n",
    "        \"Making others feel unsafe is never acceptable.\",\n",
    "        \"This might be interpreted as a threat. Please stay kind.\",\n",
    "    ],\n",
    "    'insult': [\n",
    "        \"Insulting others reflects poorly on you, not them.\",\n",
    "        \"Words can wound. Please avoid using personal attacks.\",\n",
    "        \"Disagreements are okay—insults are not.\",\n",
    "    ],\n",
    "    'identity_attack': [\n",
    "        \"Targeting someone's identity promotes hate. Please don't.\",\n",
    "        \"Disrespecting who someone is can leave lifelong scars.\",\n",
    "        \"We are all different. Let's celebrate that—not attack it.\",\n",
    "    ],\n",
    "    'sexual_explicit': [\n",
    "        \"Explicit content might not be appropriate for all audiences.\",\n",
    "        \"Sexual language can cross boundaries—respect others' comfort zones.\",\n",
    "        \"Please consider whether this message is suitable for public discussion.\",\n",
    "    ],\n",
    "}"
   ]
  },
  {
   "cell_type": "code",
   "execution_count": 12,
   "id": "c938e577-c27d-41d7-ba6b-86cba67ee6c9",
   "metadata": {},
   "outputs": [
    {
     "name": "stdout",
     "output_type": "stream",
     "text": [
      "\u001b[1m1/1\u001b[0m \u001b[32m━━━━━━━━━━━━━━━━━━━━\u001b[0m\u001b[37m\u001b[0m \u001b[1m0s\u001b[0m 133ms/step\n"
     ]
    }
   ],
   "source": [
    "label_to_image = {\n",
    "    'toxicity': \"images/toxicity.PNG\",\n",
    "    'severe_toxicity': \"images/severe_toxicity.PNG\",\n",
    "    'obscene': \"images/obscene.PNG\",\n",
    "    'threat': \"images/threat.PNG\",\n",
    "    'insult': \"images/insult.PNG\",\n",
    "    'identity_attack': \"images/identity_attack.PNG\",\n",
    "    'sexual_explicit': \"images/sexual_explicit.PNG\"\n",
    "}"
   ]
  },
  {
   "cell_type": "code",
   "execution_count": 16,
   "id": "75b8fd2a-6d7c-4d90-ab0b-296e4bffcecc",
   "metadata": {},
   "outputs": [],
   "source": [
    "label_to_link_image = {\n",
    "    'toxicity': \"https://drive.google.com/uc?export=view&id=1VB-3ieR2i1-Kk3oJrfQI1AVSoBY9fV8g\",\n",
    "    'severe_toxicity': \"https://drive.google.com/uc?export=view&id=1LzXCKkyJaFK6H87cwGcn567lhVQ9I6bh\",\n",
    "    'obscene': \"https://drive.google.com/uc?export=view&id=1lO6Uwd1o4k1ujLKDcpUzW1wsxmxVi0Y0\",\n",
    "    'threat': \"https://drive.google.com/uc?export=view&id=1lk5EgFCvmoZi310Ih8_wKuGjhHzh_0Z1\",\n",
    "    'insult': \"https://drive.google.com/uc?export=view&id=1FtbDj3Eoy3F97uSdXhgjVsD61zc0H3T2\",\n",
    "    'identity_attack': \"https://drive.google.com/uc?export=view&id=1lENZaCcXCK_VIh689SMtHyn7msZYlfTR\",\n",
    "    'sexual_explicit': \"https://drive.google.com/uc?export=view&id=19bj0Vd-qF18TZ9fwhI7SCVBxB3rNXREe\"\n",
    "}"
   ]
  },
  {
   "cell_type": "code",
   "execution_count": 22,
   "id": "1c4673b9-b06c-4f3e-bca3-ea2e7614651d",
   "metadata": {},
   "outputs": [],
   "source": [
    "label_to_link_image2 = {\n",
    "    'toxicity': \"https://i.imgur.com/LYWCuH3.png\",\n",
    "    'severe_toxicity': \"https://i.imgur.com/YT8roF8.png\",\n",
    "    'obscene': \"https://i.imgur.com/Rkb3sYh.png\",\n",
    "    'threat': \"https://i.imgur.com/YmEEHJ1.png\",\n",
    "    'insult': \"https://i.imgur.com/A4iq2Km.png\",\n",
    "    'identity_attack': \"https://i.imgur.com/SjIAa6F.png\",\n",
    "    'sexual_explicit': \"https://i.imgur.com/pATebIx.png\"\n",
    "}"
   ]
  },
  {
   "cell_type": "code",
   "execution_count": 17,
   "id": "731b74fc-4420-46a5-9b75-4b586b1c1ca0",
   "metadata": {},
   "outputs": [],
   "source": [
    "# load model\n",
    "model = tf.keras.models.load_model(\"last_model.keras\", compile=False)\n"
   ]
  },
  {
   "cell_type": "code",
   "execution_count": 18,
   "id": "3702d79d-9c6a-4d26-9407-70a04c999bd5",
   "metadata": {},
   "outputs": [],
   "source": [
    "import numpy as np\n",
    "import pickle\n",
    "from tensorflow.keras.layers import TextVectorization"
   ]
  },
  {
   "cell_type": "code",
   "execution_count": 19,
   "id": "11537f2f-a55b-4ae9-a593-85f735517241",
   "metadata": {},
   "outputs": [],
   "source": [
    "# load vocabulary\n",
    "with open('vectorizer_vocabulary.pkl', 'rb') as f:\n",
    "    vocabulary = pickle.load(f)\n",
    "\n",
    "# Vectorizer setup from vocabulary\n",
    "MAX_WORDS = 40000  \n",
    "SEQUENCE_LENGTH = 600  \n",
    "\n",
    "vectorizer = TextVectorization(\n",
    "    max_tokens=MAX_WORDS,\n",
    "    output_sequence_length=SEQUENCE_LENGTH,\n",
    "    output_mode='int'\n",
    ")\n",
    "\n",
    "vectorizer.set_vocabulary(vocabulary)"
   ]
  },
  {
   "cell_type": "code",
   "execution_count": 65,
   "id": "e6eedb4b-1cb8-405f-8495-3c1fff5ab692",
   "metadata": {},
   "outputs": [],
   "source": [
    "def classify_and_advise(text):\n",
    "    X = vectorizer([text])\n",
    "    prediction = model.predict(X)[0]\n",
    "\n",
    "    detected_cards = []\n",
    "    for i, prob in enumerate(prediction):\n",
    "        if prob >= 0.5:\n",
    "            label = labels[i]\n",
    "            img_url = label_to_link_image2.get(label)\n",
    "            msg = random.choice(awareness_messages.get(label, [\"Be respectful online.\"]))\n",
    "            detected_cards.append(f\"\"\"\n",
    "            <div class='card'>\n",
    "                <img src=\"{img_url}\" alt=\"{label}\">\n",
    "                <h3 class='category-title'>{label.replace('_', ' ').title()}</h3>\n",
    "                <p class='category-msg'>{msg}</p>\n",
    "            </div>\n",
    "            \"\"\")\n",
    "\n",
    "    if not detected_cards:\n",
    "        return \"\"\"\n",
    "        <div style='display: flex; flex-direction: column; justify-content: center; align-items: center; padding: 40px; border-radius: 12px;'>\n",
    "            <img src=\"https://clipart-library.com/images/8cA6Ga9Ki.jpg\" alt=\"Good\" width='200' height='200' style='border-radius: 20px; box-shadow: 0 0 10px gray;'>\n",
    "            <h2 style='font-size: 30px;'>This comment looks safe and respectful!</h2>\n",
    "            <p style='font-size: 18px;'>Thanks for spreading positivity online </p>\n",
    "        </div>\n",
    "        \"\"\"\n",
    "\n",
    "   \n",
    "    return f\"\"\"\n",
    "    <style>\n",
    "        .card-container {{\n",
    "            display: flex;\n",
    "            flex-wrap: wrap;\n",
    "            justify-content: center;\n",
    "            gap: 20px;\n",
    "            margin-top: 20px;\n",
    "        }}\n",
    "        .card {{\n",
    "            width: 260px;\n",
    "            padding: 15px;\n",
    "            border-radius: 12px;\n",
    "            text-align: center;\n",
    "            box-shadow: 0 0 10px rgba(0,0,0,0.1);\n",
    "        }}\n",
    "        .card img {{\n",
    "            width: 200px;\n",
    "            height: 200px;  \n",
    "            object-fit: cover; \n",
    "            border-radius: 12px;\n",
    "            margin-bottom: 10px;\n",
    "        }}\n",
    "        .category-title {{\n",
    "            color: #cc0000 !important;\n",
    "            font-weight: bold;\n",
    "            font-size: 30px !important;\n",
    "            margin-bottom: 10px;\n",
    "        }}\n",
    "        .category-msg {{\n",
    "            font-size: 18px;  \n",
    "            font-family: Arial, sans-serif;\n",
    "        }}\n",
    "    </style>\n",
    "    <div class='card-container'>\n",
    "        {''.join(detected_cards)}\n",
    "    </div>\n",
    "    \"\"\""
   ]
  },
  {
   "cell_type": "code",
   "execution_count": 66,
   "id": "e222b6ea-1ffd-4f7c-b47d-9f94918d0c0c",
   "metadata": {},
   "outputs": [
    {
     "name": "stdout",
     "output_type": "stream",
     "text": [
      "Running on local URL:  http://127.0.0.1:7887\n",
      "Running on public URL: https://edf404f07a063c9cf5.gradio.live\n",
      "\n",
      "This share link expires in 72 hours. For free permanent hosting and GPU upgrades, run `gradio deploy` from Terminal to deploy to Spaces (https://huggingface.co/spaces)\n"
     ]
    },
    {
     "data": {
      "text/html": [
       "<div><iframe src=\"https://edf404f07a063c9cf5.gradio.live\" width=\"100%\" height=\"500\" allow=\"autoplay; camera; microphone; clipboard-read; clipboard-write;\" frameborder=\"0\" allowfullscreen></iframe></div>"
      ],
      "text/plain": [
       "<IPython.core.display.HTML object>"
      ]
     },
     "metadata": {},
     "output_type": "display_data"
    },
    {
     "data": {
      "text/plain": []
     },
     "execution_count": 66,
     "metadata": {},
     "output_type": "execute_result"
    },
    {
     "name": "stdout",
     "output_type": "stream",
     "text": [
      "\u001b[1m1/1\u001b[0m \u001b[32m━━━━━━━━━━━━━━━━━━━━\u001b[0m\u001b[37m\u001b[0m \u001b[1m0s\u001b[0m 80ms/step\n",
      "\u001b[1m1/1\u001b[0m \u001b[32m━━━━━━━━━━━━━━━━━━━━\u001b[0m\u001b[37m\u001b[0m \u001b[1m0s\u001b[0m 83ms/step\n",
      "\u001b[1m1/1\u001b[0m \u001b[32m━━━━━━━━━━━━━━━━━━━━\u001b[0m\u001b[37m\u001b[0m \u001b[1m0s\u001b[0m 67ms/step\n"
     ]
    }
   ],
   "source": [
    "# Define the Gradio interface\n",
    "with gr.Blocks() as demo:\n",
    "\n",
    "    gr.Markdown(\"<div style='text-align:center; color:#cc0000'><h1>Toxicity Detection Game</h1></div>\")\n",
    "    gr.Markdown(\"<div style='text-align:center;'><h3>Type a comment and see how toxic it is — and how it emotionally impacts others.</h3></div>\")\n",
    "\n",
    "    output_html = gr.HTML()\n",
    "    user_input = gr.Textbox(lines=4, placeholder=\"Write your comment here...\", label=\"Your Comment\")\n",
    "    analyze_button = gr.Button(\"Analyze Comment\")\n",
    "\n",
    "    analyze_button.click(classify_and_advise, inputs=user_input, outputs=output_html)\n",
    "\n",
    "demo.launch(share=True)"
   ]
  },
  {
   "cell_type": "code",
   "execution_count": null,
   "id": "665209b2-6d09-451f-872c-25c96924e842",
   "metadata": {},
   "outputs": [],
   "source": []
  }
 ],
 "metadata": {
  "kernelspec": {
   "display_name": "Python (toxicityPython39)",
   "language": "python",
   "name": "toxicitypython39"
  },
  "language_info": {
   "codemirror_mode": {
    "name": "ipython",
    "version": 3
   },
   "file_extension": ".py",
   "mimetype": "text/x-python",
   "name": "python",
   "nbconvert_exporter": "python",
   "pygments_lexer": "ipython3",
   "version": "3.9.13"
  }
 },
 "nbformat": 4,
 "nbformat_minor": 5
}
