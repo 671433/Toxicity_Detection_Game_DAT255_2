{
 "cells": [
  {
   "cell_type": "code",
   "execution_count": 1,
   "id": "0c622525-6018-41d2-9ebe-871b30e52fa2",
   "metadata": {},
   "outputs": [],
   "source": [
    "import pandas as pd\n",
    "import tensorflow as tf\n",
    "from tensorflow.keras.layers import TextVectorization\n",
    "from datasets import load_dataset"
   ]
  },
  {
   "cell_type": "code",
   "execution_count": 2,
   "id": "92f6d437-a243-4bd4-96d1-7119caaafa6e",
   "metadata": {},
   "outputs": [
    {
     "name": "stdout",
     "output_type": "stream",
     "text": [
      "{'text': \"This is so cool. It's like, 'would you want your mother to read this??' Really great idea, well done!\", 'toxicity': 0.0, 'severe_toxicity': 0.0, 'obscene': 0.0, 'threat': 0.0, 'insult': 0.0, 'identity_attack': 0.0, 'sexual_explicit': 0.0}\n"
     ]
    }
   ],
   "source": [
    "# Load civil_comments dataset\n",
    "dataset = load_dataset(\"google/civil_comments\")\n",
    "print(dataset['train'][0])"
   ]
  },
  {
   "cell_type": "code",
   "execution_count": 3,
   "id": "09614abb-744d-4d30-969c-dcce57a0e839",
   "metadata": {},
   "outputs": [],
   "source": [
    "# load data\n",
    "df = pd.DataFrame(dataset['train'])\n",
    "\n",
    "# multi-label\n",
    "labels = df[df.columns[2:]].values\n",
    "\n",
    "# texts\n",
    "texts = df['text'].astype(str).valuess\n"
   ]
  },
  {
   "cell_type": "code",
   "execution_count": 4,
   "id": "ddd74bb9-dde8-4a49-8c6d-bfe1c5ae461c",
   "metadata": {},
   "outputs": [],
   "source": [
    "import re\n",
    "\n",
    "def clean_text(text):\n",
    "    text = text.lower()\n",
    "    text = re.sub(r'\\d+', '', text)\n",
    "    text = re.sub(r'[^\\w\\s]', '', text)\n",
    "    return text\n",
    "\n",
    "# Apply cleaning\n",
    "df['text'] = df['text'].map(lambda x: clean_text(x))"
   ]
  },
  {
   "cell_type": "code",
   "execution_count": 5,
   "id": "90b9b337-033a-4f81-a18a-2e49f7ff0b70",
   "metadata": {},
   "outputs": [
    {
     "data": {
      "text/plain": [
       "np.int64(0)"
      ]
     },
     "execution_count": 5,
     "metadata": {},
     "output_type": "execute_result"
    }
   ],
   "source": [
    "df['text'].isnull().sum()"
   ]
  },
  {
   "cell_type": "code",
   "execution_count": 6,
   "id": "50b30c94-3a9a-4344-bb76-2d67b4526a89",
   "metadata": {},
   "outputs": [],
   "source": [
    "df = df[df['text'].str.strip() != '']"
   ]
  },
  {
   "cell_type": "code",
   "execution_count": 7,
   "id": "53f2cbb3-e1a7-4124-84c4-0e8f3f6e0231",
   "metadata": {},
   "outputs": [
    {
     "data": {
      "text/plain": [
       "1804874"
      ]
     },
     "execution_count": 7,
     "metadata": {},
     "output_type": "execute_result"
    }
   ],
   "source": [
    "len(texts)"
   ]
  },
  {
   "cell_type": "code",
   "execution_count": null,
   "id": "631d547d-8fda-4d5a-b2a7-8ee2ea0d4f22",
   "metadata": {},
   "outputs": [],
   "source": [
    "# Create a vectorizer\n",
    "vectorizer = TextVectorization(\n",
    "    max_tokens=20000,\n",
    "    output_sequence_length=300,  # Reduce length to reduce memory consumption\n",
    "    output_mode='int'\n",
    ")\n",
    "\n",
    "# Training the vectorizer on texts\n",
    "vectorizer.adapt(texts)"
   ]
  },
  {
   "cell_type": "code",
   "execution_count": null,
   "id": "e11a5dcc-0dc8-491b-886a-298bdae0b8be",
   "metadata": {},
   "outputs": [],
   "source": []
  },
  {
   "cell_type": "code",
   "execution_count": 70,
   "id": "d9011d77-1202-4527-9f4a-69d4b8885dd8",
   "metadata": {},
   "outputs": [],
   "source": [
    "from sklearn.model_selection import train_test_split\n",
    "\n",
    "texts_train, texts_temp, labels_train, labels_temp = train_test_split(\n",
    "    texts, labels, test_size=0.3, random_state=42)\n",
    "\n",
    "texts_val, texts_test, labels_val, labels_test = train_test_split(\n",
    "    texts_temp, labels_temp, test_size=1/3, random_state=42)\n",
    "\n",
    "# Create the datasets:\n",
    "train_ds = tf.data.Dataset.from_tensor_slices((texts_train, labels_train))\n",
    "val_ds = tf.data.Dataset.from_tensor_slices((texts_val, labels_val))\n",
    "test_ds = tf.data.Dataset.from_tensor_slices((texts_test, labels_test))\n",
    "\n",
    "AUTOTUNE = tf.data.AUTOTUNE\n",
    "\n",
    "def prepare(ds):\n",
    "    return ds.map(lambda x, y: (vectorizer(x), y), num_parallel_calls=AUTOTUNE)\\\n",
    "             .cache().shuffle(1805874).batch(32).prefetch(AUTOTUNE)\n",
    "\n",
    "train = prepare(train_ds)\n",
    "val = prepare(val_ds)\n",
    "test = prepare(test_ds)\n"
   ]
  },
  {
   "cell_type": "code",
   "execution_count": 9,
   "id": "485a0f4d-808e-4297-b70b-7c7b11b23a09",
   "metadata": {},
   "outputs": [],
   "source": [
    "# Convert data to Dataset\n",
    "dataset = tf.data.Dataset.from_tensor_slices((texts, labels))\n",
    "\n",
    "dataset = dataset.map(lambda x, y: (vectorizer(x), y), num_parallel_calls=tf.data.AUTOTUNE)\n",
    "\n",
    "# Data organization\n",
    "dataset = dataset.cache()\n",
    "dataset = dataset.shuffle(1805000)\n",
    "dataset = dataset.batch(32)\n",
    "dataset = dataset.prefetch(tf.data.AUTOTUNE)"
   ]
  },
  {
   "cell_type": "code",
   "execution_count": 13,
   "id": "1e753783-5987-43dc-b20d-c33ab1d3d5d8",
   "metadata": {},
   "outputs": [
    {
     "name": "stdout",
     "output_type": "stream",
     "text": [
      "x_batch shape: (32, 300)\n",
      "y_batch shape: (32, 6)\n"
     ]
    }
   ],
   "source": [
    "for x_batch, y_batch in dataset.take(1):\n",
    "    print(\"x_batch shape:\", x_batch.shape)\n",
    "    print(\"y_batch shape:\", y_batch.shape)\n",
    "\n"
   ]
  },
  {
   "cell_type": "code",
   "execution_count": 14,
   "id": "e030d52e-4ef6-4f9d-a28c-b4a8e0bb0960",
   "metadata": {},
   "outputs": [
    {
     "data": {
      "text/plain": [
       "56403"
      ]
     },
     "execution_count": 14,
     "metadata": {},
     "output_type": "execute_result"
    }
   ],
   "source": [
    "len(dataset)"
   ]
  },
  {
   "cell_type": "code",
   "execution_count": 16,
   "id": "ac7f599c-c64a-4f1e-bbf5-103f90100e73",
   "metadata": {},
   "outputs": [],
   "source": [
    "batch_X , batch_Y = dataset.as_numpy_iterator().next()"
   ]
  },
  {
   "cell_type": "code",
   "execution_count": 22,
   "id": "88e2449a-5ffd-43c5-af68-63a9708a165f",
   "metadata": {},
   "outputs": [
    {
     "data": {
      "text/plain": [
       "(32, 6)"
      ]
     },
     "execution_count": 22,
     "metadata": {},
     "output_type": "execute_result"
    }
   ],
   "source": [
    "batch_Y.shape"
   ]
  },
  {
   "cell_type": "code",
   "execution_count": 19,
   "id": "4cfde9cb-095e-4744-9595-c9166408dccb",
   "metadata": {},
   "outputs": [
    {
     "data": {
      "text/plain": [
       "(32, 300)"
      ]
     },
     "execution_count": 19,
     "metadata": {},
     "output_type": "execute_result"
    }
   ],
   "source": [
    "batch_X.shape"
   ]
  },
  {
   "cell_type": "code",
   "execution_count": 21,
   "id": "4c8315ea-788e-46b0-8ead-3a44b7fa3255",
   "metadata": {},
   "outputs": [],
   "source": [
    "train = dataset.take(int(len(dataset)*.7))\n",
    "val = dataset.skip(int(len(dataset)*.7)).take(int(len(dataset)*.2))\n",
    "test = dataset.skip(int(len(dataset)*.9)).take(int(len(dataset)*.1))"
   ]
  },
  {
   "cell_type": "code",
   "execution_count": 23,
   "id": "01a9a5c5-b308-47e8-9a7a-3ecfe15fac31",
   "metadata": {},
   "outputs": [],
   "source": [
    "from tensorflow.keras.models import Sequential\n",
    "from tensorflow.keras.layers import Input, LSTM, Dropout, Bidirectional, Dense, Embedding"
   ]
  },
  {
   "cell_type": "code",
   "execution_count": 24,
   "id": "3ee5cc65-3ea8-4502-9b4b-98eb31c8c3fd",
   "metadata": {},
   "outputs": [],
   "source": [
    "model = Sequential()\n",
    "model.add(Input(shape=(300,))) \n",
    "# Create the embedding layer \n",
    "model.add(Embedding(20000+1, 32))\n",
    "# Bidirectional LSTM Layer\n",
    "model.add(Bidirectional(LSTM(32, activation='tanh')))\n",
    "# Feature extractor Fully connected layers\n",
    "model.add(Dense(128, activation='relu'))\n",
    "model.add(Dense(256, activation='relu'))\n",
    "model.add(Dense(128, activation='relu'))\n",
    "# Final layer \n",
    "model.add(Dense(6, activation='sigmoid'))"
   ]
  },
  {
   "cell_type": "code",
   "execution_count": 25,
   "id": "ee504250-8e33-4413-b15a-7795cc8aa629",
   "metadata": {},
   "outputs": [],
   "source": [
    "model.compile(loss='BinaryCrossentropy', optimizer='Adam')\n"
   ]
  },
  {
   "cell_type": "code",
   "execution_count": 26,
   "id": "b3441078-58d9-4032-bffd-11c72cf62334",
   "metadata": {
    "scrolled": true
   },
   "outputs": [
    {
     "data": {
      "text/html": [
       "<pre style=\"white-space:pre;overflow-x:auto;line-height:normal;font-family:Menlo,'DejaVu Sans Mono',consolas,'Courier New',monospace\"><span style=\"font-weight: bold\">Model: \"sequential\"</span>\n",
       "</pre>\n"
      ],
      "text/plain": [
       "\u001b[1mModel: \"sequential\"\u001b[0m\n"
      ]
     },
     "metadata": {},
     "output_type": "display_data"
    },
    {
     "data": {
      "text/html": [
       "<pre style=\"white-space:pre;overflow-x:auto;line-height:normal;font-family:Menlo,'DejaVu Sans Mono',consolas,'Courier New',monospace\">┏━━━━━━━━━━━━━━━━━━━━━━━━━━━━━━━━━━━━━━┳━━━━━━━━━━━━━━━━━━━━━━━━━━━━━┳━━━━━━━━━━━━━━━━━┓\n",
       "┃<span style=\"font-weight: bold\"> Layer (type)                         </span>┃<span style=\"font-weight: bold\"> Output Shape                </span>┃<span style=\"font-weight: bold\">         Param # </span>┃\n",
       "┡━━━━━━━━━━━━━━━━━━━━━━━━━━━━━━━━━━━━━━╇━━━━━━━━━━━━━━━━━━━━━━━━━━━━━╇━━━━━━━━━━━━━━━━━┩\n",
       "│ embedding (<span style=\"color: #0087ff; text-decoration-color: #0087ff\">Embedding</span>)                │ (<span style=\"color: #00d7ff; text-decoration-color: #00d7ff\">None</span>, <span style=\"color: #00af00; text-decoration-color: #00af00\">300</span>, <span style=\"color: #00af00; text-decoration-color: #00af00\">32</span>)             │         <span style=\"color: #00af00; text-decoration-color: #00af00\">640,032</span> │\n",
       "├──────────────────────────────────────┼─────────────────────────────┼─────────────────┤\n",
       "│ bidirectional (<span style=\"color: #0087ff; text-decoration-color: #0087ff\">Bidirectional</span>)        │ (<span style=\"color: #00d7ff; text-decoration-color: #00d7ff\">None</span>, <span style=\"color: #00af00; text-decoration-color: #00af00\">64</span>)                  │          <span style=\"color: #00af00; text-decoration-color: #00af00\">16,640</span> │\n",
       "├──────────────────────────────────────┼─────────────────────────────┼─────────────────┤\n",
       "│ dense (<span style=\"color: #0087ff; text-decoration-color: #0087ff\">Dense</span>)                        │ (<span style=\"color: #00d7ff; text-decoration-color: #00d7ff\">None</span>, <span style=\"color: #00af00; text-decoration-color: #00af00\">128</span>)                 │           <span style=\"color: #00af00; text-decoration-color: #00af00\">8,320</span> │\n",
       "├──────────────────────────────────────┼─────────────────────────────┼─────────────────┤\n",
       "│ dense_1 (<span style=\"color: #0087ff; text-decoration-color: #0087ff\">Dense</span>)                      │ (<span style=\"color: #00d7ff; text-decoration-color: #00d7ff\">None</span>, <span style=\"color: #00af00; text-decoration-color: #00af00\">256</span>)                 │          <span style=\"color: #00af00; text-decoration-color: #00af00\">33,024</span> │\n",
       "├──────────────────────────────────────┼─────────────────────────────┼─────────────────┤\n",
       "│ dense_2 (<span style=\"color: #0087ff; text-decoration-color: #0087ff\">Dense</span>)                      │ (<span style=\"color: #00d7ff; text-decoration-color: #00d7ff\">None</span>, <span style=\"color: #00af00; text-decoration-color: #00af00\">128</span>)                 │          <span style=\"color: #00af00; text-decoration-color: #00af00\">32,896</span> │\n",
       "├──────────────────────────────────────┼─────────────────────────────┼─────────────────┤\n",
       "│ dense_3 (<span style=\"color: #0087ff; text-decoration-color: #0087ff\">Dense</span>)                      │ (<span style=\"color: #00d7ff; text-decoration-color: #00d7ff\">None</span>, <span style=\"color: #00af00; text-decoration-color: #00af00\">6</span>)                   │             <span style=\"color: #00af00; text-decoration-color: #00af00\">774</span> │\n",
       "└──────────────────────────────────────┴─────────────────────────────┴─────────────────┘\n",
       "</pre>\n"
      ],
      "text/plain": [
       "┏━━━━━━━━━━━━━━━━━━━━━━━━━━━━━━━━━━━━━━┳━━━━━━━━━━━━━━━━━━━━━━━━━━━━━┳━━━━━━━━━━━━━━━━━┓\n",
       "┃\u001b[1m \u001b[0m\u001b[1mLayer (type)                        \u001b[0m\u001b[1m \u001b[0m┃\u001b[1m \u001b[0m\u001b[1mOutput Shape               \u001b[0m\u001b[1m \u001b[0m┃\u001b[1m \u001b[0m\u001b[1m        Param #\u001b[0m\u001b[1m \u001b[0m┃\n",
       "┡━━━━━━━━━━━━━━━━━━━━━━━━━━━━━━━━━━━━━━╇━━━━━━━━━━━━━━━━━━━━━━━━━━━━━╇━━━━━━━━━━━━━━━━━┩\n",
       "│ embedding (\u001b[38;5;33mEmbedding\u001b[0m)                │ (\u001b[38;5;45mNone\u001b[0m, \u001b[38;5;34m300\u001b[0m, \u001b[38;5;34m32\u001b[0m)             │         \u001b[38;5;34m640,032\u001b[0m │\n",
       "├──────────────────────────────────────┼─────────────────────────────┼─────────────────┤\n",
       "│ bidirectional (\u001b[38;5;33mBidirectional\u001b[0m)        │ (\u001b[38;5;45mNone\u001b[0m, \u001b[38;5;34m64\u001b[0m)                  │          \u001b[38;5;34m16,640\u001b[0m │\n",
       "├──────────────────────────────────────┼─────────────────────────────┼─────────────────┤\n",
       "│ dense (\u001b[38;5;33mDense\u001b[0m)                        │ (\u001b[38;5;45mNone\u001b[0m, \u001b[38;5;34m128\u001b[0m)                 │           \u001b[38;5;34m8,320\u001b[0m │\n",
       "├──────────────────────────────────────┼─────────────────────────────┼─────────────────┤\n",
       "│ dense_1 (\u001b[38;5;33mDense\u001b[0m)                      │ (\u001b[38;5;45mNone\u001b[0m, \u001b[38;5;34m256\u001b[0m)                 │          \u001b[38;5;34m33,024\u001b[0m │\n",
       "├──────────────────────────────────────┼─────────────────────────────┼─────────────────┤\n",
       "│ dense_2 (\u001b[38;5;33mDense\u001b[0m)                      │ (\u001b[38;5;45mNone\u001b[0m, \u001b[38;5;34m128\u001b[0m)                 │          \u001b[38;5;34m32,896\u001b[0m │\n",
       "├──────────────────────────────────────┼─────────────────────────────┼─────────────────┤\n",
       "│ dense_3 (\u001b[38;5;33mDense\u001b[0m)                      │ (\u001b[38;5;45mNone\u001b[0m, \u001b[38;5;34m6\u001b[0m)                   │             \u001b[38;5;34m774\u001b[0m │\n",
       "└──────────────────────────────────────┴─────────────────────────────┴─────────────────┘\n"
      ]
     },
     "metadata": {},
     "output_type": "display_data"
    },
    {
     "data": {
      "text/html": [
       "<pre style=\"white-space:pre;overflow-x:auto;line-height:normal;font-family:Menlo,'DejaVu Sans Mono',consolas,'Courier New',monospace\"><span style=\"font-weight: bold\"> Total params: </span><span style=\"color: #00af00; text-decoration-color: #00af00\">731,686</span> (2.79 MB)\n",
       "</pre>\n"
      ],
      "text/plain": [
       "\u001b[1m Total params: \u001b[0m\u001b[38;5;34m731,686\u001b[0m (2.79 MB)\n"
      ]
     },
     "metadata": {},
     "output_type": "display_data"
    },
    {
     "data": {
      "text/html": [
       "<pre style=\"white-space:pre;overflow-x:auto;line-height:normal;font-family:Menlo,'DejaVu Sans Mono',consolas,'Courier New',monospace\"><span style=\"font-weight: bold\"> Trainable params: </span><span style=\"color: #00af00; text-decoration-color: #00af00\">731,686</span> (2.79 MB)\n",
       "</pre>\n"
      ],
      "text/plain": [
       "\u001b[1m Trainable params: \u001b[0m\u001b[38;5;34m731,686\u001b[0m (2.79 MB)\n"
      ]
     },
     "metadata": {},
     "output_type": "display_data"
    },
    {
     "data": {
      "text/html": [
       "<pre style=\"white-space:pre;overflow-x:auto;line-height:normal;font-family:Menlo,'DejaVu Sans Mono',consolas,'Courier New',monospace\"><span style=\"font-weight: bold\"> Non-trainable params: </span><span style=\"color: #00af00; text-decoration-color: #00af00\">0</span> (0.00 B)\n",
       "</pre>\n"
      ],
      "text/plain": [
       "\u001b[1m Non-trainable params: \u001b[0m\u001b[38;5;34m0\u001b[0m (0.00 B)\n"
      ]
     },
     "metadata": {},
     "output_type": "display_data"
    }
   ],
   "source": [
    "model.summary()"
   ]
  },
  {
   "cell_type": "code",
   "execution_count": 27,
   "id": "041726f1-de98-4cdc-ab29-1957a3b26185",
   "metadata": {
    "scrolled": true
   },
   "outputs": [
    {
     "name": "stdout",
     "output_type": "stream",
     "text": [
      "Epoch 1/5\n",
      "\u001b[1m  582/39482\u001b[0m \u001b[37m━━━━━━━━━━━━━━━━━━━━\u001b[0m \u001b[1m1:21:43\u001b[0m 126ms/step - loss: 0.1548"
     ]
    },
    {
     "ename": "InvalidArgumentError",
     "evalue": "Graph execution error:\n\nDetected at node IteratorGetNext defined at (most recent call last):\n  File \"C:\\Users\\tamer\\AppData\\Local\\Programs\\Python\\Python39\\lib\\runpy.py\", line 197, in _run_module_as_main\n\n  File \"C:\\Users\\tamer\\AppData\\Local\\Programs\\Python\\Python39\\lib\\runpy.py\", line 87, in _run_code\n\n  File \"C:\\Users\\tamer\\OneDrive - Høgskulen på Vestlandet\\Dokumenter\\3 År\\DAT255 Deep learning\\toxicity2\\toxicityPython39\\lib\\site-packages\\ipykernel_launcher.py\", line 18, in <module>\n\n  File \"C:\\Users\\tamer\\OneDrive - Høgskulen på Vestlandet\\Dokumenter\\3 År\\DAT255 Deep learning\\toxicity2\\toxicityPython39\\lib\\site-packages\\traitlets\\config\\application.py\", line 1075, in launch_instance\n\n  File \"C:\\Users\\tamer\\OneDrive - Høgskulen på Vestlandet\\Dokumenter\\3 År\\DAT255 Deep learning\\toxicity2\\toxicityPython39\\lib\\site-packages\\ipykernel\\kernelapp.py\", line 739, in start\n\n  File \"C:\\Users\\tamer\\OneDrive - Høgskulen på Vestlandet\\Dokumenter\\3 År\\DAT255 Deep learning\\toxicity2\\toxicityPython39\\lib\\site-packages\\tornado\\platform\\asyncio.py\", line 205, in start\n\n  File \"C:\\Users\\tamer\\AppData\\Local\\Programs\\Python\\Python39\\lib\\asyncio\\base_events.py\", line 601, in run_forever\n\n  File \"C:\\Users\\tamer\\AppData\\Local\\Programs\\Python\\Python39\\lib\\asyncio\\base_events.py\", line 1905, in _run_once\n\n  File \"C:\\Users\\tamer\\AppData\\Local\\Programs\\Python\\Python39\\lib\\asyncio\\events.py\", line 80, in _run\n\n  File \"C:\\Users\\tamer\\OneDrive - Høgskulen på Vestlandet\\Dokumenter\\3 År\\DAT255 Deep learning\\toxicity2\\toxicityPython39\\lib\\site-packages\\ipykernel\\kernelbase.py\", line 545, in dispatch_queue\n\n  File \"C:\\Users\\tamer\\OneDrive - Høgskulen på Vestlandet\\Dokumenter\\3 År\\DAT255 Deep learning\\toxicity2\\toxicityPython39\\lib\\site-packages\\ipykernel\\kernelbase.py\", line 534, in process_one\n\n  File \"C:\\Users\\tamer\\OneDrive - Høgskulen på Vestlandet\\Dokumenter\\3 År\\DAT255 Deep learning\\toxicity2\\toxicityPython39\\lib\\site-packages\\ipykernel\\kernelbase.py\", line 437, in dispatch_shell\n\n  File \"C:\\Users\\tamer\\OneDrive - Høgskulen på Vestlandet\\Dokumenter\\3 År\\DAT255 Deep learning\\toxicity2\\toxicityPython39\\lib\\site-packages\\ipykernel\\ipkernel.py\", line 362, in execute_request\n\n  File \"C:\\Users\\tamer\\OneDrive - Høgskulen på Vestlandet\\Dokumenter\\3 År\\DAT255 Deep learning\\toxicity2\\toxicityPython39\\lib\\site-packages\\ipykernel\\kernelbase.py\", line 778, in execute_request\n\n  File \"C:\\Users\\tamer\\OneDrive - Høgskulen på Vestlandet\\Dokumenter\\3 År\\DAT255 Deep learning\\toxicity2\\toxicityPython39\\lib\\site-packages\\ipykernel\\ipkernel.py\", line 449, in do_execute\n\n  File \"C:\\Users\\tamer\\OneDrive - Høgskulen på Vestlandet\\Dokumenter\\3 År\\DAT255 Deep learning\\toxicity2\\toxicityPython39\\lib\\site-packages\\ipykernel\\zmqshell.py\", line 549, in run_cell\n\n  File \"C:\\Users\\tamer\\OneDrive - Høgskulen på Vestlandet\\Dokumenter\\3 År\\DAT255 Deep learning\\toxicity2\\toxicityPython39\\lib\\site-packages\\IPython\\core\\interactiveshell.py\", line 3048, in run_cell\n\n  File \"C:\\Users\\tamer\\OneDrive - Høgskulen på Vestlandet\\Dokumenter\\3 År\\DAT255 Deep learning\\toxicity2\\toxicityPython39\\lib\\site-packages\\IPython\\core\\interactiveshell.py\", line 3103, in _run_cell\n\n  File \"C:\\Users\\tamer\\OneDrive - Høgskulen på Vestlandet\\Dokumenter\\3 År\\DAT255 Deep learning\\toxicity2\\toxicityPython39\\lib\\site-packages\\IPython\\core\\async_helpers.py\", line 129, in _pseudo_sync_runner\n\n  File \"C:\\Users\\tamer\\OneDrive - Høgskulen på Vestlandet\\Dokumenter\\3 År\\DAT255 Deep learning\\toxicity2\\toxicityPython39\\lib\\site-packages\\IPython\\core\\interactiveshell.py\", line 3308, in run_cell_async\n\n  File \"C:\\Users\\tamer\\OneDrive - Høgskulen på Vestlandet\\Dokumenter\\3 År\\DAT255 Deep learning\\toxicity2\\toxicityPython39\\lib\\site-packages\\IPython\\core\\interactiveshell.py\", line 3490, in run_ast_nodes\n\n  File \"C:\\Users\\tamer\\OneDrive - Høgskulen på Vestlandet\\Dokumenter\\3 År\\DAT255 Deep learning\\toxicity2\\toxicityPython39\\lib\\site-packages\\IPython\\core\\interactiveshell.py\", line 3550, in run_code\n\n  File \"C:\\Users\\tamer\\AppData\\Local\\Temp\\ipykernel_16992\\3688202450.py\", line 1, in <module>\n\n  File \"C:\\Users\\tamer\\OneDrive - Høgskulen på Vestlandet\\Dokumenter\\3 År\\DAT255 Deep learning\\toxicity2\\toxicityPython39\\lib\\site-packages\\keras\\src\\utils\\traceback_utils.py\", line 117, in error_handler\n\n  File \"C:\\Users\\tamer\\OneDrive - Høgskulen på Vestlandet\\Dokumenter\\3 År\\DAT255 Deep learning\\toxicity2\\toxicityPython39\\lib\\site-packages\\keras\\src\\backend\\tensorflow\\trainer.py\", line 371, in fit\n\n  File \"C:\\Users\\tamer\\OneDrive - Høgskulen på Vestlandet\\Dokumenter\\3 År\\DAT255 Deep learning\\toxicity2\\toxicityPython39\\lib\\site-packages\\keras\\src\\backend\\tensorflow\\trainer.py\", line 219, in function\n\n  File \"C:\\Users\\tamer\\OneDrive - Høgskulen på Vestlandet\\Dokumenter\\3 År\\DAT255 Deep learning\\toxicity2\\toxicityPython39\\lib\\site-packages\\keras\\src\\backend\\tensorflow\\trainer.py\", line 132, in multi_step_on_iterator\n\nCannot batch tensors with different shapes in component 0. First element had shape [300] and element 10 had shape [0].\n\t [[{{node IteratorGetNext}}]] [Op:__inference_multi_step_on_iterator_5097]",
     "output_type": "error",
     "traceback": [
      "\u001b[1;31m---------------------------------------------------------------------------\u001b[0m",
      "\u001b[1;31mInvalidArgumentError\u001b[0m                      Traceback (most recent call last)",
      "Cell \u001b[1;32mIn[27], line 1\u001b[0m\n\u001b[1;32m----> 1\u001b[0m history \u001b[38;5;241m=\u001b[39m \u001b[43mmodel\u001b[49m\u001b[38;5;241;43m.\u001b[39;49m\u001b[43mfit\u001b[49m\u001b[43m(\u001b[49m\u001b[43mtrain\u001b[49m\u001b[43m,\u001b[49m\u001b[43m \u001b[49m\u001b[43mepochs\u001b[49m\u001b[38;5;241;43m=\u001b[39;49m\u001b[38;5;241;43m5\u001b[39;49m\u001b[43m,\u001b[49m\u001b[43m \u001b[49m\u001b[43mvalidation_data\u001b[49m\u001b[38;5;241;43m=\u001b[39;49m\u001b[43mval\u001b[49m\u001b[43m)\u001b[49m\n",
      "File \u001b[1;32m~\\OneDrive - Høgskulen på Vestlandet\\Dokumenter\\3 År\\DAT255 Deep learning\\toxicity2\\toxicityPython39\\lib\\site-packages\\keras\\src\\utils\\traceback_utils.py:122\u001b[0m, in \u001b[0;36mfilter_traceback.<locals>.error_handler\u001b[1;34m(*args, **kwargs)\u001b[0m\n\u001b[0;32m    119\u001b[0m     filtered_tb \u001b[38;5;241m=\u001b[39m _process_traceback_frames(e\u001b[38;5;241m.\u001b[39m__traceback__)\n\u001b[0;32m    120\u001b[0m     \u001b[38;5;66;03m# To get the full stack trace, call:\u001b[39;00m\n\u001b[0;32m    121\u001b[0m     \u001b[38;5;66;03m# `keras.config.disable_traceback_filtering()`\u001b[39;00m\n\u001b[1;32m--> 122\u001b[0m     \u001b[38;5;28;01mraise\u001b[39;00m e\u001b[38;5;241m.\u001b[39mwith_traceback(filtered_tb) \u001b[38;5;28;01mfrom\u001b[39;00m\u001b[38;5;250m \u001b[39m\u001b[38;5;28;01mNone\u001b[39;00m\n\u001b[0;32m    123\u001b[0m \u001b[38;5;28;01mfinally\u001b[39;00m:\n\u001b[0;32m    124\u001b[0m     \u001b[38;5;28;01mdel\u001b[39;00m filtered_tb\n",
      "File \u001b[1;32m~\\OneDrive - Høgskulen på Vestlandet\\Dokumenter\\3 År\\DAT255 Deep learning\\toxicity2\\toxicityPython39\\lib\\site-packages\\tensorflow\\python\\eager\\execute.py:53\u001b[0m, in \u001b[0;36mquick_execute\u001b[1;34m(op_name, num_outputs, inputs, attrs, ctx, name)\u001b[0m\n\u001b[0;32m     51\u001b[0m \u001b[38;5;28;01mtry\u001b[39;00m:\n\u001b[0;32m     52\u001b[0m   ctx\u001b[38;5;241m.\u001b[39mensure_initialized()\n\u001b[1;32m---> 53\u001b[0m   tensors \u001b[38;5;241m=\u001b[39m pywrap_tfe\u001b[38;5;241m.\u001b[39mTFE_Py_Execute(ctx\u001b[38;5;241m.\u001b[39m_handle, device_name, op_name,\n\u001b[0;32m     54\u001b[0m                                       inputs, attrs, num_outputs)\n\u001b[0;32m     55\u001b[0m \u001b[38;5;28;01mexcept\u001b[39;00m core\u001b[38;5;241m.\u001b[39m_NotOkStatusException \u001b[38;5;28;01mas\u001b[39;00m e:\n\u001b[0;32m     56\u001b[0m   \u001b[38;5;28;01mif\u001b[39;00m name \u001b[38;5;129;01mis\u001b[39;00m \u001b[38;5;129;01mnot\u001b[39;00m \u001b[38;5;28;01mNone\u001b[39;00m:\n",
      "\u001b[1;31mInvalidArgumentError\u001b[0m: Graph execution error:\n\nDetected at node IteratorGetNext defined at (most recent call last):\n  File \"C:\\Users\\tamer\\AppData\\Local\\Programs\\Python\\Python39\\lib\\runpy.py\", line 197, in _run_module_as_main\n\n  File \"C:\\Users\\tamer\\AppData\\Local\\Programs\\Python\\Python39\\lib\\runpy.py\", line 87, in _run_code\n\n  File \"C:\\Users\\tamer\\OneDrive - Høgskulen på Vestlandet\\Dokumenter\\3 År\\DAT255 Deep learning\\toxicity2\\toxicityPython39\\lib\\site-packages\\ipykernel_launcher.py\", line 18, in <module>\n\n  File \"C:\\Users\\tamer\\OneDrive - Høgskulen på Vestlandet\\Dokumenter\\3 År\\DAT255 Deep learning\\toxicity2\\toxicityPython39\\lib\\site-packages\\traitlets\\config\\application.py\", line 1075, in launch_instance\n\n  File \"C:\\Users\\tamer\\OneDrive - Høgskulen på Vestlandet\\Dokumenter\\3 År\\DAT255 Deep learning\\toxicity2\\toxicityPython39\\lib\\site-packages\\ipykernel\\kernelapp.py\", line 739, in start\n\n  File \"C:\\Users\\tamer\\OneDrive - Høgskulen på Vestlandet\\Dokumenter\\3 År\\DAT255 Deep learning\\toxicity2\\toxicityPython39\\lib\\site-packages\\tornado\\platform\\asyncio.py\", line 205, in start\n\n  File \"C:\\Users\\tamer\\AppData\\Local\\Programs\\Python\\Python39\\lib\\asyncio\\base_events.py\", line 601, in run_forever\n\n  File \"C:\\Users\\tamer\\AppData\\Local\\Programs\\Python\\Python39\\lib\\asyncio\\base_events.py\", line 1905, in _run_once\n\n  File \"C:\\Users\\tamer\\AppData\\Local\\Programs\\Python\\Python39\\lib\\asyncio\\events.py\", line 80, in _run\n\n  File \"C:\\Users\\tamer\\OneDrive - Høgskulen på Vestlandet\\Dokumenter\\3 År\\DAT255 Deep learning\\toxicity2\\toxicityPython39\\lib\\site-packages\\ipykernel\\kernelbase.py\", line 545, in dispatch_queue\n\n  File \"C:\\Users\\tamer\\OneDrive - Høgskulen på Vestlandet\\Dokumenter\\3 År\\DAT255 Deep learning\\toxicity2\\toxicityPython39\\lib\\site-packages\\ipykernel\\kernelbase.py\", line 534, in process_one\n\n  File \"C:\\Users\\tamer\\OneDrive - Høgskulen på Vestlandet\\Dokumenter\\3 År\\DAT255 Deep learning\\toxicity2\\toxicityPython39\\lib\\site-packages\\ipykernel\\kernelbase.py\", line 437, in dispatch_shell\n\n  File \"C:\\Users\\tamer\\OneDrive - Høgskulen på Vestlandet\\Dokumenter\\3 År\\DAT255 Deep learning\\toxicity2\\toxicityPython39\\lib\\site-packages\\ipykernel\\ipkernel.py\", line 362, in execute_request\n\n  File \"C:\\Users\\tamer\\OneDrive - Høgskulen på Vestlandet\\Dokumenter\\3 År\\DAT255 Deep learning\\toxicity2\\toxicityPython39\\lib\\site-packages\\ipykernel\\kernelbase.py\", line 778, in execute_request\n\n  File \"C:\\Users\\tamer\\OneDrive - Høgskulen på Vestlandet\\Dokumenter\\3 År\\DAT255 Deep learning\\toxicity2\\toxicityPython39\\lib\\site-packages\\ipykernel\\ipkernel.py\", line 449, in do_execute\n\n  File \"C:\\Users\\tamer\\OneDrive - Høgskulen på Vestlandet\\Dokumenter\\3 År\\DAT255 Deep learning\\toxicity2\\toxicityPython39\\lib\\site-packages\\ipykernel\\zmqshell.py\", line 549, in run_cell\n\n  File \"C:\\Users\\tamer\\OneDrive - Høgskulen på Vestlandet\\Dokumenter\\3 År\\DAT255 Deep learning\\toxicity2\\toxicityPython39\\lib\\site-packages\\IPython\\core\\interactiveshell.py\", line 3048, in run_cell\n\n  File \"C:\\Users\\tamer\\OneDrive - Høgskulen på Vestlandet\\Dokumenter\\3 År\\DAT255 Deep learning\\toxicity2\\toxicityPython39\\lib\\site-packages\\IPython\\core\\interactiveshell.py\", line 3103, in _run_cell\n\n  File \"C:\\Users\\tamer\\OneDrive - Høgskulen på Vestlandet\\Dokumenter\\3 År\\DAT255 Deep learning\\toxicity2\\toxicityPython39\\lib\\site-packages\\IPython\\core\\async_helpers.py\", line 129, in _pseudo_sync_runner\n\n  File \"C:\\Users\\tamer\\OneDrive - Høgskulen på Vestlandet\\Dokumenter\\3 År\\DAT255 Deep learning\\toxicity2\\toxicityPython39\\lib\\site-packages\\IPython\\core\\interactiveshell.py\", line 3308, in run_cell_async\n\n  File \"C:\\Users\\tamer\\OneDrive - Høgskulen på Vestlandet\\Dokumenter\\3 År\\DAT255 Deep learning\\toxicity2\\toxicityPython39\\lib\\site-packages\\IPython\\core\\interactiveshell.py\", line 3490, in run_ast_nodes\n\n  File \"C:\\Users\\tamer\\OneDrive - Høgskulen på Vestlandet\\Dokumenter\\3 År\\DAT255 Deep learning\\toxicity2\\toxicityPython39\\lib\\site-packages\\IPython\\core\\interactiveshell.py\", line 3550, in run_code\n\n  File \"C:\\Users\\tamer\\AppData\\Local\\Temp\\ipykernel_16992\\3688202450.py\", line 1, in <module>\n\n  File \"C:\\Users\\tamer\\OneDrive - Høgskulen på Vestlandet\\Dokumenter\\3 År\\DAT255 Deep learning\\toxicity2\\toxicityPython39\\lib\\site-packages\\keras\\src\\utils\\traceback_utils.py\", line 117, in error_handler\n\n  File \"C:\\Users\\tamer\\OneDrive - Høgskulen på Vestlandet\\Dokumenter\\3 År\\DAT255 Deep learning\\toxicity2\\toxicityPython39\\lib\\site-packages\\keras\\src\\backend\\tensorflow\\trainer.py\", line 371, in fit\n\n  File \"C:\\Users\\tamer\\OneDrive - Høgskulen på Vestlandet\\Dokumenter\\3 År\\DAT255 Deep learning\\toxicity2\\toxicityPython39\\lib\\site-packages\\keras\\src\\backend\\tensorflow\\trainer.py\", line 219, in function\n\n  File \"C:\\Users\\tamer\\OneDrive - Høgskulen på Vestlandet\\Dokumenter\\3 År\\DAT255 Deep learning\\toxicity2\\toxicityPython39\\lib\\site-packages\\keras\\src\\backend\\tensorflow\\trainer.py\", line 132, in multi_step_on_iterator\n\nCannot batch tensors with different shapes in component 0. First element had shape [300] and element 10 had shape [0].\n\t [[{{node IteratorGetNext}}]] [Op:__inference_multi_step_on_iterator_5097]"
     ]
    }
   ],
   "source": [
    "history = model.fit(train, epochs=5, validation_data=val)"
   ]
  },
  {
   "cell_type": "code",
   "execution_count": null,
   "id": "d7b62368-ec62-42cf-be67-ed9aaceb4e2f",
   "metadata": {},
   "outputs": [],
   "source": [
    "from matplotlib import pyplot as plt\n",
    "plt.figure(figsize=(8,5))\n",
    "pd.DataFrame(history.history).plot()\n",
    "plt.show()"
   ]
  }
 ],
 "metadata": {
  "kernelspec": {
   "display_name": "Python (toxicityPython39)",
   "language": "python",
   "name": "toxicitypython39"
  },
  "language_info": {
   "codemirror_mode": {
    "name": "ipython",
    "version": 3
   },
   "file_extension": ".py",
   "mimetype": "text/x-python",
   "name": "python",
   "nbconvert_exporter": "python",
   "pygments_lexer": "ipython3",
   "version": "3.9.13"
  }
 },
 "nbformat": 4,
 "nbformat_minor": 5
}
