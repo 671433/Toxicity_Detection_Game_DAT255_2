{
 "cells": [
  {
   "cell_type": "code",
   "execution_count": 1,
   "id": "1db4aa32-b184-419a-a262-80d4d6f4e2a4",
   "metadata": {},
   "outputs": [],
   "source": [
    "import pandas as pd\n",
    "import tensorflow as tf\n",
    "from tensorflow.keras.layers import TextVectorization\n",
    "from datasets import load_dataset"
   ]
  },
  {
   "cell_type": "code",
   "execution_count": 2,
   "id": "6a3704cc-a214-435e-ace6-e1b87d839c05",
   "metadata": {},
   "outputs": [
    {
     "name": "stdout",
     "output_type": "stream",
     "text": [
      "{'text': \"This is so cool. It's like, 'would you want your mother to read this??' Really great idea, well done!\", 'toxicity': 0.0, 'severe_toxicity': 0.0, 'obscene': 0.0, 'threat': 0.0, 'insult': 0.0, 'identity_attack': 0.0, 'sexual_explicit': 0.0}\n"
     ]
    }
   ],
   "source": [
    "# Load civil_comments dataset\n",
    "dataset = load_dataset(\"google/civil_comments\")\n",
    "print(dataset['train'][0])"
   ]
  },
  {
   "cell_type": "code",
   "execution_count": 3,
   "id": "2bce068b-0ac8-4c10-bf69-bab2f4e311ae",
   "metadata": {},
   "outputs": [],
   "source": [
    "# load data\n",
    "df = pd.DataFrame(dataset['train'])\n",
    "\n",
    "# multi-label\n",
    "labels = df[df.columns[2:]].values\n",
    "\n",
    "# texts\n",
    "texts = df['text'].astype(str).values"
   ]
  },
  {
   "cell_type": "code",
   "execution_count": 4,
   "id": "d83bcc9c-f455-4234-9a19-6f3f284bbf4a",
   "metadata": {},
   "outputs": [],
   "source": [
    "import re\n",
    "\n",
    "def clean_text(text):\n",
    "    text = text.lower()\n",
    "    text = re.sub(r'\\d+', '', text)\n",
    "    text = re.sub(r'[^\\w\\s]', '', text)\n",
    "    return text\n",
    "\n",
    "# Apply cleaning\n",
    "df['text'] = df['text'].map(lambda x: clean_text(x))"
   ]
  },
  {
   "cell_type": "code",
   "execution_count": 5,
   "id": "7bec88fe-9a76-498c-a566-7bd3f45573ed",
   "metadata": {},
   "outputs": [
    {
     "data": {
      "text/plain": [
       "np.int64(0)"
      ]
     },
     "execution_count": 5,
     "metadata": {},
     "output_type": "execute_result"
    }
   ],
   "source": [
    "df['text'].isnull().sum()"
   ]
  },
  {
   "cell_type": "code",
   "execution_count": 6,
   "id": "316011a5-9fe0-4c76-a7ed-0642ee1d7bb9",
   "metadata": {},
   "outputs": [
    {
     "name": "stdout",
     "output_type": "stream",
     "text": [
      "Number of values ​​that equal an empty string: 339\n"
     ]
    }
   ],
   "source": [
    "is_empty_string = df['text'] == ''\n",
    "count_empty_string = is_empty_string.sum()\n",
    "print(\"Number of values ​​that equal an empty string:\", count_empty_string)"
   ]
  },
  {
   "cell_type": "code",
   "execution_count": 7,
   "id": "22ff1087-77cf-436e-af90-e6868e0a7d02",
   "metadata": {},
   "outputs": [
    {
     "name": "stdout",
     "output_type": "stream",
     "text": [
      "DataFrame containing empty text:\n",
      "         text  toxicity  severe_toxicity  obscene  threat  insult  \\\n",
      "276                0.1              0.0      0.0     0.0     0.0   \n",
      "316                0.0              0.0      0.0     0.0     0.0   \n",
      "10598              0.0              0.0      0.0     0.0     0.0   \n",
      "20487              0.0              0.0      0.0     0.0     0.0   \n",
      "33283              0.0              0.0      0.0     0.0     0.0   \n",
      "...      ...       ...              ...      ...     ...     ...   \n",
      "1766576            0.0              0.0      0.0     0.0     0.0   \n",
      "1767014            0.0              0.0      0.0     0.0     0.0   \n",
      "1785002            0.0              0.0      0.0     0.0     0.0   \n",
      "1795472            0.0              0.0      0.0     0.0     0.0   \n",
      "1796225            0.0              0.0      0.0     0.0     0.0   \n",
      "\n",
      "         identity_attack  sexual_explicit  \n",
      "276                  0.0              0.1  \n",
      "316                  0.0              0.0  \n",
      "10598                0.0              0.0  \n",
      "20487                0.0              0.0  \n",
      "33283                0.0              0.0  \n",
      "...                  ...              ...  \n",
      "1766576              0.0              0.0  \n",
      "1767014              0.0              0.0  \n",
      "1785002              0.0              0.0  \n",
      "1795472              0.0              0.0  \n",
      "1796225              0.0              0.0  \n",
      "\n",
      "[339 rows x 8 columns]\n"
     ]
    }
   ],
   "source": [
    "empty_string_df = df[is_empty_string]\n",
    "print(\"DataFrame containing empty text:\\n\", empty_string_df)\n"
   ]
  },
  {
   "cell_type": "code",
   "execution_count": 8,
   "id": "dabd4f95-5bd8-4480-bb6f-107f11e2f0aa",
   "metadata": {},
   "outputs": [
    {
     "name": "stdout",
     "output_type": "stream",
     "text": [
      "Number of rows with empty string in 'text': 339\n"
     ]
    }
   ],
   "source": [
    "empty_string_rows = df[df['text'] == '']\n",
    "print(f\"Number of rows with empty string in 'text': {len(empty_string_rows)}\")\n"
   ]
  },
  {
   "cell_type": "code",
   "execution_count": 9,
   "id": "4bd151cd-943b-4cc6-a806-6b8e25446105",
   "metadata": {},
   "outputs": [],
   "source": [
    "# Remove the rows where text has an empty string\n",
    "df = df[df['text'] != '']"
   ]
  },
  {
   "cell_type": "code",
   "execution_count": 10,
   "id": "9d93f2ed-7e86-4a4c-b96d-78b9b2e383c7",
   "metadata": {},
   "outputs": [
    {
     "name": "stdout",
     "output_type": "stream",
     "text": [
      "Number of rows with empty string in 'text': 0\n"
     ]
    }
   ],
   "source": [
    "empty_string_rows = df[df['text'] == '']\n",
    "print(f\"Number of rows with empty string in 'text': {len(empty_string_rows)}\")\n"
   ]
  },
  {
   "cell_type": "code",
   "execution_count": null,
   "id": "7924b95b-dc22-4764-9459-018fb48147fa",
   "metadata": {},
   "outputs": [],
   "source": []
  },
  {
   "cell_type": "code",
   "execution_count": null,
   "id": "edc4d6b7-37a2-475f-8ce4-eb633cc76f01",
   "metadata": {},
   "outputs": [],
   "source": [
    "vectorizer = TextVectorization(\n",
    "    max_tokens=20000,\n",
    "    output_sequence_length=300,  \n",
    "    output_mode='int'\n",
    ")\n",
    "\n",
    "vectorizer.adapt(texts)"
   ]
  },
  {
   "cell_type": "code",
   "execution_count": null,
   "id": "a9aa3330-8889-434b-9cb7-8b48d66482e1",
   "metadata": {},
   "outputs": [],
   "source": [
    "vectorizer('Hello, Deep learing is non eazy')"
   ]
  },
  {
   "cell_type": "code",
   "execution_count": null,
   "id": "c6a43bcf-f434-45ae-888d-dea771037fdd",
   "metadata": {},
   "outputs": [],
   "source": [
    "# Convert data to Dataset\n",
    "dataset = tf.data.Dataset.from_tensor_slices((texts, labels))\n",
    "\n",
    "# vectorizatio\n",
    "dataset = dataset.map(lambda x, y: (vectorizer(x), y), num_parallel_calls=tf.data.AUTOTUNE)\n",
    "\n",
    "# Data organization\n",
    "dataset = dataset.cache()\n",
    "dataset = dataset.shuffle(1805000)\n",
    "dataset = dataset.batch(32)\n",
    "dataset = dataset.prefetch(tf.data.AUTOTUNE)"
   ]
  },
  {
   "cell_type": "code",
   "execution_count": null,
   "id": "3425c962-9f07-4002-829f-d74206bed777",
   "metadata": {},
   "outputs": [],
   "source": [
    "for x_batch, y_batch in dataset.take(1):\n",
    "    print(\"x_batch shape:\", x_batch.shape)\n",
    "    print(\"y_batch shape:\", y_batch.shape)"
   ]
  },
  {
   "cell_type": "code",
   "execution_count": null,
   "id": "15abb17c-a6a6-48b0-ac07-c6e080f3110a",
   "metadata": {},
   "outputs": [],
   "source": [
    "len(dataset)"
   ]
  },
  {
   "cell_type": "code",
   "execution_count": null,
   "id": "8738b8bd-2d2b-4dae-a4ba-0330f785bba9",
   "metadata": {},
   "outputs": [],
   "source": [
    "batch_X , batch_Y = dataset.as_numpy_iterator().next()"
   ]
  },
  {
   "cell_type": "code",
   "execution_count": null,
   "id": "cbbda114-4e9b-43ca-93c8-fa3377525390",
   "metadata": {},
   "outputs": [],
   "source": [
    "batch_Y.shape"
   ]
  },
  {
   "cell_type": "code",
   "execution_count": null,
   "id": "a1b62074-5413-4c7f-bd4c-3d385092e3aa",
   "metadata": {},
   "outputs": [],
   "source": [
    "batch_X.shape"
   ]
  },
  {
   "cell_type": "code",
   "execution_count": null,
   "id": "e9e89f5e-1bee-4cad-b1a1-deefb9f1586d",
   "metadata": {},
   "outputs": [],
   "source": [
    "train = dataset.take(int(len(dataset)*.7))\n",
    "val = dataset.skip(int(len(dataset)*.7)).take(int(len(dataset)*.2))\n",
    "test = dataset.skip(int(len(dataset)*.9)).take(int(len(dataset)*.1))"
   ]
  },
  {
   "cell_type": "code",
   "execution_count": null,
   "id": "99a8ddd9-02db-4617-b9f9-ff3921fbd568",
   "metadata": {},
   "outputs": [],
   "source": [
    "from tensorflow.keras.models import Sequential\n",
    "from tensorflow.keras.layers import Input, LSTM, Dropout, Bidirectional, Dense, Embedding"
   ]
  },
  {
   "cell_type": "code",
   "execution_count": null,
   "id": "c9637264-c040-459a-8096-8a2cf51b59d0",
   "metadata": {},
   "outputs": [],
   "source": [
    "model = Sequential()\n",
    "model.add(Input(shape=(300,))) \n",
    "# Create the embedding layer \n",
    "model.add(Embedding(20000+1, 32))\n",
    "# Bidirectional LSTM Layer\n",
    "model.add(Bidirectional(LSTM(32, activation='tanh')))\n",
    "# Feature extractor Fully connected layers\n",
    "model.add(Dense(128, activation='relu'))\n",
    "model.add(Dense(256, activation='relu'))\n",
    "model.add(Dense(128, activation='relu'))\n",
    "# Final layer \n",
    "model.add(Dense(6, activation='sigmoid'))"
   ]
  },
  {
   "cell_type": "code",
   "execution_count": null,
   "id": "1e400f06-8ffe-4b8f-9e43-7fdc5789f2bc",
   "metadata": {},
   "outputs": [],
   "source": [
    "model.compile(loss='BinaryCrossentropy', optimizer='Adam')"
   ]
  },
  {
   "cell_type": "code",
   "execution_count": null,
   "id": "ccbbc41a-67f3-4d56-b070-17b84114d1ce",
   "metadata": {},
   "outputs": [],
   "source": [
    "model.summary()"
   ]
  },
  {
   "cell_type": "code",
   "execution_count": null,
   "id": "4f16ecda-67e4-464b-98e3-46e43fb057ff",
   "metadata": {},
   "outputs": [],
   "source": [
    "history = model.fit(train, epochs=5, validation_data=val)"
   ]
  },
  {
   "cell_type": "code",
   "execution_count": null,
   "id": "d4dbcd56-f261-465e-a686-a76901a88bb3",
   "metadata": {},
   "outputs": [],
   "source": [
    "from matplotlib import pyplot as plt\n",
    "plt.figure(figsize=(8,5))\n",
    "pd.DataFrame(history.history).plot()\n",
    "plt.show()"
   ]
  }
 ],
 "metadata": {
  "kernelspec": {
   "display_name": "Python (toxicityPython39)",
   "language": "python",
   "name": "toxicitypython39"
  },
  "language_info": {
   "codemirror_mode": {
    "name": "ipython",
    "version": 3
   },
   "file_extension": ".py",
   "mimetype": "text/x-python",
   "name": "python",
   "nbconvert_exporter": "python",
   "pygments_lexer": "ipython3",
   "version": "3.9.13"
  }
 },
 "nbformat": 4,
 "nbformat_minor": 5
}
