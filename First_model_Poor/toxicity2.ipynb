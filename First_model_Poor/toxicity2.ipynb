{
  "cells": [
    {
      "cell_type": "markdown",
      "id": "aaada83c-6192-463a-83be-6638ea55f56a",
      "metadata": {
        "id": "aaada83c-6192-463a-83be-6638ea55f56a"
      },
      "source": [
        "# Toxic Comment Classification - Notebook Overview\n",
        "\n",
        "\n",
        "Introduction:\n",
        "This notebook demonstrates how to process, explore, and analyze the \"Civil Comments\" dataset for toxic comment classification using Python, NLP libraries, and visualization tools. It includes preprocessing, statistical analysis, and initial visual exploration.\n",
        "\n",
        "## Table of Contents\n",
        "1. [Importing Libraries](#1.Importing-Libraries)\n",
        "2. [Loading the Dataset](#2.Loading-the-Dataset)\n",
        "3. [Understanding the Dataset](#3.Understanding-the-Dataset)\n",
        "4. [Text Preprocessing](#4.Text-Preprocessing)\n",
        "5. [Label Distribution Analysis](#5.Label-Distribution-Analysis)\n",
        "6. [Visualizations](#6.Visualizations)\n",
        "7. [Label Correlation](#7.Label-Correlation)\n",
        "\n"
      ]
    },
    {
      "cell_type": "markdown",
      "id": "118c19d2-e6e4-471d-b54a-da853a15e222",
      "metadata": {
        "id": "118c19d2-e6e4-471d-b54a-da853a15e222"
      },
      "source": [
        "## 1. Importing Libraries\n",
        "We begin by importing essential libraries:\n",
        "\n",
        "Numpy and Pandas for data handling.\n",
        "\n",
        "Matplotlib and Seaborn for data visualization.\n",
        "\n",
        "NLTK for natural language processing, including stopwords removal.\n",
        "\n",
        "TensorFlow/Keras for future modeling.\n",
        "\n",
        "Scikit-learn for model evaluation utilities."
      ]
    },
    {
      "cell_type": "code",
      "execution_count": null,
      "id": "3ee293c2-8f74-42b3-9a6b-58c92d75f700",
      "metadata": {
        "colab": {
          "base_uri": "https://localhost:8080/"
        },
        "id": "3ee293c2-8f74-42b3-9a6b-58c92d75f700",
        "outputId": "acec7bf7-b7b1-4c22-a8ca-f3a8493f35dd"
      },
      "outputs": [
        {
          "name": "stdout",
          "output_type": "stream",
          "text": [
            "Collecting datasets\n",
            "  Downloading datasets-3.5.0-py3-none-any.whl.metadata (19 kB)\n",
            "Requirement already satisfied: filelock in /usr/local/lib/python3.11/dist-packages (from datasets) (3.18.0)\n",
            "Requirement already satisfied: numpy>=1.17 in /usr/local/lib/python3.11/dist-packages (from datasets) (2.0.2)\n",
            "Requirement already satisfied: pyarrow>=15.0.0 in /usr/local/lib/python3.11/dist-packages (from datasets) (18.1.0)\n",
            "Collecting dill<0.3.9,>=0.3.0 (from datasets)\n",
            "  Downloading dill-0.3.8-py3-none-any.whl.metadata (10 kB)\n",
            "Requirement already satisfied: pandas in /usr/local/lib/python3.11/dist-packages (from datasets) (2.2.2)\n",
            "Requirement already satisfied: requests>=2.32.2 in /usr/local/lib/python3.11/dist-packages (from datasets) (2.32.3)\n",
            "Requirement already satisfied: tqdm>=4.66.3 in /usr/local/lib/python3.11/dist-packages (from datasets) (4.67.1)\n",
            "Collecting xxhash (from datasets)\n",
            "  Downloading xxhash-3.5.0-cp311-cp311-manylinux_2_17_x86_64.manylinux2014_x86_64.whl.metadata (12 kB)\n",
            "Collecting multiprocess<0.70.17 (from datasets)\n",
            "  Downloading multiprocess-0.70.16-py311-none-any.whl.metadata (7.2 kB)\n",
            "Collecting fsspec<=2024.12.0,>=2023.1.0 (from fsspec[http]<=2024.12.0,>=2023.1.0->datasets)\n",
            "  Downloading fsspec-2024.12.0-py3-none-any.whl.metadata (11 kB)\n",
            "Requirement already satisfied: aiohttp in /usr/local/lib/python3.11/dist-packages (from datasets) (3.11.15)\n",
            "Requirement already satisfied: huggingface-hub>=0.24.0 in /usr/local/lib/python3.11/dist-packages (from datasets) (0.30.2)\n",
            "Requirement already satisfied: packaging in /usr/local/lib/python3.11/dist-packages (from datasets) (24.2)\n",
            "Requirement already satisfied: pyyaml>=5.1 in /usr/local/lib/python3.11/dist-packages (from datasets) (6.0.2)\n",
            "Requirement already satisfied: aiohappyeyeballs>=2.3.0 in /usr/local/lib/python3.11/dist-packages (from aiohttp->datasets) (2.6.1)\n",
            "Requirement already satisfied: aiosignal>=1.1.2 in /usr/local/lib/python3.11/dist-packages (from aiohttp->datasets) (1.3.2)\n",
            "Requirement already satisfied: attrs>=17.3.0 in /usr/local/lib/python3.11/dist-packages (from aiohttp->datasets) (25.3.0)\n",
            "Requirement already satisfied: frozenlist>=1.1.1 in /usr/local/lib/python3.11/dist-packages (from aiohttp->datasets) (1.5.0)\n",
            "Requirement already satisfied: multidict<7.0,>=4.5 in /usr/local/lib/python3.11/dist-packages (from aiohttp->datasets) (6.4.2)\n",
            "Requirement already satisfied: propcache>=0.2.0 in /usr/local/lib/python3.11/dist-packages (from aiohttp->datasets) (0.3.1)\n",
            "Requirement already satisfied: yarl<2.0,>=1.17.0 in /usr/local/lib/python3.11/dist-packages (from aiohttp->datasets) (1.19.0)\n",
            "Requirement already satisfied: typing-extensions>=3.7.4.3 in /usr/local/lib/python3.11/dist-packages (from huggingface-hub>=0.24.0->datasets) (4.13.1)\n",
            "Requirement already satisfied: charset-normalizer<4,>=2 in /usr/local/lib/python3.11/dist-packages (from requests>=2.32.2->datasets) (3.4.1)\n",
            "Requirement already satisfied: idna<4,>=2.5 in /usr/local/lib/python3.11/dist-packages (from requests>=2.32.2->datasets) (3.10)\n",
            "Requirement already satisfied: urllib3<3,>=1.21.1 in /usr/local/lib/python3.11/dist-packages (from requests>=2.32.2->datasets) (2.3.0)\n",
            "Requirement already satisfied: certifi>=2017.4.17 in /usr/local/lib/python3.11/dist-packages (from requests>=2.32.2->datasets) (2025.1.31)\n",
            "Requirement already satisfied: python-dateutil>=2.8.2 in /usr/local/lib/python3.11/dist-packages (from pandas->datasets) (2.8.2)\n",
            "Requirement already satisfied: pytz>=2020.1 in /usr/local/lib/python3.11/dist-packages (from pandas->datasets) (2025.2)\n",
            "Requirement already satisfied: tzdata>=2022.7 in /usr/local/lib/python3.11/dist-packages (from pandas->datasets) (2025.2)\n",
            "Requirement already satisfied: six>=1.5 in /usr/local/lib/python3.11/dist-packages (from python-dateutil>=2.8.2->pandas->datasets) (1.17.0)\n",
            "Downloading datasets-3.5.0-py3-none-any.whl (491 kB)\n",
            "\u001b[2K   \u001b[90m━━━━━━━━━━━━━━━━━━━━━━━━━━━━━━━━━━━━━━━━\u001b[0m \u001b[32m491.2/491.2 kB\u001b[0m \u001b[31m6.9 MB/s\u001b[0m eta \u001b[36m0:00:00\u001b[0m\n",
            "\u001b[?25hDownloading dill-0.3.8-py3-none-any.whl (116 kB)\n",
            "\u001b[2K   \u001b[90m━━━━━━━━━━━━━━━━━━━━━━━━━━━━━━━━━━━━━━━━\u001b[0m \u001b[32m116.3/116.3 kB\u001b[0m \u001b[31m6.9 MB/s\u001b[0m eta \u001b[36m0:00:00\u001b[0m\n",
            "\u001b[?25hDownloading fsspec-2024.12.0-py3-none-any.whl (183 kB)\n",
            "\u001b[2K   \u001b[90m━━━━━━━━━━━━━━━━━━━━━━━━━━━━━━━━━━━━━━━━\u001b[0m \u001b[32m183.9/183.9 kB\u001b[0m \u001b[31m14.0 MB/s\u001b[0m eta \u001b[36m0:00:00\u001b[0m\n",
            "\u001b[?25hDownloading multiprocess-0.70.16-py311-none-any.whl (143 kB)\n",
            "\u001b[2K   \u001b[90m━━━━━━━━━━━━━━━━━━━━━━━━━━━━━━━━━━━━━━━━\u001b[0m \u001b[32m143.5/143.5 kB\u001b[0m \u001b[31m11.3 MB/s\u001b[0m eta \u001b[36m0:00:00\u001b[0m\n",
            "\u001b[?25hDownloading xxhash-3.5.0-cp311-cp311-manylinux_2_17_x86_64.manylinux2014_x86_64.whl (194 kB)\n",
            "\u001b[2K   \u001b[90m━━━━━━━━━━━━━━━━━━━━━━━━━━━━━━━━━━━━━━━━\u001b[0m \u001b[32m194.8/194.8 kB\u001b[0m \u001b[31m14.9 MB/s\u001b[0m eta \u001b[36m0:00:00\u001b[0m\n",
            "\u001b[?25hInstalling collected packages: xxhash, fsspec, dill, multiprocess, datasets\n",
            "  Attempting uninstall: fsspec\n",
            "    Found existing installation: fsspec 2025.3.2\n",
            "    Uninstalling fsspec-2025.3.2:\n",
            "      Successfully uninstalled fsspec-2025.3.2\n",
            "\u001b[31mERROR: pip's dependency resolver does not currently take into account all the packages that are installed. This behaviour is the source of the following dependency conflicts.\n",
            "gcsfs 2025.3.2 requires fsspec==2025.3.2, but you have fsspec 2024.12.0 which is incompatible.\n",
            "torch 2.6.0+cu124 requires nvidia-cublas-cu12==12.4.5.8; platform_system == \"Linux\" and platform_machine == \"x86_64\", but you have nvidia-cublas-cu12 12.5.3.2 which is incompatible.\n",
            "torch 2.6.0+cu124 requires nvidia-cuda-cupti-cu12==12.4.127; platform_system == \"Linux\" and platform_machine == \"x86_64\", but you have nvidia-cuda-cupti-cu12 12.5.82 which is incompatible.\n",
            "torch 2.6.0+cu124 requires nvidia-cuda-nvrtc-cu12==12.4.127; platform_system == \"Linux\" and platform_machine == \"x86_64\", but you have nvidia-cuda-nvrtc-cu12 12.5.82 which is incompatible.\n",
            "torch 2.6.0+cu124 requires nvidia-cuda-runtime-cu12==12.4.127; platform_system == \"Linux\" and platform_machine == \"x86_64\", but you have nvidia-cuda-runtime-cu12 12.5.82 which is incompatible.\n",
            "torch 2.6.0+cu124 requires nvidia-cudnn-cu12==9.1.0.70; platform_system == \"Linux\" and platform_machine == \"x86_64\", but you have nvidia-cudnn-cu12 9.3.0.75 which is incompatible.\n",
            "torch 2.6.0+cu124 requires nvidia-cufft-cu12==11.2.1.3; platform_system == \"Linux\" and platform_machine == \"x86_64\", but you have nvidia-cufft-cu12 11.2.3.61 which is incompatible.\n",
            "torch 2.6.0+cu124 requires nvidia-curand-cu12==10.3.5.147; platform_system == \"Linux\" and platform_machine == \"x86_64\", but you have nvidia-curand-cu12 10.3.6.82 which is incompatible.\n",
            "torch 2.6.0+cu124 requires nvidia-cusolver-cu12==11.6.1.9; platform_system == \"Linux\" and platform_machine == \"x86_64\", but you have nvidia-cusolver-cu12 11.6.3.83 which is incompatible.\n",
            "torch 2.6.0+cu124 requires nvidia-cusparse-cu12==12.3.1.170; platform_system == \"Linux\" and platform_machine == \"x86_64\", but you have nvidia-cusparse-cu12 12.5.1.3 which is incompatible.\n",
            "torch 2.6.0+cu124 requires nvidia-nvjitlink-cu12==12.4.127; platform_system == \"Linux\" and platform_machine == \"x86_64\", but you have nvidia-nvjitlink-cu12 12.5.82 which is incompatible.\u001b[0m\u001b[31m\n",
            "\u001b[0mSuccessfully installed datasets-3.5.0 dill-0.3.8 fsspec-2024.12.0 multiprocess-0.70.16 xxhash-3.5.0\n"
          ]
        },
        {
          "name": "stderr",
          "output_type": "stream",
          "text": [
            "[nltk_data] Downloading package stopwords to /root/nltk_data...\n",
            "[nltk_data]   Unzipping corpora/stopwords.zip.\n"
          ]
        },
        {
          "data": {
            "text/plain": [
              "True"
            ]
          },
          "execution_count": 2,
          "metadata": {},
          "output_type": "execute_result"
        }
      ],
      "source": [
        "import numpy as np\n",
        "import pandas as pd\n",
        "import matplotlib.pyplot as plt\n",
        "import seaborn as sns\n",
        "import re\n",
        "import string\n",
        "import nltk\n",
        "from nltk.corpus import stopwords\n",
        "!pip install datasets\n",
        "from datasets import load_dataset\n",
        "import tensorflow as tf\n",
        "from tensorflow.keras.preprocessing.text import Tokenizer\n",
        "from tensorflow.keras.preprocessing.sequence import pad_sequences\n",
        "from tensorflow.keras.models import Sequential\n",
        "from tensorflow.keras.layers import Embedding, LSTM, Dense, Dropout, Bidirectional\n",
        "from tensorflow.keras.optimizers import Adam\n",
        "from sklearn.model_selection import train_test_split\n",
        "from sklearn.metrics import classification_report, confusion_matrix, multilabel_confusion_matrix\n",
        "\n",
        "\n",
        "nltk.download('stopwords')  # Download stopwords used for text cleaning"
      ]
    },
    {
      "cell_type": "markdown",
      "id": "e9eef48d-cd79-41d4-8a0b-843b7fcfc44b",
      "metadata": {
        "id": "e9eef48d-cd79-41d4-8a0b-843b7fcfc44b"
      },
      "source": [
        "## 2. Loading the Dataset\n",
        "We load the dataset from HuggingFace's datasets library and inspect its structure."
      ]
    },
    {
      "cell_type": "code",
      "execution_count": null,
      "id": "1aea2130-5ed1-4b2c-83f9-4d62256cc3b5",
      "metadata": {
        "colab": {
          "base_uri": "https://localhost:8080/",
          "height": 414,
          "referenced_widgets": [
            "777fdd2a29cf419aa046d2f33d2fc784",
            "11853e397eff4e469fc8a1ca8a9f2f03",
            "5bb5eebda5c748848b3c634a64b8623e",
            "019a7a18f2154967af90193398badce9",
            "bb6bfb0f0a8a422f8ce658e294ac7fd6",
            "0888ff3186854ff9995612a43bda286c",
            "140c90bd1d9c454fb91437c550b857a3",
            "951507b239da4542af620d2c6db7a979",
            "c97341b8e8274cc2a88ac27cc2001c08",
            "a1a1b4376dbd4f5694c62f72a14ff32b",
            "ab189f443bdb4ca4a50aeddab4c70ee1",
            "71f7b9807b70471582262a5ce52d7e7c",
            "9662bfc76fcf4d518a6fc0f67622474a",
            "a0786d060c7c4e99b6f526855d42cc4c",
            "37694bc5036f4657a7a3164f0b9d668f",
            "4b532c0633564d3caa9f2f8f7adacf68",
            "aed02e2c1dc844d99fa1c39e23c0474b",
            "04c70c884b184445a7b7b89e2e01f3bd",
            "a92c52399caa4418a49db2f2382ab0e5",
            "8bf717b4ff454ecda8fb1cba6e1c18cb",
            "fceb92e726d5428ca36f81af8820fd3d",
            "b7b38ccc26a7418ba6be9826178d3de5",
            "e9192d85e2bb4fc6821e4481898bd788",
            "994f9adb137144849f7ea686bdb646b6",
            "3350ec2010904876ae4d52a6fbd69636",
            "74f09d5541a842a79ef90929f9266ed6",
            "87495b58190043d493c5abfe98d51ea6",
            "b853eef8177b4c288d1c4fb00389c9ab",
            "7b285a2eba65460fb6085b87d344d12e",
            "aa9c0b8923e2435790cc7c411f885620",
            "4e2aa913ffb349c087e13cf9051745b5",
            "fb0cf7fc3a5246c3b68b74fca4f7ff5b",
            "00e3b1afbcdc48669d2692dcf077ed0d",
            "541a1f5e47234b39901f77e8bae40eb8",
            "05427348bd624f04beed24f7a11b8d9e",
            "80b4a802a1d94ef995f5810d67a3dba9",
            "76ff1035cd744c8f94392d2b145af6b5",
            "dfc615a6d8914eb3a3e2774d7d541f90",
            "799e3ddf5c4c4a059f2b93399011b0c3",
            "a954974ba78c49689e28f543bfe37813",
            "f0359bf9fe41452997788d1cf82c371e",
            "faa035b1b0654badb71c9ea1d6ae5a97",
            "800ec825c805484f84dbea4417808dc5",
            "8c77013e20714f6e937921aa8f8ad383",
            "df02f7abdf8848bc8d64ff5159081449",
            "c6188663170d4f22acfc4f0d564605f1",
            "227b9544a8de470ab339d4b1ac40a7f0",
            "46d172cc06674139be7c0de38520ec1f",
            "152c4aa7f6e949f6998c90a1ab9d22dd",
            "daab2ea43f1f44dabc022b3f2db37945",
            "437711900cb84a0b9067d3a0780d95cc",
            "769f04fa473649b48dd36c6df2af2fa7",
            "cfa8925a7f684a5d913a958c54006905",
            "894aae8fcae44edc92392b25a6686dd6",
            "e24fecae57464eb7b8e73ae9dd4e2844",
            "02dbb9afe34646f898100b8045428436",
            "9ff9008c97094d298bedc7c2d2fe35f0",
            "d356a23c3eb84186883ade05424c8528",
            "57c753c7c1b14f2394c4ec8ef4a9c452",
            "53ce29e5620a49d19c14ed2d7a3265c6",
            "ebee889c94e0479f888bfc2cffb0338d",
            "ba3734a0898e4c97998a9e30f3a38fca",
            "d571260f624348e8a90e5ec00a3f3bb8",
            "c00d5f1598004ea587c41224f39318fb",
            "fcbdd4f1fe7140238bad747dc039f595",
            "048e53f8350645e59440622413e9a380",
            "e0b3d502154845d884bd1c3bc21e2d73",
            "b40127c81ff249a0a713cb949b50285e",
            "52984d6a9d5b4e06b5700e9b104126bb",
            "2c0197b58ec74349bd574121fa9f154d",
            "67a29f7ff347433ab8ec9bb3e2c68268",
            "3ec5c2b348f6438f9092acbfc990f0ed",
            "c5576c1b0a3640e18a952855f4407af1",
            "abf8311f299f498fa8c368e1e1fc4aa6",
            "e9d50f136763477db2e0e4d3361d5bfc",
            "41c48342814846cc8c7c09b8d489ee5c",
            "1ad2a2d526864231bdc4cd66952058b2",
            "b65d6283f28c4254a6dcfe679e5fb916",
            "47caa0daca6446b0b00c0e48b1575f9f",
            "3211ba23cd5e4779b6e9c22824d663b8",
            "4cf781c94f3e4274b9009804b36b06b6",
            "93d5d216ed0a470ba91b961753ac753f",
            "9efdf856458644c8a8529e7bf92b75b5",
            "edb1bd82952645fb88ec9b4bdb857b84",
            "52d4a1b56bba462dbaf5bb86d92bd11a",
            "a8329d95f29c444d99b5352a001aa5d9",
            "3e20daf921334edfb738096964a90c2b",
            "496b3cf58dbf4c94af12831ef6a95c0b"
          ]
        },
        "id": "1aea2130-5ed1-4b2c-83f9-4d62256cc3b5",
        "outputId": "cbde83cf-1150-4913-8a71-9fb9cdd22aa2"
      },
      "outputs": [
        {
          "name": "stderr",
          "output_type": "stream",
          "text": [
            "/usr/local/lib/python3.11/dist-packages/huggingface_hub/utils/_auth.py:94: UserWarning: \n",
            "The secret `HF_TOKEN` does not exist in your Colab secrets.\n",
            "To authenticate with the Hugging Face Hub, create a token in your settings tab (https://huggingface.co/settings/tokens), set it as secret in your Google Colab and restart your session.\n",
            "You will be able to reuse this secret in all of your notebooks.\n",
            "Please note that authentication is recommended but still optional to access public models or datasets.\n",
            "  warnings.warn(\n"
          ]
        },
        {
          "data": {
            "application/vnd.jupyter.widget-view+json": {
              "model_id": "777fdd2a29cf419aa046d2f33d2fc784",
              "version_major": 2,
              "version_minor": 0
            },
            "text/plain": [
              "README.md:   0%|          | 0.00/7.73k [00:00<?, ?B/s]"
            ]
          },
          "metadata": {},
          "output_type": "display_data"
        },
        {
          "data": {
            "application/vnd.jupyter.widget-view+json": {
              "model_id": "71f7b9807b70471582262a5ce52d7e7c",
              "version_major": 2,
              "version_minor": 0
            },
            "text/plain": [
              "train-00000-of-00002.parquet:   0%|          | 0.00/194M [00:00<?, ?B/s]"
            ]
          },
          "metadata": {},
          "output_type": "display_data"
        },
        {
          "data": {
            "application/vnd.jupyter.widget-view+json": {
              "model_id": "e9192d85e2bb4fc6821e4481898bd788",
              "version_major": 2,
              "version_minor": 0
            },
            "text/plain": [
              "train-00001-of-00002.parquet:   0%|          | 0.00/187M [00:00<?, ?B/s]"
            ]
          },
          "metadata": {},
          "output_type": "display_data"
        },
        {
          "data": {
            "application/vnd.jupyter.widget-view+json": {
              "model_id": "541a1f5e47234b39901f77e8bae40eb8",
              "version_major": 2,
              "version_minor": 0
            },
            "text/plain": [
              "validation-00000-of-00001.parquet:   0%|          | 0.00/21.0M [00:00<?, ?B/s]"
            ]
          },
          "metadata": {},
          "output_type": "display_data"
        },
        {
          "data": {
            "application/vnd.jupyter.widget-view+json": {
              "model_id": "df02f7abdf8848bc8d64ff5159081449",
              "version_major": 2,
              "version_minor": 0
            },
            "text/plain": [
              "test-00000-of-00001.parquet:   0%|          | 0.00/20.8M [00:00<?, ?B/s]"
            ]
          },
          "metadata": {},
          "output_type": "display_data"
        },
        {
          "data": {
            "application/vnd.jupyter.widget-view+json": {
              "model_id": "02dbb9afe34646f898100b8045428436",
              "version_major": 2,
              "version_minor": 0
            },
            "text/plain": [
              "Generating train split:   0%|          | 0/1804874 [00:00<?, ? examples/s]"
            ]
          },
          "metadata": {},
          "output_type": "display_data"
        },
        {
          "data": {
            "application/vnd.jupyter.widget-view+json": {
              "model_id": "e0b3d502154845d884bd1c3bc21e2d73",
              "version_major": 2,
              "version_minor": 0
            },
            "text/plain": [
              "Generating validation split:   0%|          | 0/97320 [00:00<?, ? examples/s]"
            ]
          },
          "metadata": {},
          "output_type": "display_data"
        },
        {
          "data": {
            "application/vnd.jupyter.widget-view+json": {
              "model_id": "b65d6283f28c4254a6dcfe679e5fb916",
              "version_major": 2,
              "version_minor": 0
            },
            "text/plain": [
              "Generating test split:   0%|          | 0/97320 [00:00<?, ? examples/s]"
            ]
          },
          "metadata": {},
          "output_type": "display_data"
        },
        {
          "name": "stdout",
          "output_type": "stream",
          "text": [
            "{'text': \"This is so cool. It's like, 'would you want your mother to read this??' Really great idea, well done!\", 'toxicity': 0.0, 'severe_toxicity': 0.0, 'obscene': 0.0, 'threat': 0.0, 'insult': 0.0, 'identity_attack': 0.0, 'sexual_explicit': 0.0}\n"
          ]
        }
      ],
      "source": [
        "# Load civil_comments dataset\n",
        "dataset = load_dataset(\"google/civil_comments\")\n",
        "print(dataset['train'][0])"
      ]
    },
    {
      "cell_type": "markdown",
      "id": "ab20ae33-5f37-4417-9178-ede79028dc81",
      "metadata": {
        "id": "ab20ae33-5f37-4417-9178-ede79028dc81"
      },
      "source": [
        "The dataset contains the following columns:"
      ]
    },
    {
      "cell_type": "code",
      "execution_count": null,
      "id": "a1343425-9a2a-4a32-997b-ed90d553ce10",
      "metadata": {
        "colab": {
          "base_uri": "https://localhost:8080/"
        },
        "id": "a1343425-9a2a-4a32-997b-ed90d553ce10",
        "outputId": "e96b308c-848c-40f2-b34a-cf5a9d748d4a"
      },
      "outputs": [
        {
          "name": "stdout",
          "output_type": "stream",
          "text": [
            "['text', 'toxicity', 'severe_toxicity', 'obscene', 'threat', 'insult', 'identity_attack', 'sexual_explicit']\n"
          ]
        }
      ],
      "source": [
        "print(dataset['train'].column_names)"
      ]
    },
    {
      "cell_type": "markdown",
      "id": "c753445b-0e62-4022-a64b-c0c29f73b43c",
      "metadata": {
        "id": "c753445b-0e62-4022-a64b-c0c29f73b43c"
      },
      "source": [
        "### Show first 5 lines of data"
      ]
    },
    {
      "cell_type": "code",
      "execution_count": null,
      "id": "61253731-1619-49cc-8183-a345b2ff3089",
      "metadata": {
        "colab": {
          "base_uri": "https://localhost:8080/",
          "height": 206
        },
        "id": "61253731-1619-49cc-8183-a345b2ff3089",
        "outputId": "9ba200d7-bce4-4c12-a5fe-6fa61316a008"
      },
      "outputs": [
        {
          "data": {
            "application/vnd.google.colaboratory.intrinsic+json": {
              "type": "dataframe",
              "variable_name": "df"
            },
            "text/html": [
              "\n",
              "  <div id=\"df-f76ee57e-6fae-4b61-8a06-426063ccaf1c\" class=\"colab-df-container\">\n",
              "    <div>\n",
              "<style scoped>\n",
              "    .dataframe tbody tr th:only-of-type {\n",
              "        vertical-align: middle;\n",
              "    }\n",
              "\n",
              "    .dataframe tbody tr th {\n",
              "        vertical-align: top;\n",
              "    }\n",
              "\n",
              "    .dataframe thead th {\n",
              "        text-align: right;\n",
              "    }\n",
              "</style>\n",
              "<table border=\"1\" class=\"dataframe\">\n",
              "  <thead>\n",
              "    <tr style=\"text-align: right;\">\n",
              "      <th></th>\n",
              "      <th>text</th>\n",
              "      <th>toxicity</th>\n",
              "      <th>severe_toxicity</th>\n",
              "      <th>obscene</th>\n",
              "      <th>threat</th>\n",
              "      <th>insult</th>\n",
              "      <th>identity_attack</th>\n",
              "      <th>sexual_explicit</th>\n",
              "    </tr>\n",
              "  </thead>\n",
              "  <tbody>\n",
              "    <tr>\n",
              "      <th>0</th>\n",
              "      <td>This is so cool. It's like, 'would you want yo...</td>\n",
              "      <td>0.000000</td>\n",
              "      <td>0.000000</td>\n",
              "      <td>0.0</td>\n",
              "      <td>0.0</td>\n",
              "      <td>0.00000</td>\n",
              "      <td>0.000000</td>\n",
              "      <td>0.0</td>\n",
              "    </tr>\n",
              "    <tr>\n",
              "      <th>1</th>\n",
              "      <td>Thank you!! This would make my life a lot less...</td>\n",
              "      <td>0.000000</td>\n",
              "      <td>0.000000</td>\n",
              "      <td>0.0</td>\n",
              "      <td>0.0</td>\n",
              "      <td>0.00000</td>\n",
              "      <td>0.000000</td>\n",
              "      <td>0.0</td>\n",
              "    </tr>\n",
              "    <tr>\n",
              "      <th>2</th>\n",
              "      <td>This is such an urgent design problem; kudos t...</td>\n",
              "      <td>0.000000</td>\n",
              "      <td>0.000000</td>\n",
              "      <td>0.0</td>\n",
              "      <td>0.0</td>\n",
              "      <td>0.00000</td>\n",
              "      <td>0.000000</td>\n",
              "      <td>0.0</td>\n",
              "    </tr>\n",
              "    <tr>\n",
              "      <th>3</th>\n",
              "      <td>Is this something I'll be able to install on m...</td>\n",
              "      <td>0.000000</td>\n",
              "      <td>0.000000</td>\n",
              "      <td>0.0</td>\n",
              "      <td>0.0</td>\n",
              "      <td>0.00000</td>\n",
              "      <td>0.000000</td>\n",
              "      <td>0.0</td>\n",
              "    </tr>\n",
              "    <tr>\n",
              "      <th>4</th>\n",
              "      <td>haha you guys are a bunch of losers.</td>\n",
              "      <td>0.893617</td>\n",
              "      <td>0.021277</td>\n",
              "      <td>0.0</td>\n",
              "      <td>0.0</td>\n",
              "      <td>0.87234</td>\n",
              "      <td>0.021277</td>\n",
              "      <td>0.0</td>\n",
              "    </tr>\n",
              "  </tbody>\n",
              "</table>\n",
              "</div>\n",
              "    <div class=\"colab-df-buttons\">\n",
              "\n",
              "  <div class=\"colab-df-container\">\n",
              "    <button class=\"colab-df-convert\" onclick=\"convertToInteractive('df-f76ee57e-6fae-4b61-8a06-426063ccaf1c')\"\n",
              "            title=\"Convert this dataframe to an interactive table.\"\n",
              "            style=\"display:none;\">\n",
              "\n",
              "  <svg xmlns=\"http://www.w3.org/2000/svg\" height=\"24px\" viewBox=\"0 -960 960 960\">\n",
              "    <path d=\"M120-120v-720h720v720H120Zm60-500h600v-160H180v160Zm220 220h160v-160H400v160Zm0 220h160v-160H400v160ZM180-400h160v-160H180v160Zm440 0h160v-160H620v160ZM180-180h160v-160H180v160Zm440 0h160v-160H620v160Z\"/>\n",
              "  </svg>\n",
              "    </button>\n",
              "\n",
              "  <style>\n",
              "    .colab-df-container {\n",
              "      display:flex;\n",
              "      gap: 12px;\n",
              "    }\n",
              "\n",
              "    .colab-df-convert {\n",
              "      background-color: #E8F0FE;\n",
              "      border: none;\n",
              "      border-radius: 50%;\n",
              "      cursor: pointer;\n",
              "      display: none;\n",
              "      fill: #1967D2;\n",
              "      height: 32px;\n",
              "      padding: 0 0 0 0;\n",
              "      width: 32px;\n",
              "    }\n",
              "\n",
              "    .colab-df-convert:hover {\n",
              "      background-color: #E2EBFA;\n",
              "      box-shadow: 0px 1px 2px rgba(60, 64, 67, 0.3), 0px 1px 3px 1px rgba(60, 64, 67, 0.15);\n",
              "      fill: #174EA6;\n",
              "    }\n",
              "\n",
              "    .colab-df-buttons div {\n",
              "      margin-bottom: 4px;\n",
              "    }\n",
              "\n",
              "    [theme=dark] .colab-df-convert {\n",
              "      background-color: #3B4455;\n",
              "      fill: #D2E3FC;\n",
              "    }\n",
              "\n",
              "    [theme=dark] .colab-df-convert:hover {\n",
              "      background-color: #434B5C;\n",
              "      box-shadow: 0px 1px 3px 1px rgba(0, 0, 0, 0.15);\n",
              "      filter: drop-shadow(0px 1px 2px rgba(0, 0, 0, 0.3));\n",
              "      fill: #FFFFFF;\n",
              "    }\n",
              "  </style>\n",
              "\n",
              "    <script>\n",
              "      const buttonEl =\n",
              "        document.querySelector('#df-f76ee57e-6fae-4b61-8a06-426063ccaf1c button.colab-df-convert');\n",
              "      buttonEl.style.display =\n",
              "        google.colab.kernel.accessAllowed ? 'block' : 'none';\n",
              "\n",
              "      async function convertToInteractive(key) {\n",
              "        const element = document.querySelector('#df-f76ee57e-6fae-4b61-8a06-426063ccaf1c');\n",
              "        const dataTable =\n",
              "          await google.colab.kernel.invokeFunction('convertToInteractive',\n",
              "                                                    [key], {});\n",
              "        if (!dataTable) return;\n",
              "\n",
              "        const docLinkHtml = 'Like what you see? Visit the ' +\n",
              "          '<a target=\"_blank\" href=https://colab.research.google.com/notebooks/data_table.ipynb>data table notebook</a>'\n",
              "          + ' to learn more about interactive tables.';\n",
              "        element.innerHTML = '';\n",
              "        dataTable['output_type'] = 'display_data';\n",
              "        await google.colab.output.renderOutput(dataTable, element);\n",
              "        const docLink = document.createElement('div');\n",
              "        docLink.innerHTML = docLinkHtml;\n",
              "        element.appendChild(docLink);\n",
              "      }\n",
              "    </script>\n",
              "  </div>\n",
              "\n",
              "\n",
              "<div id=\"df-f30b487b-2f4f-4b8a-b3f7-832f8f64f5a4\">\n",
              "  <button class=\"colab-df-quickchart\" onclick=\"quickchart('df-f30b487b-2f4f-4b8a-b3f7-832f8f64f5a4')\"\n",
              "            title=\"Suggest charts\"\n",
              "            style=\"display:none;\">\n",
              "\n",
              "<svg xmlns=\"http://www.w3.org/2000/svg\" height=\"24px\"viewBox=\"0 0 24 24\"\n",
              "     width=\"24px\">\n",
              "    <g>\n",
              "        <path d=\"M19 3H5c-1.1 0-2 .9-2 2v14c0 1.1.9 2 2 2h14c1.1 0 2-.9 2-2V5c0-1.1-.9-2-2-2zM9 17H7v-7h2v7zm4 0h-2V7h2v10zm4 0h-2v-4h2v4z\"/>\n",
              "    </g>\n",
              "</svg>\n",
              "  </button>\n",
              "\n",
              "<style>\n",
              "  .colab-df-quickchart {\n",
              "      --bg-color: #E8F0FE;\n",
              "      --fill-color: #1967D2;\n",
              "      --hover-bg-color: #E2EBFA;\n",
              "      --hover-fill-color: #174EA6;\n",
              "      --disabled-fill-color: #AAA;\n",
              "      --disabled-bg-color: #DDD;\n",
              "  }\n",
              "\n",
              "  [theme=dark] .colab-df-quickchart {\n",
              "      --bg-color: #3B4455;\n",
              "      --fill-color: #D2E3FC;\n",
              "      --hover-bg-color: #434B5C;\n",
              "      --hover-fill-color: #FFFFFF;\n",
              "      --disabled-bg-color: #3B4455;\n",
              "      --disabled-fill-color: #666;\n",
              "  }\n",
              "\n",
              "  .colab-df-quickchart {\n",
              "    background-color: var(--bg-color);\n",
              "    border: none;\n",
              "    border-radius: 50%;\n",
              "    cursor: pointer;\n",
              "    display: none;\n",
              "    fill: var(--fill-color);\n",
              "    height: 32px;\n",
              "    padding: 0;\n",
              "    width: 32px;\n",
              "  }\n",
              "\n",
              "  .colab-df-quickchart:hover {\n",
              "    background-color: var(--hover-bg-color);\n",
              "    box-shadow: 0 1px 2px rgba(60, 64, 67, 0.3), 0 1px 3px 1px rgba(60, 64, 67, 0.15);\n",
              "    fill: var(--button-hover-fill-color);\n",
              "  }\n",
              "\n",
              "  .colab-df-quickchart-complete:disabled,\n",
              "  .colab-df-quickchart-complete:disabled:hover {\n",
              "    background-color: var(--disabled-bg-color);\n",
              "    fill: var(--disabled-fill-color);\n",
              "    box-shadow: none;\n",
              "  }\n",
              "\n",
              "  .colab-df-spinner {\n",
              "    border: 2px solid var(--fill-color);\n",
              "    border-color: transparent;\n",
              "    border-bottom-color: var(--fill-color);\n",
              "    animation:\n",
              "      spin 1s steps(1) infinite;\n",
              "  }\n",
              "\n",
              "  @keyframes spin {\n",
              "    0% {\n",
              "      border-color: transparent;\n",
              "      border-bottom-color: var(--fill-color);\n",
              "      border-left-color: var(--fill-color);\n",
              "    }\n",
              "    20% {\n",
              "      border-color: transparent;\n",
              "      border-left-color: var(--fill-color);\n",
              "      border-top-color: var(--fill-color);\n",
              "    }\n",
              "    30% {\n",
              "      border-color: transparent;\n",
              "      border-left-color: var(--fill-color);\n",
              "      border-top-color: var(--fill-color);\n",
              "      border-right-color: var(--fill-color);\n",
              "    }\n",
              "    40% {\n",
              "      border-color: transparent;\n",
              "      border-right-color: var(--fill-color);\n",
              "      border-top-color: var(--fill-color);\n",
              "    }\n",
              "    60% {\n",
              "      border-color: transparent;\n",
              "      border-right-color: var(--fill-color);\n",
              "    }\n",
              "    80% {\n",
              "      border-color: transparent;\n",
              "      border-right-color: var(--fill-color);\n",
              "      border-bottom-color: var(--fill-color);\n",
              "    }\n",
              "    90% {\n",
              "      border-color: transparent;\n",
              "      border-bottom-color: var(--fill-color);\n",
              "    }\n",
              "  }\n",
              "</style>\n",
              "\n",
              "  <script>\n",
              "    async function quickchart(key) {\n",
              "      const quickchartButtonEl =\n",
              "        document.querySelector('#' + key + ' button');\n",
              "      quickchartButtonEl.disabled = true;  // To prevent multiple clicks.\n",
              "      quickchartButtonEl.classList.add('colab-df-spinner');\n",
              "      try {\n",
              "        const charts = await google.colab.kernel.invokeFunction(\n",
              "            'suggestCharts', [key], {});\n",
              "      } catch (error) {\n",
              "        console.error('Error during call to suggestCharts:', error);\n",
              "      }\n",
              "      quickchartButtonEl.classList.remove('colab-df-spinner');\n",
              "      quickchartButtonEl.classList.add('colab-df-quickchart-complete');\n",
              "    }\n",
              "    (() => {\n",
              "      let quickchartButtonEl =\n",
              "        document.querySelector('#df-f30b487b-2f4f-4b8a-b3f7-832f8f64f5a4 button');\n",
              "      quickchartButtonEl.style.display =\n",
              "        google.colab.kernel.accessAllowed ? 'block' : 'none';\n",
              "    })();\n",
              "  </script>\n",
              "</div>\n",
              "\n",
              "    </div>\n",
              "  </div>\n"
            ],
            "text/plain": [
              "                                                text  toxicity  \\\n",
              "0  This is so cool. It's like, 'would you want yo...  0.000000   \n",
              "1  Thank you!! This would make my life a lot less...  0.000000   \n",
              "2  This is such an urgent design problem; kudos t...  0.000000   \n",
              "3  Is this something I'll be able to install on m...  0.000000   \n",
              "4               haha you guys are a bunch of losers.  0.893617   \n",
              "\n",
              "   severe_toxicity  obscene  threat   insult  identity_attack  sexual_explicit  \n",
              "0         0.000000      0.0     0.0  0.00000         0.000000              0.0  \n",
              "1         0.000000      0.0     0.0  0.00000         0.000000              0.0  \n",
              "2         0.000000      0.0     0.0  0.00000         0.000000              0.0  \n",
              "3         0.000000      0.0     0.0  0.00000         0.000000              0.0  \n",
              "4         0.021277      0.0     0.0  0.87234         0.021277              0.0  "
            ]
          },
          "execution_count": 5,
          "metadata": {},
          "output_type": "execute_result"
        }
      ],
      "source": [
        "df = pd.DataFrame(dataset['train'])\n",
        "df.head()"
      ]
    },
    {
      "cell_type": "markdown",
      "id": "43265c70-dcff-45e6-b2e8-cb3543053928",
      "metadata": {
        "id": "43265c70-dcff-45e6-b2e8-cb3543053928"
      },
      "source": [
        "## 3. Data Cleaning and Preprocessing\n",
        "We clean the text by removing digits, punctuation, and stopwords."
      ]
    },
    {
      "cell_type": "code",
      "execution_count": null,
      "id": "128cb3d6-2361-45ac-a332-2f14238b2b2e",
      "metadata": {
        "id": "128cb3d6-2361-45ac-a332-2f14238b2b2e"
      },
      "outputs": [],
      "source": [
        "stop_words = set(stopwords.words('english'))\n",
        "\n",
        "def clean_text(text):\n",
        "    text = text.lower()\n",
        "    text = re.sub(r'\\d+', '', text)\n",
        "    text = re.sub(r'[^\\w\\s]', '', text)\n",
        "    text = \" \".join([word for word in text.split() if word not in stop_words])\n",
        "    return text\n",
        "\n",
        "# Apply cleaning\n",
        "df = pd.DataFrame(dataset['train'])\n",
        "df['text'] = df['text'].map(lambda x: clean_text(x))"
      ]
    },
    {
      "cell_type": "markdown",
      "id": "26a3b664-db8c-463e-9b9e-dbcb9644e4f5",
      "metadata": {
        "id": "26a3b664-db8c-463e-9b9e-dbcb9644e4f5"
      },
      "source": [
        "## 4. Exploratory Data Analysis (EDA)"
      ]
    },
    {
      "cell_type": "markdown",
      "id": "20b46358-4ced-4351-9588-65822cff435f",
      "metadata": {
        "id": "20b46358-4ced-4351-9588-65822cff435f"
      },
      "source": [
        "### A. Label Distribution\n",
        "We calculate how often each type of toxicity appears."
      ]
    },
    {
      "cell_type": "code",
      "execution_count": null,
      "id": "096a98d9-2d4d-495d-9371-1c213de224cb",
      "metadata": {
        "colab": {
          "base_uri": "https://localhost:8080/",
          "height": 543
        },
        "id": "096a98d9-2d4d-495d-9371-1c213de224cb",
        "outputId": "a773dc86-80bb-4c67-ddd0-29bcff2d5e1c"
      },
      "outputs": [
        {
          "data": {
            "image/png": "[encoded data removed]",
            "text/plain": [
              "<Figure size 640x480 with 1 Axes>"
            ]
          },
          "metadata": {},
          "output_type": "display_data"
        }
      ],
      "source": [
        "label_counts = df[['toxicity', 'severe_toxicity', 'obscene', 'threat', 'insult', 'identity_attack', 'sexual_explicit']].sum()\n",
        "label_counts.plot(kind='bar', title='Number of each type of toxicity', ylabel='Number of comments')\n",
        "plt.show()"
      ]
    },
    {
      "cell_type": "markdown",
      "id": "996d1c8b-4d3f-4025-9973-f92101fed9ef",
      "metadata": {
        "id": "996d1c8b-4d3f-4025-9973-f92101fed9ef"
      },
      "source": [
        "Chart Explanation: This bar chart illustrates the frequency of each type of toxic comment in the dataset."
      ]
    },
    {
      "cell_type": "markdown",
      "id": "375753f7-5fe8-4c19-a03f-65f752468f15",
      "metadata": {
        "id": "375753f7-5fe8-4c19-a03f-65f752468f15"
      },
      "source": [
        "### B. Multi-label Comments\n",
        "We identify how many comments contain more than one label."
      ]
    },
    {
      "cell_type": "code",
      "execution_count": null,
      "id": "aa64b7e0-dbd9-4935-b54b-1c4a242914bc",
      "metadata": {
        "colab": {
          "base_uri": "https://localhost:8080/"
        },
        "id": "aa64b7e0-dbd9-4935-b54b-1c4a242914bc",
        "outputId": "4d0a16fe-5f0c-4086-d6ba-859ba39996b4"
      },
      "outputs": [
        {
          "name": "stdout",
          "output_type": "stream",
          "text": [
            "Multi-label comments count: 160669\n"
          ]
        }
      ],
      "source": [
        "df['num_labels'] = df[['toxicity', 'severe_toxicity', 'obscene', 'threat', 'insult', 'identity_attack', 'sexual_explicit']].sum(axis=1)\n",
        "multi_label_comments = df[df['num_labels'] > 1]\n",
        "print(f\"Multi-label comments count: {len(multi_label_comments)}\")"
      ]
    },
    {
      "cell_type": "markdown",
      "id": "72c31c5e-45c5-40dd-9d38-b1e9d97fac74",
      "metadata": {
        "id": "72c31c5e-45c5-40dd-9d38-b1e9d97fac74"
      },
      "source": [
        "### C. Toxic vs Non-toxic Comments"
      ]
    },
    {
      "cell_type": "code",
      "execution_count": null,
      "id": "462c5b48-1953-415a-9399-bf7d0750eea7",
      "metadata": {
        "colab": {
          "base_uri": "https://localhost:8080/"
        },
        "id": "462c5b48-1953-415a-9399-bf7d0750eea7",
        "outputId": "17010f16-8649-4efa-f8a3-6bf36d4f3db0"
      },
      "outputs": [
        {
          "name": "stdout",
          "output_type": "stream",
          "text": [
            "Total toxic comments: 168148\n"
          ]
        }
      ],
      "source": [
        "toxic_comments = df[df['num_labels'] >= 1]\n",
        "print(f\"Total toxic comments: {len(toxic_comments)}\")"
      ]
    },
    {
      "cell_type": "markdown",
      "id": "10ea50be-1a5e-4137-9d67-8a8c02e2c2a0",
      "metadata": {
        "id": "10ea50be-1a5e-4137-9d67-8a8c02e2c2a0"
      },
      "source": [
        "Insight: Helps understand class imbalance in the dataset."
      ]
    },
    {
      "cell_type": "markdown",
      "id": "c74e795a-c936-4383-9ddb-76083eedfe18",
      "metadata": {
        "id": "c74e795a-c936-4383-9ddb-76083eedfe18"
      },
      "source": [
        "### D. Label Frequency and Proportion"
      ]
    },
    {
      "cell_type": "code",
      "execution_count": null,
      "id": "d8d2d099-c080-49f6-ba4a-0688a575b5b4",
      "metadata": {
        "colab": {
          "base_uri": "https://localhost:8080/"
        },
        "id": "d8d2d099-c080-49f6-ba4a-0688a575b5b4",
        "outputId": "b0cf8ac8-7da8-441d-911c-84e49e996525"
      },
      "outputs": [
        {
          "name": "stdout",
          "output_type": "stream",
          "text": [
            "                     Total  Ratio (%)\n",
            "toxicity         185933.24      10.30\n",
            "insult           146470.46       8.12\n",
            "identity_attack   40854.61       2.26\n",
            "obscene           25046.61       1.39\n",
            "threat            16805.67       0.93\n",
            "sexual_explicit   11922.95       0.66\n",
            "severe_toxicity    8270.11       0.46\n"
          ]
        }
      ],
      "source": [
        "label_counts = df[['toxicity', 'severe_toxicity', 'obscene', 'threat', 'insult', 'identity_attack', 'sexual_explicit']].sum().sort_values(ascending=False).round(2)\n",
        "label_ratios = (label_counts / len(df)) * 100\n",
        "\n",
        "summary = pd.DataFrame({\n",
        "    'Total': label_counts,\n",
        "    'Ratio (%)': label_ratios.round(2)\n",
        "})\n",
        "print(summary)"
      ]
    },
    {
      "cell_type": "markdown",
      "id": "6e0ab047-1102-4db5-ae93-bc8c4b650cf8",
      "metadata": {
        "id": "6e0ab047-1102-4db5-ae93-bc8c4b650cf8"
      },
      "source": [
        "Table Explanation: Summarizes how prevalent each type of toxicity is, both in raw counts and percentages."
      ]
    },
    {
      "cell_type": "markdown",
      "id": "109ecf8f-8fbb-43a8-96c8-a207f0040b7f",
      "metadata": {
        "id": "109ecf8f-8fbb-43a8-96c8-a207f0040b7f"
      },
      "source": [
        "### E. Correlation Analysis"
      ]
    },
    {
      "cell_type": "code",
      "execution_count": null,
      "id": "86e45a53-c9ae-4ef9-8b04-cd5e7c877cd9",
      "metadata": {
        "colab": {
          "base_uri": "https://localhost:8080/",
          "height": 635
        },
        "id": "86e45a53-c9ae-4ef9-8b04-cd5e7c877cd9",
        "outputId": "ce73be89-d2c8-406e-e960-e516a2327d98"
      },
      "outputs": [
        {
          "data": {
            "image/png": "[encoded data removed]",
            "text/plain": [
              "<Figure size 1000x600 with 2 Axes>"
            ]
          },
          "metadata": {},
          "output_type": "display_data"
        }
      ],
      "source": [
        "plt.figure(figsize=(10, 6))\n",
        "sns.heatmap(df[['toxicity', 'severe_toxicity', 'obscene', 'threat', 'insult', 'identity_attack', 'sexual_explicit']].corr(), annot=True, cmap='coolwarm')\n",
        "plt.title('Correlation between toxicity labels')\n",
        "plt.show()"
      ]
    },
    {
      "cell_type": "markdown",
      "id": "6da38df6-b962-461d-91e3-e03586df8cf9",
      "metadata": {
        "id": "6da38df6-b962-461d-91e3-e03586df8cf9"
      },
      "source": [
        "This heatmap illustrates the correlation between different toxic comment labels. Notably, there is a very strong correlation (0.93) between toxicity and insult, indicating that comments labeled as toxic are highly likely to also be insulting. Such strong correlations can help guide model design by highlighting which labels frequently co-occur.\n",
        "\n"
      ]
    },
    {
      "cell_type": "markdown",
      "id": "85069ab4-3be2-486d-b04d-e2f7cbe9b21f",
      "metadata": {
        "id": "85069ab4-3be2-486d-b04d-e2f7cbe9b21f"
      },
      "source": [
        "## 5. An Evaluation of Numerical Text Representations in Natural Language Processing\n",
        "In natural language processing, the choice of text representation can significantly affect model performance. Traditional methods like Bag of Words (BoW) and TF-IDF (Term Frequency-Inverse Document Frequency) represent text as sparse vectors based on word counts or their weighted importance. While BoW captures simple frequency information, it ignores the context and semantics of words, often resulting in high-dimensional vectors. TF-IDF improves upon this by reducing the influence of common words and emphasizing rarer, more informative terms. However, both methods fail to capture the deeper relationships between words, such as similarity in meaning or syntactic roles.\n",
        "\n",
        "To overcome these limitations, I chose to use learned word embeddings via an embedding layer in my neural network. Embeddings map words to dense, low-dimensional vectors that preserve semantic relationships based on their usage in large corpora. This allows models to better understand context, handle synonyms, and generalize across similar patterns in language. For tasks involving nuanced understanding of text, such as multi-label toxic comment classification, embeddings provide a more powerful and context-aware foundation than BoW or TF-IDF.\n",
        "\n",
        "This decision is inspired by findings such as those by Mikolov et al. (2013), who demonstrated that word embeddings significantly improve the performance of NLP models by capturing linguistic regularities and semantic relationships in vector space.\n",
        "\n",
        "Reference: Mikolov, T., Chen, K., Corrado, G., & Dean, J. (2013). [Efficient Estimation of Word Representations in Vector Space](https://arxiv.org/abs/1301.3781). *arXiv preprint arXiv:1301.3781*.\n"
      ]
    },
    {
      "cell_type": "markdown",
      "id": "44d46e47-b973-4f36-8ef5-12aac2f830d1",
      "metadata": {
        "id": "44d46e47-b973-4f36-8ef5-12aac2f830d1"
      },
      "source": [
        "## 6. Splitting data into training and testing:"
      ]
    },
    {
      "cell_type": "code",
      "execution_count": null,
      "id": "cbf696a3-2b15-4fa3-b0cc-52735be9921e",
      "metadata": {
        "colab": {
          "base_uri": "https://localhost:8080/"
        },
        "id": "cbf696a3-2b15-4fa3-b0cc-52735be9921e",
        "outputId": "55e9a424-f6d6-4ea0-e27e-e891255c12fa"
      },
      "outputs": [
        {
          "name": "stdout",
          "output_type": "stream",
          "text": [
            "Train texts: 1443899\n",
            "Test texts: 360975\n"
          ]
        }
      ],
      "source": [
        "train_texts, test_texts, train_labels, test_labels = train_test_split(\n",
        "    df['text'].values,  # text\n",
        "    df[['toxicity', 'severe_toxicity', 'obscene', 'threat', 'insult', 'identity_attack', 'sexual_explicit']].values,  # labels\n",
        "    test_size=0.2,\n",
        "    random_state=42\n",
        ")\n",
        "\n",
        "print(f\"Train texts: {len(train_texts)}\")\n",
        "print(f\"Test texts: {len(test_texts)}\")"
      ]
    },
    {
      "cell_type": "markdown",
      "id": "d239be22-a21d-411a-9d00-7f7265b429b6",
      "metadata": {
        "id": "d239be22-a21d-411a-9d00-7f7265b429b6"
      },
      "source": [
        "## 7.  Text Tokenization and Preprocessing for Embedding"
      ]
    },
    {
      "cell_type": "markdown",
      "id": "4635b797-3e01-49eb-ba88-12381eb72df2",
      "metadata": {
        "id": "4635b797-3e01-49eb-ba88-12381eb72df2"
      },
      "source": [
        "### 1. Tokenizing Text Data Using the Tokenizer\n",
        "To convert the text data into a format that a neural network can understand, we first need to tokenize it. Tokenization is the process of splitting a sentence or document into individual words or sub-words. The Tokenizer class in Keras is used for this purpose."
      ]
    },
    {
      "cell_type": "code",
      "execution_count": null,
      "id": "8b32013c-b586-45cb-9166-22b9009f853e",
      "metadata": {
        "id": "8b32013c-b586-45cb-9166-22b9009f853e"
      },
      "outputs": [],
      "source": [
        "tokenizer = Tokenizer()\n",
        "tokenizer.fit_on_texts(train_texts)  # Train the tokenizer using the training texts\n"
      ]
    },
    {
      "cell_type": "markdown",
      "id": "4e9e9875-cb55-428f-a551-5be1cbf221f9",
      "metadata": {
        "id": "4e9e9875-cb55-428f-a551-5be1cbf221f9"
      },
      "source": [
        "Explanation: The fit_on_texts() method builds the word index based on the frequency of each word in the training dataset. This creates a mapping of words to integers."
      ]
    },
    {
      "cell_type": "markdown",
      "id": "d7e2132f-0b64-4151-a8ef-fc93185bfe41",
      "metadata": {
        "id": "d7e2132f-0b64-4151-a8ef-fc93185bfe41"
      },
      "source": [
        "### 2. Converting Texts to Sequences of Tokens\n",
        "Once the tokenizer is trained, we can convert the raw text into a sequence of integers, where each word is replaced by its corresponding token (integer) in the vocabulary."
      ]
    },
    {
      "cell_type": "code",
      "execution_count": null,
      "id": "a0074462-2e4e-4e33-853e-21342d7d250f",
      "metadata": {
        "id": "a0074462-2e4e-4e33-853e-21342d7d250f"
      },
      "outputs": [],
      "source": [
        "train_sequences = tokenizer.texts_to_sequences(train_texts)\n",
        "test_sequences = tokenizer.texts_to_sequences(test_texts)"
      ]
    },
    {
      "cell_type": "markdown",
      "id": "4aa10576-a47b-41dd-b636-2c5239af7cfc",
      "metadata": {
        "id": "4aa10576-a47b-41dd-b636-2c5239af7cfc"
      },
      "source": [
        "Explanation: The texts_to_sequences() method transforms the text data into a sequence of integers. Each word in the text is mapped to its integer index from the tokenizer's vocabulary. This step converts text into a form suitable for input into machine learning models."
      ]
    },
    {
      "cell_type": "markdown",
      "id": "68879a12-297a-46d0-9bd9-533631197457",
      "metadata": {
        "id": "68879a12-297a-46d0-9bd9-533631197457"
      },
      "source": [
        "### 3. Padding Sequences for Consistency\n",
        "Text data sequences are of varying lengths, so it is necessary to standardize their lengths before passing them into the model. Padding ensures that all sequences are the same length, making it compatible for batch processing."
      ]
    },
    {
      "cell_type": "code",
      "execution_count": null,
      "id": "c68e1feb-b2c1-4219-81ea-702db7553c93",
      "metadata": {
        "id": "c68e1feb-b2c1-4219-81ea-702db7553c93"
      },
      "outputs": [],
      "source": [
        "max_len = 100  # This can be adjusted\n",
        "train_sequences = pad_sequences(train_sequences, maxlen=max_len, padding='post')\n",
        "test_sequences = pad_sequences(test_sequences, maxlen=max_len, padding='post')"
      ]
    },
    {
      "cell_type": "markdown",
      "id": "f716e3a2-57c3-41d6-b0b4-57a7392d304e",
      "metadata": {
        "id": "f716e3a2-57c3-41d6-b0b4-57a7392d304e"
      },
      "source": [
        "Explanation: The pad_sequences() method ensures that all sequences have the same length by adding padding tokens (usually zeros) to the end of shorter sequences. The maxlen parameter defines the target length, and any sequence longer than this will be truncated.\n",
        "\n",
        "By following these steps, we ensure that our text data is appropriately tokenized, converted to numeric format, and padded to a uniform length. This allows the model to process the data effectively, making it suitable for embedding-based models, which can then learn to capture semantic relationships between words.\n"
      ]
    },
    {
      "cell_type": "markdown",
      "id": "riZaRRuG7HEl",
      "metadata": {
        "id": "riZaRRuG7HEl"
      },
      "source": [
        "## 8. Handling Class Imbalance with Sample Weights\n",
        "Before training the model, we address the issue of class imbalance, which can negatively affect the model's ability to detect rare labels (e.g., severe_toxicity, identity_attack). Since this is a multi-label classification problem, we cannot directly use class_weight from Keras. Instead, we compute per-class weights using sklearn and then derive sample-level weights. This allows the model to give more importance to underrepresented classes during training, potentially improving recall and F1-score for those rare categories."
      ]
    },
    {
      "cell_type": "code",
      "execution_count": null,
      "id": "2N7UIsh77Pp2",
      "metadata": {
        "id": "2N7UIsh77Pp2"
      },
      "outputs": [],
      "source": [
        "from sklearn.utils.class_weight import compute_class_weight\n",
        "import numpy as np\n",
        "\n",
        "# Step 1: Compute class weights for each label\n",
        "num_classes = train_labels.shape[1]\n",
        "class_weights_dict = {}\n",
        "\n",
        "for i in range(num_classes):\n",
        "    y_col = train_labels[:, i]\n",
        "    unique_vals = np.unique(y_col)\n",
        "\n",
        "    if len(unique_vals) < 2:\n",
        "        print(f\"Skipping class {i}, only one class present: {unique_vals}\")\n",
        "        continue\n",
        "\n",
        "    class_weights = compute_class_weight(\n",
        "        class_weight='balanced',\n",
        "        classes=unique_vals,\n",
        "        y=y_col\n",
        "    )\n",
        "\n",
        "    class_weights_dict[i] = {\n",
        "        val: class_weights[j] for j, val in enumerate(unique_vals)\n",
        "    }\n",
        "\n",
        "# Step 2: Convert class weights to sample weights\n",
        "def get_sample_weights(y, class_weights_dict):\n",
        "    sample_weights = np.ones(y.shape[0])\n",
        "    for i in range(y.shape[1]):\n",
        "        if i not in class_weights_dict:\n",
        "            continue\n",
        "        for j in range(y.shape[0]):\n",
        "            label = y[j, i]\n",
        "            sample_weights[j] += class_weights_dict[i].get(label, 1.0) - 1\n",
        "    return sample_weights\n",
        "\n",
        "# Step 3: Generate sample weights for the training set\n",
        "sample_weights = get_sample_weights(train_labels, class_weights_dict)"
      ]
    },
    {
      "cell_type": "markdown",
      "id": "Nn_IqmEq-BBx",
      "metadata": {
        "id": "Nn_IqmEq-BBx"
      },
      "source": [
        "### Use EarlyStopping to reduce training time and prevent overfitting:"
      ]
    },
    {
      "cell_type": "code",
      "execution_count": null,
      "id": "CqQaLUxQ-E7U",
      "metadata": {
        "id": "CqQaLUxQ-E7U"
      },
      "outputs": [],
      "source": [
        "from tensorflow.keras.callbacks import EarlyStopping\n",
        "\n",
        "early_stop = EarlyStopping(\n",
        "    monitor='val_loss',\n",
        "    patience=2,\n",
        "    restore_best_weights=True\n",
        ")"
      ]
    },
    {
      "cell_type": "markdown",
      "id": "c4bd1b76-8487-4e17-8d0e-a778aa215d0a",
      "metadata": {
        "id": "c4bd1b76-8487-4e17-8d0e-a778aa215d0a"
      },
      "source": [
        "## 9. Building a Bidirectional LSTM Model for Multi-label Text Classification"
      ]
    },
    {
      "cell_type": "code",
      "execution_count": null,
      "id": "b86daa95-0f53-4db5-9490-ff861f504a18",
      "metadata": {
        "colab": {
          "base_uri": "https://localhost:8080/"
        },
        "id": "b86daa95-0f53-4db5-9490-ff861f504a18",
        "outputId": "8e9b0d6b-fee4-4746-d2a6-590da134f6bb"
      },
      "outputs": [
        {
          "name": "stdout",
          "output_type": "stream",
          "text": [
            "Epoch 1/5\n",
            "\u001b[1m22561/22561\u001b[0m \u001b[32m━━━━━━━━━━━━━━━━━━━━\u001b[0m\u001b[37m\u001b[0m \u001b[1m1090s\u001b[0m 48ms/step - accuracy: 0.9686 - loss: -230.5306 - val_accuracy: 0.9643 - val_loss: 346.0764\n",
            "Epoch 2/5\n",
            "\u001b[1m22561/22561\u001b[0m \u001b[32m━━━━━━━━━━━━━━━━━━━━\u001b[0m\u001b[37m\u001b[0m \u001b[1m1105s\u001b[0m 48ms/step - accuracy: 0.9645 - loss: -1816.0166 - val_accuracy: 0.9669 - val_loss: 834.2052\n",
            "Epoch 3/5\n",
            "\u001b[1m22561/22561\u001b[0m \u001b[32m━━━━━━━━━━━━━━━━━━━━\u001b[0m\u001b[37m\u001b[0m \u001b[1m1140s\u001b[0m 50ms/step - accuracy: 0.9626 - loss: -4044.2134 - val_accuracy: 0.9590 - val_loss: 1312.3898\n"
          ]
        }
      ],
      "source": [
        "# 1. Model Initialization\n",
        "model = Sequential()\n",
        "\n",
        "# 2. Embedding Layer\n",
        "model.add(Embedding(input_dim=len(tokenizer.word_index) + 1,\n",
        "                    output_dim=100,  # Default dimensions of representation\n",
        "                    input_length=max_len))\n",
        "\n",
        "# 3. First Bidirectional LSTM Layer\n",
        "model.add(Bidirectional(LSTM(64, return_sequences=True)))\n",
        "\n",
        "# 4. Dropout Layer if necessary\n",
        "model.add(Dropout(0.3))\n",
        "\n",
        "# 5. Second Bidirectional LSTM Layer\n",
        "model.add(Bidirectional(LSTM(32)))\n",
        "\n",
        "# 6. Dense Output Layer\n",
        "model.add(Dense(7, activation='sigmoid'))\n",
        "\n",
        "# 7. Model Compilation\n",
        "model.compile(optimizer=Adam(), loss='binary_crossentropy', metrics=['accuracy'])\n",
        "\n",
        "# 8. Model Training\n",
        "history =model.fit(\n",
        "    train_sequences,\n",
        "    train_labels,\n",
        "    validation_data=(test_sequences, test_labels),\n",
        "    epochs=5,\n",
        "    batch_size=64,\n",
        "    sample_weight=sample_weights,\n",
        "    callbacks=[early_stop]\n",
        ")\n"
      ]
    },
    {
      "cell_type": "markdown",
      "id": "94e0194b-cc33-4b27-a137-14c65ec2318c",
      "metadata": {
        "id": "94e0194b-cc33-4b27-a137-14c65ec2318c"
      },
      "source": [
        "Explanation:\n",
        "1. This initializes a sequential model using Keras, which allows we to stack layers one after the other in a linear manner.\n",
        "2. This layer transforms each word into a dense numeric vector of length 100. These embeddings are learned during training.\n",
        "\n",
        "    input_dim: The vocabulary size (+1 for padding).\n",
        "\n",
        "    output_dim: Dimension of the embedding vectors.\n",
        "\n",
        "    input_length: Maximum sequence length (after padding).\n",
        "3. This LSTM layer reads the text in both forward and backward directions. return_sequences=True is used because we will add another LSTM layer next, and we need the full sequence as input.\n",
        "4. Dropout helps prevent overfitting by randomly disabling 50% of the neurons during training, which forces the model to learn more robust features.\n",
        "5. Another LSTM layer to further process the sequence from the previous layer. This one outputs the final summary of the sequence, as return_sequences is not used here.\n",
        "6. The final output layer predicts one of 7 classes using the softmax activation function.\n",
        "7. Optimizer: Adam is widely used and adapts the learning rate automatically.\n",
        "\n",
        "    Loss Function:\n",
        "    Use categorical_crossentropy for multi-class (single-label) classification.\n",
        "    Use binary_crossentropy for multi-label classification (recommended for toxic comment tasks).\n",
        "8. This step trains the Bidirectional LSTM model using the training data. The fit() function feeds the padded sequences and their corresponding labels into the model for multiple iterations (epochs).\n",
        "\n",
        "    train_sequences: Input sequences (padded) used for training.\n",
        "    \n",
        "    train_labels: The multi-label classification targets.\n",
        "    \n",
        "    validation_data: A tuple containing validation inputs and labels. This allows the model to evaluate its performance on unseen data after each epoch.\n",
        "    \n",
        "    epochs=5: The model will go through the entire training dataset 5 times. You can increase this for better accuracy if the model is not overfitting.\n",
        "    \n",
        "    batch_size=32: The number of samples the model will process before updating its weights. A batch size of 32 is commonly used for balance between performance and memory usage.\n",
        "    \n",
        "    The history object stores details about the training process, such as loss and accuracy across epochs. This can be used later for visualizing training performance.\n"
      ]
    },
    {
      "cell_type": "markdown",
      "id": "23b4da07-6050-4a57-90b1-04074ca32b97",
      "metadata": {
        "id": "23b4da07-6050-4a57-90b1-04074ca32b97"
      },
      "source": [
        "## 10. Saving the Trained Model"
      ]
    },
    {
      "cell_type": "code",
      "execution_count": null,
      "id": "c2c6ed72-10d5-4986-a910-2aadd7417bc9",
      "metadata": {
        "colab": {
          "base_uri": "https://localhost:8080/"
        },
        "id": "c2c6ed72-10d5-4986-a910-2aadd7417bc9",
        "outputId": "153f93f9-0bf9-4c32-942e-0e5e48385930"
      },
      "outputs": [
        {
          "name": "stdout",
          "output_type": "stream",
          "text": [
            "Model saved to 'toxicity_model.keras'.\n",
            "Training history saved to 'training_history.pkl'.\n"
          ]
        }
      ],
      "source": [
        "model.save('my_model.keras')\n",
        "print(\"Model saved to 'toxicity_model.keras'.\")\n",
        "\n",
        "# Optionally, save the training history for future analysis\n",
        "import pickle\n",
        "\n",
        "# Ensure 'history' exists and is valid\n",
        "with open('training_history.pkl', 'wb') as f:\n",
        "    pickle.dump(history.history, f)\n",
        "\n",
        "print(\"Training history saved to 'training_history.pkl'.\")"
      ]
    },
    {
      "cell_type": "markdown",
      "id": "53242262-568b-44de-940d-2367ff9da1d6",
      "metadata": {
        "id": "53242262-568b-44de-940d-2367ff9da1d6"
      },
      "source": [
        "Explanation:\n",
        "model.save('my_model.keras')\n",
        "Saves the full model, including its architecture, weights, and optimizer state.\n",
        "We can load it later using load_model() from Keras without retraining.\n",
        "\n",
        "pickle.dump(history.history, f)\n",
        "Saves the training metrics (e.g., accuracy and loss per epoch) so we can later plot graphs or compare multiple models.\n"
      ]
    },
    {
      "cell_type": "markdown",
      "id": "f5e6928c-fd0c-4e46-8bf8-e4c8e77ed847",
      "metadata": {
        "id": "f5e6928c-fd0c-4e46-8bf8-e4c8e77ed847"
      },
      "source": [
        "## 11. Model Evaluation and Performance Visualization"
      ]
    },
    {
      "cell_type": "markdown",
      "id": "0ce62417-e4d6-4e84-aaaa-a04cb7dd12c9",
      "metadata": {
        "id": "0ce62417-e4d6-4e84-aaaa-a04cb7dd12c9"
      },
      "source": [
        "### 1: Evaluate the model on test data\n",
        "Get the final accuracy and loss on the test set after training"
      ]
    },
    {
      "cell_type": "code",
      "execution_count": null,
      "id": "158e6ebe-03bf-47f5-9a81-6c41d0c43789",
      "metadata": {
        "colab": {
          "base_uri": "https://localhost:8080/"
        },
        "id": "158e6ebe-03bf-47f5-9a81-6c41d0c43789",
        "outputId": "e7f9856d-b995-4076-9fab-e155e79e21ee"
      },
      "outputs": [
        {
          "name": "stdout",
          "output_type": "stream",
          "text": [
            "\u001b[1m11281/11281\u001b[0m \u001b[32m━━━━━━━━━━━━━━━━━━━━\u001b[0m\u001b[37m\u001b[0m \u001b[1m98s\u001b[0m 9ms/step - accuracy: 0.9643 - loss: 346.3885\n",
            "Test Accuracy: 0.9643\n",
            "Test Loss: 346.0770\n"
          ]
        }
      ],
      "source": [
        "test_loss, test_accuracy = model.evaluate(test_sequences, test_labels)\n",
        "print(f\"Test Accuracy: {test_accuracy:.4f}\")\n",
        "print(f\"Test Loss: {test_loss:.4f}\")"
      ]
    },
    {
      "cell_type": "markdown",
      "id": "816255d6-456a-4ee7-8301-d8bb25592ca4",
      "metadata": {
        "id": "816255d6-456a-4ee7-8301-d8bb25592ca4"
      },
      "source": [
        "### 2: Plot training & validation accuracy over epochs"
      ]
    },
    {
      "cell_type": "code",
      "execution_count": null,
      "id": "730f26b8-23d6-4fd7-9bf8-0eaa11a3431f",
      "metadata": {
        "colab": {
          "base_uri": "https://localhost:8080/",
          "height": 472
        },
        "id": "730f26b8-23d6-4fd7-9bf8-0eaa11a3431f",
        "outputId": "da7237ba-8d8e-45e9-f1bb-37adeee365d5"
      },
      "outputs": [
        {
          "data": {
            "image/png": "[encoded data removed]",
            "text/plain": [
              "<Figure size 640x480 with 1 Axes>"
            ]
          },
          "metadata": {},
          "output_type": "display_data"
        }
      ],
      "source": [
        "plt.plot(history.history['accuracy'], label='Training Accuracy')\n",
        "plt.plot(history.history['val_accuracy'], label='Validation Accuracy')\n",
        "plt.title('Model Accuracy')\n",
        "plt.xlabel('Epoch')\n",
        "plt.ylabel('Accuracy')\n",
        "plt.legend()\n",
        "plt.grid(True)\n",
        "plt.show()"
      ]
    },
    {
      "cell_type": "markdown",
      "id": "a3cf876e-ee8f-4ef4-8e99-f5a81c8ecdfe",
      "metadata": {
        "id": "a3cf876e-ee8f-4ef4-8e99-f5a81c8ecdfe"
      },
      "source": [
        "### 3: Plot training & validation loss over epochs"
      ]
    },
    {
      "cell_type": "code",
      "execution_count": null,
      "id": "1357e63f-47b2-4c2d-bc47-96f6c204a174",
      "metadata": {
        "colab": {
          "base_uri": "https://localhost:8080/",
          "height": 472
        },
        "id": "1357e63f-47b2-4c2d-bc47-96f6c204a174",
        "outputId": "194005b2-3518-4138-ebb3-f300d3258774"
      },
      "outputs": [
        {
          "data": {
            "image/png": "[encoded data removed]",
            "text/plain": [
              "<Figure size 640x480 with 1 Axes>"
            ]
          },
          "metadata": {},
          "output_type": "display_data"
        }
      ],
      "source": [
        "plt.plot(history.history['loss'], label='Training Loss')\n",
        "plt.plot(history.history['val_loss'], label='Validation Loss')\n",
        "plt.title('Model Loss')\n",
        "plt.xlabel('Epoch')\n",
        "plt.ylabel('Loss')\n",
        "plt.legend()\n",
        "plt.grid(True)\n",
        "plt.show()"
      ]
    },
    {
      "cell_type": "markdown",
      "id": "3ffc99cc-7776-4990-af95-03408b2f74b3",
      "metadata": {
        "id": "3ffc99cc-7776-4990-af95-03408b2f74b3"
      },
      "source": [
        "## Performance evaluation"
      ]
    },
    {
      "cell_type": "code",
      "execution_count": null,
      "id": "fbe8b3c0-1594-4b85-9912-718d9b2e0dbc",
      "metadata": {
        "colab": {
          "base_uri": "https://localhost:8080/",
          "height": 1000
        },
        "id": "fbe8b3c0-1594-4b85-9912-718d9b2e0dbc",
        "outputId": "8eb8358b-8af9-465d-f8fa-0e6d73fe3780"
      },
      "outputs": [
        {
          "name": "stdout",
          "output_type": "stream",
          "text": [
            "\u001b[1m11281/11281\u001b[0m \u001b[32m━━━━━━━━━━━━━━━━━━━━\u001b[0m\u001b[37m\u001b[0m \u001b[1m77s\u001b[0m 7ms/step\n",
            "                 precision    recall  f1-score   support\n",
            "\n",
            "       toxicity       0.08      0.91      0.14     29078\n",
            "severe_toxicity       0.00      0.25      0.00         4\n",
            "        obscene       0.00      0.51      0.01      1916\n",
            "         threat       0.00      0.71      0.00       899\n",
            "         insult       0.05      0.79      0.09     21395\n",
            "identity_attack       0.01      0.70      0.01      2725\n",
            "sexual_explicit       0.00      0.52      0.00       936\n",
            "\n",
            "      micro avg       0.02      0.83      0.04     56953\n",
            "      macro avg       0.02      0.63      0.04     56953\n",
            "   weighted avg       0.06      0.83      0.11     56953\n",
            "    samples avg       0.04      0.07      0.04     56953\n",
            "\n"
          ]
        },
        {
          "data": {
            "image/png": "[encoded data removed]",
            "text/plain": [
              "<Figure size 400x300 with 2 Axes>"
            ]
          },
          "metadata": {},
          "output_type": "display_data"
        },
        {
          "data": {
            "image/png": "[encoded data removed]",
            "text/plain": [
              "<Figure size 400x300 with 2 Axes>"
            ]
          },
          "metadata": {},
          "output_type": "display_data"
        },
        {
          "data": {
            "image/png": "[encoded data removed]",
            "text/plain": [
              "<Figure size 400x300 with 2 Axes>"
            ]
          },
          "metadata": {},
          "output_type": "display_data"
        },
        {
          "data": {
            "image/png": "[encoded data removed]",
            "text/plain": [
              "<Figure size 400x300 with 2 Axes>"
            ]
          },
          "metadata": {},
          "output_type": "display_data"
        },
        {
          "data": {
            "image/png": "[encoded data removed]",
            "text/plain": [
              "<Figure size 400x300 with 2 Axes>"
            ]
          },
          "metadata": {},
          "output_type": "display_data"
        },
        {
          "data": {
            "image/png": "[encoded data removed]",
            "text/plain": [
              "<Figure size 400x300 with 2 Axes>"
            ]
          },
          "metadata": {},
          "output_type": "display_data"
        },
        {
          "data": {
            "image/png": "[encoded data removed]",
            "text/plain": [
              "<Figure size 400x300 with 2 Axes>"
            ]
          },
          "metadata": {},
          "output_type": "display_data"
        }
      ],
      "source": [
        "# Model predictions\n",
        "y_pred_probs = model.predict(test_sequences)\n",
        "y_pred = (y_pred_probs >= 0.5).astype(int)\n",
        "\n",
        "# Convert real values ​​to 0 or 1\n",
        "test_labels = (test_labels >= 0.5).astype(int)\n",
        "\n",
        "# Print classification report\n",
        "print(classification_report(test_labels, y_pred, target_names=[\n",
        "    'toxicity', 'severe_toxicity', 'obscene', 'threat', 'insult', 'identity_attack', 'sexual_explicit'\n",
        "], zero_division=0))\n",
        "\n",
        "# confusion matrices\n",
        "conf_matrix = multilabel_confusion_matrix(test_labels, y_pred)\n",
        "\n",
        "# confusion matrix for each class.\n",
        "labels = ['toxicity', 'severe_toxicity', 'obscene', 'threat', 'insult', 'identity_attack', 'sexual_explicit']\n",
        "for i, label in enumerate(labels):\n",
        "    plt.figure(figsize=(4, 3))\n",
        "    sns.heatmap(conf_matrix[i], annot=True, fmt='d', cmap='Blues')\n",
        "    plt.title(f'Confusion Matrix for {label}')\n",
        "    plt.xlabel('Predicted')\n",
        "    plt.ylabel('Actual')\n",
        "    plt.tight_layout()\n",
        "    plt.show()"
      ]
    },
    {
      "cell_type": "code",
      "execution_count": null,
      "id": "fcf8539b-f6ab-4409-bdfd-ca79ccd43a50",
      "metadata": {
        "id": "fcf8539b-f6ab-4409-bdfd-ca79ccd43a50"
      },
      "outputs": [],
      "source": []
    },
    {
      "cell_type": "code",
      "execution_count": null,
      "id": "b5780aa5-1467-4d0d-bdcf-3045a4281d35",
      "metadata": {
        "id": "b5780aa5-1467-4d0d-bdcf-3045a4281d35"
      },
      "outputs": [],
      "source": []
    }
  ],
  "metadata": {
    "accelerator": "GPU",
    "colab": {
      "gpuType": "T4",
      "provenance": []
    },
    "kernelspec": {
      "display_name": "Python 3",
      "name": "python3"
    },
    "language_info": {
      "codemirror_mode": {
        "name": "ipython",
        "version": 3
      },
      "file_extension": ".py",
      "mimetype": "text/x-python",
      "name": "python",
      "nbconvert_exporter": "python",
      "pygments_lexer": "ipython3",
      "version": "3.12.9"
    },
    "widgets": {
      "application/vnd.jupyter.widget-state+json": {
        "00e3b1afbcdc48669d2692dcf077ed0d": {
          "model_module": "@jupyter-widgets/controls",
          "model_module_version": "1.5.0",
          "model_name": "DescriptionStyleModel",
          "state": {
            "_model_module": "@jupyter-widgets/controls",
            "_model_module_version": "1.5.0",
            "_model_name": "DescriptionStyleModel",
            "_view_count": null,
            "_view_module": "@jupyter-widgets/base",
            "_view_module_version": "1.2.0",
            "_view_name": "StyleView",
            "description_width": ""
          }
        },
        "019a7a18f2154967af90193398badce9": {
          "model_module": "@jupyter-widgets/controls",
          "model_module_version": "1.5.0",
          "model_name": "HTMLModel",
          "state": {
            "_dom_classes": [],
            "_model_module": "@jupyter-widgets/controls",
            "_model_module_version": "1.5.0",
            "_model_name": "HTMLModel",
            "_view_count": null,
            "_view_module": "@jupyter-widgets/controls",
            "_view_module_version": "1.5.0",
            "_view_name": "HTMLView",
            "description": "",
            "description_tooltip": null,
            "layout": "IPY_MODEL_a1a1b4376dbd4f5694c62f72a14ff32b",
            "placeholder": "​",
            "style": "IPY_MODEL_ab189f443bdb4ca4a50aeddab4c70ee1",
            "value": " 7.73k/7.73k [00:00&lt;00:00, 300kB/s]"
          }
        },
        "02dbb9afe34646f898100b8045428436": {
          "model_module": "@jupyter-widgets/controls",
          "model_module_version": "1.5.0",
          "model_name": "HBoxModel",
          "state": {
            "_dom_classes": [],
            "_model_module": "@jupyter-widgets/controls",
            "_model_module_version": "1.5.0",
            "_model_name": "HBoxModel",
            "_view_count": null,
            "_view_module": "@jupyter-widgets/controls",
            "_view_module_version": "1.5.0",
            "_view_name": "HBoxView",
            "box_style": "",
            "children": [
              "IPY_MODEL_9ff9008c97094d298bedc7c2d2fe35f0",
              "IPY_MODEL_d356a23c3eb84186883ade05424c8528",
              "IPY_MODEL_57c753c7c1b14f2394c4ec8ef4a9c452"
            ],
            "layout": "IPY_MODEL_53ce29e5620a49d19c14ed2d7a3265c6"
          }
        },
        "048e53f8350645e59440622413e9a380": {
          "model_module": "@jupyter-widgets/controls",
          "model_module_version": "1.5.0",
          "model_name": "DescriptionStyleModel",
          "state": {
            "_model_module": "@jupyter-widgets/controls",
            "_model_module_version": "1.5.0",
            "_model_name": "DescriptionStyleModel",
            "_view_count": null,
            "_view_module": "@jupyter-widgets/base",
            "_view_module_version": "1.2.0",
            "_view_name": "StyleView",
            "description_width": ""
          }
        },
        "04c70c884b184445a7b7b89e2e01f3bd": {
          "model_module": "@jupyter-widgets/controls",
          "model_module_version": "1.5.0",
          "model_name": "DescriptionStyleModel",
          "state": {
            "_model_module": "@jupyter-widgets/controls",
            "_model_module_version": "1.5.0",
            "_model_name": "DescriptionStyleModel",
            "_view_count": null,
            "_view_module": "@jupyter-widgets/base",
            "_view_module_version": "1.2.0",
            "_view_name": "StyleView",
            "description_width": ""
          }
        },
        "05427348bd624f04beed24f7a11b8d9e": {
          "model_module": "@jupyter-widgets/controls",
          "model_module_version": "1.5.0",
          "model_name": "HTMLModel",
          "state": {
            "_dom_classes": [],
            "_model_module": "@jupyter-widgets/controls",
            "_model_module_version": "1.5.0",
            "_model_name": "HTMLModel",
            "_view_count": null,
            "_view_module": "@jupyter-widgets/controls",
            "_view_module_version": "1.5.0",
            "_view_name": "HTMLView",
            "description": "",
            "description_tooltip": null,
            "layout": "IPY_MODEL_799e3ddf5c4c4a059f2b93399011b0c3",
            "placeholder": "​",
            "style": "IPY_MODEL_a954974ba78c49689e28f543bfe37813",
            "value": "validation-00000-of-00001.parquet: 100%"
          }
        },
        "0888ff3186854ff9995612a43bda286c": {
          "model_module": "@jupyter-widgets/base",
          "model_module_version": "1.2.0",
          "model_name": "LayoutModel",
          "state": {
            "_model_module": "@jupyter-widgets/base",
            "_model_module_version": "1.2.0",
            "_model_name": "LayoutModel",
            "_view_count": null,
            "_view_module": "@jupyter-widgets/base",
            "_view_module_version": "1.2.0",
            "_view_name": "LayoutView",
            "align_content": null,
            "align_items": null,
            "align_self": null,
            "border": null,
            "bottom": null,
            "display": null,
            "flex": null,
            "flex_flow": null,
            "grid_area": null,
            "grid_auto_columns": null,
            "grid_auto_flow": null,
            "grid_auto_rows": null,
            "grid_column": null,
            "grid_gap": null,
            "grid_row": null,
            "grid_template_areas": null,
            "grid_template_columns": null,
            "grid_template_rows": null,
            "height": null,
            "justify_content": null,
            "justify_items": null,
            "left": null,
            "margin": null,
            "max_height": null,
            "max_width": null,
            "min_height": null,
            "min_width": null,
            "object_fit": null,
            "object_position": null,
            "order": null,
            "overflow": null,
            "overflow_x": null,
            "overflow_y": null,
            "padding": null,
            "right": null,
            "top": null,
            "visibility": null,
            "width": null
          }
        },
        "11853e397eff4e469fc8a1ca8a9f2f03": {
          "model_module": "@jupyter-widgets/controls",
          "model_module_version": "1.5.0",
          "model_name": "HTMLModel",
          "state": {
            "_dom_classes": [],
            "_model_module": "@jupyter-widgets/controls",
            "_model_module_version": "1.5.0",
            "_model_name": "HTMLModel",
            "_view_count": null,
            "_view_module": "@jupyter-widgets/controls",
            "_view_module_version": "1.5.0",
            "_view_name": "HTMLView",
            "description": "",
            "description_tooltip": null,
            "layout": "IPY_MODEL_0888ff3186854ff9995612a43bda286c",
            "placeholder": "​",
            "style": "IPY_MODEL_140c90bd1d9c454fb91437c550b857a3",
            "value": "README.md: 100%"
          }
        },
        "140c90bd1d9c454fb91437c550b857a3": {
          "model_module": "@jupyter-widgets/controls",
          "model_module_version": "1.5.0",
          "model_name": "DescriptionStyleModel",
          "state": {
            "_model_module": "@jupyter-widgets/controls",
            "_model_module_version": "1.5.0",
            "_model_name": "DescriptionStyleModel",
            "_view_count": null,
            "_view_module": "@jupyter-widgets/base",
            "_view_module_version": "1.2.0",
            "_view_name": "StyleView",
            "description_width": ""
          }
        },
        "152c4aa7f6e949f6998c90a1ab9d22dd": {
          "model_module": "@jupyter-widgets/base",
          "model_module_version": "1.2.0",
          "model_name": "LayoutModel",
          "state": {
            "_model_module": "@jupyter-widgets/base",
            "_model_module_version": "1.2.0",
            "_model_name": "LayoutModel",
            "_view_count": null,
            "_view_module": "@jupyter-widgets/base",
            "_view_module_version": "1.2.0",
            "_view_name": "LayoutView",
            "align_content": null,
            "align_items": null,
            "align_self": null,
            "border": null,
            "bottom": null,
            "display": null,
            "flex": null,
            "flex_flow": null,
            "grid_area": null,
            "grid_auto_columns": null,
            "grid_auto_flow": null,
            "grid_auto_rows": null,
            "grid_column": null,
            "grid_gap": null,
            "grid_row": null,
            "grid_template_areas": null,
            "grid_template_columns": null,
            "grid_template_rows": null,
            "height": null,
            "justify_content": null,
            "justify_items": null,
            "left": null,
            "margin": null,
            "max_height": null,
            "max_width": null,
            "min_height": null,
            "min_width": null,
            "object_fit": null,
            "object_position": null,
            "order": null,
            "overflow": null,
            "overflow_x": null,
            "overflow_y": null,
            "padding": null,
            "right": null,
            "top": null,
            "visibility": null,
            "width": null
          }
        },
        "1ad2a2d526864231bdc4cd66952058b2": {
          "model_module": "@jupyter-widgets/controls",
          "model_module_version": "1.5.0",
          "model_name": "DescriptionStyleModel",
          "state": {
            "_model_module": "@jupyter-widgets/controls",
            "_model_module_version": "1.5.0",
            "_model_name": "DescriptionStyleModel",
            "_view_count": null,
            "_view_module": "@jupyter-widgets/base",
            "_view_module_version": "1.2.0",
            "_view_name": "StyleView",
            "description_width": ""
          }
        },
        "227b9544a8de470ab339d4b1ac40a7f0": {
          "model_module": "@jupyter-widgets/controls",
          "model_module_version": "1.5.0",
          "model_name": "FloatProgressModel",
          "state": {
            "_dom_classes": [],
            "_model_module": "@jupyter-widgets/controls",
            "_model_module_version": "1.5.0",
            "_model_name": "FloatProgressModel",
            "_view_count": null,
            "_view_module": "@jupyter-widgets/controls",
            "_view_module_version": "1.5.0",
            "_view_name": "ProgressView",
            "bar_style": "success",
            "description": "",
            "description_tooltip": null,
            "layout": "IPY_MODEL_769f04fa473649b48dd36c6df2af2fa7",
            "max": 20800265,
            "min": 0,
            "orientation": "horizontal",
            "style": "IPY_MODEL_cfa8925a7f684a5d913a958c54006905",
            "value": 20800265
          }
        },
        "2c0197b58ec74349bd574121fa9f154d": {
          "model_module": "@jupyter-widgets/controls",
          "model_module_version": "1.5.0",
          "model_name": "HTMLModel",
          "state": {
            "_dom_classes": [],
            "_model_module": "@jupyter-widgets/controls",
            "_model_module_version": "1.5.0",
            "_model_name": "HTMLModel",
            "_view_count": null,
            "_view_module": "@jupyter-widgets/controls",
            "_view_module_version": "1.5.0",
            "_view_name": "HTMLView",
            "description": "",
            "description_tooltip": null,
            "layout": "IPY_MODEL_41c48342814846cc8c7c09b8d489ee5c",
            "placeholder": "​",
            "style": "IPY_MODEL_1ad2a2d526864231bdc4cd66952058b2",
            "value": " 97320/97320 [00:00&lt;00:00, 135852.49 examples/s]"
          }
        },
        "3211ba23cd5e4779b6e9c22824d663b8": {
          "model_module": "@jupyter-widgets/controls",
          "model_module_version": "1.5.0",
          "model_name": "FloatProgressModel",
          "state": {
            "_dom_classes": [],
            "_model_module": "@jupyter-widgets/controls",
            "_model_module_version": "1.5.0",
            "_model_name": "FloatProgressModel",
            "_view_count": null,
            "_view_module": "@jupyter-widgets/controls",
            "_view_module_version": "1.5.0",
            "_view_name": "ProgressView",
            "bar_style": "success",
            "description": "",
            "description_tooltip": null,
            "layout": "IPY_MODEL_52d4a1b56bba462dbaf5bb86d92bd11a",
            "max": 97320,
            "min": 0,
            "orientation": "horizontal",
            "style": "IPY_MODEL_a8329d95f29c444d99b5352a001aa5d9",
            "value": 97320
          }
        },
        "3350ec2010904876ae4d52a6fbd69636": {
          "model_module": "@jupyter-widgets/controls",
          "model_module_version": "1.5.0",
          "model_name": "FloatProgressModel",
          "state": {
            "_dom_classes": [],
            "_model_module": "@jupyter-widgets/controls",
            "_model_module_version": "1.5.0",
            "_model_name": "FloatProgressModel",
            "_view_count": null,
            "_view_module": "@jupyter-widgets/controls",
            "_view_module_version": "1.5.0",
            "_view_name": "ProgressView",
            "bar_style": "success",
            "description": "",
            "description_tooltip": null,
            "layout": "IPY_MODEL_aa9c0b8923e2435790cc7c411f885620",
            "max": 186778090,
            "min": 0,
            "orientation": "horizontal",
            "style": "IPY_MODEL_4e2aa913ffb349c087e13cf9051745b5",
            "value": 186778090
          }
        },
        "37694bc5036f4657a7a3164f0b9d668f": {
          "model_module": "@jupyter-widgets/controls",
          "model_module_version": "1.5.0",
          "model_name": "HTMLModel",
          "state": {
            "_dom_classes": [],
            "_model_module": "@jupyter-widgets/controls",
            "_model_module_version": "1.5.0",
            "_model_name": "HTMLModel",
            "_view_count": null,
            "_view_module": "@jupyter-widgets/controls",
            "_view_module_version": "1.5.0",
            "_view_name": "HTMLView",
            "description": "",
            "description_tooltip": null,
            "layout": "IPY_MODEL_fceb92e726d5428ca36f81af8820fd3d",
            "placeholder": "​",
            "style": "IPY_MODEL_b7b38ccc26a7418ba6be9826178d3de5",
            "value": " 194M/194M [00:03&lt;00:00, 71.7MB/s]"
          }
        },
        "3e20daf921334edfb738096964a90c2b": {
          "model_module": "@jupyter-widgets/base",
          "model_module_version": "1.2.0",
          "model_name": "LayoutModel",
          "state": {
            "_model_module": "@jupyter-widgets/base",
            "_model_module_version": "1.2.0",
            "_model_name": "LayoutModel",
            "_view_count": null,
            "_view_module": "@jupyter-widgets/base",
            "_view_module_version": "1.2.0",
            "_view_name": "LayoutView",
            "align_content": null,
            "align_items": null,
            "align_self": null,
            "border": null,
            "bottom": null,
            "display": null,
            "flex": null,
            "flex_flow": null,
            "grid_area": null,
            "grid_auto_columns": null,
            "grid_auto_flow": null,
            "grid_auto_rows": null,
            "grid_column": null,
            "grid_gap": null,
            "grid_row": null,
            "grid_template_areas": null,
            "grid_template_columns": null,
            "grid_template_rows": null,
            "height": null,
            "justify_content": null,
            "justify_items": null,
            "left": null,
            "margin": null,
            "max_height": null,
            "max_width": null,
            "min_height": null,
            "min_width": null,
            "object_fit": null,
            "object_position": null,
            "order": null,
            "overflow": null,
            "overflow_x": null,
            "overflow_y": null,
            "padding": null,
            "right": null,
            "top": null,
            "visibility": null,
            "width": null
          }
        },
        "3ec5c2b348f6438f9092acbfc990f0ed": {
          "model_module": "@jupyter-widgets/base",
          "model_module_version": "1.2.0",
          "model_name": "LayoutModel",
          "state": {
            "_model_module": "@jupyter-widgets/base",
            "_model_module_version": "1.2.0",
            "_model_name": "LayoutModel",
            "_view_count": null,
            "_view_module": "@jupyter-widgets/base",
            "_view_module_version": "1.2.0",
            "_view_name": "LayoutView",
            "align_content": null,
            "align_items": null,
            "align_self": null,
            "border": null,
            "bottom": null,
            "display": null,
            "flex": null,
            "flex_flow": null,
            "grid_area": null,
            "grid_auto_columns": null,
            "grid_auto_flow": null,
            "grid_auto_rows": null,
            "grid_column": null,
            "grid_gap": null,
            "grid_row": null,
            "grid_template_areas": null,
            "grid_template_columns": null,
            "grid_template_rows": null,
            "height": null,
            "justify_content": null,
            "justify_items": null,
            "left": null,
            "margin": null,
            "max_height": null,
            "max_width": null,
            "min_height": null,
            "min_width": null,
            "object_fit": null,
            "object_position": null,
            "order": null,
            "overflow": null,
            "overflow_x": null,
            "overflow_y": null,
            "padding": null,
            "right": null,
            "top": null,
            "visibility": null,
            "width": null
          }
        },
        "41c48342814846cc8c7c09b8d489ee5c": {
          "model_module": "@jupyter-widgets/base",
          "model_module_version": "1.2.0",
          "model_name": "LayoutModel",
          "state": {
            "_model_module": "@jupyter-widgets/base",
            "_model_module_version": "1.2.0",
            "_model_name": "LayoutModel",
            "_view_count": null,
            "_view_module": "@jupyter-widgets/base",
            "_view_module_version": "1.2.0",
            "_view_name": "LayoutView",
            "align_content": null,
            "align_items": null,
            "align_self": null,
            "border": null,
            "bottom": null,
            "display": null,
            "flex": null,
            "flex_flow": null,
            "grid_area": null,
            "grid_auto_columns": null,
            "grid_auto_flow": null,
            "grid_auto_rows": null,
            "grid_column": null,
            "grid_gap": null,
            "grid_row": null,
            "grid_template_areas": null,
            "grid_template_columns": null,
            "grid_template_rows": null,
            "height": null,
            "justify_content": null,
            "justify_items": null,
            "left": null,
            "margin": null,
            "max_height": null,
            "max_width": null,
            "min_height": null,
            "min_width": null,
            "object_fit": null,
            "object_position": null,
            "order": null,
            "overflow": null,
            "overflow_x": null,
            "overflow_y": null,
            "padding": null,
            "right": null,
            "top": null,
            "visibility": null,
            "width": null
          }
        },
        "437711900cb84a0b9067d3a0780d95cc": {
          "model_module": "@jupyter-widgets/controls",
          "model_module_version": "1.5.0",
          "model_name": "DescriptionStyleModel",
          "state": {
            "_model_module": "@jupyter-widgets/controls",
            "_model_module_version": "1.5.0",
            "_model_name": "DescriptionStyleModel",
            "_view_count": null,
            "_view_module": "@jupyter-widgets/base",
            "_view_module_version": "1.2.0",
            "_view_name": "StyleView",
            "description_width": ""
          }
        },
        "46d172cc06674139be7c0de38520ec1f": {
          "model_module": "@jupyter-widgets/controls",
          "model_module_version": "1.5.0",
          "model_name": "HTMLModel",
          "state": {
            "_dom_classes": [],
            "_model_module": "@jupyter-widgets/controls",
            "_model_module_version": "1.5.0",
            "_model_name": "HTMLModel",
            "_view_count": null,
            "_view_module": "@jupyter-widgets/controls",
            "_view_module_version": "1.5.0",
            "_view_name": "HTMLView",
            "description": "",
            "description_tooltip": null,
            "layout": "IPY_MODEL_894aae8fcae44edc92392b25a6686dd6",
            "placeholder": "​",
            "style": "IPY_MODEL_e24fecae57464eb7b8e73ae9dd4e2844",
            "value": " 20.8M/20.8M [00:00&lt;00:00, 62.7MB/s]"
          }
        },
        "47caa0daca6446b0b00c0e48b1575f9f": {
          "model_module": "@jupyter-widgets/controls",
          "model_module_version": "1.5.0",
          "model_name": "HTMLModel",
          "state": {
            "_dom_classes": [],
            "_model_module": "@jupyter-widgets/controls",
            "_model_module_version": "1.5.0",
            "_model_name": "HTMLModel",
            "_view_count": null,
            "_view_module": "@jupyter-widgets/controls",
            "_view_module_version": "1.5.0",
            "_view_name": "HTMLView",
            "description": "",
            "description_tooltip": null,
            "layout": "IPY_MODEL_9efdf856458644c8a8529e7bf92b75b5",
            "placeholder": "​",
            "style": "IPY_MODEL_edb1bd82952645fb88ec9b4bdb857b84",
            "value": "Generating test split: 100%"
          }
        },
        "496b3cf58dbf4c94af12831ef6a95c0b": {
          "model_module": "@jupyter-widgets/controls",
          "model_module_version": "1.5.0",
          "model_name": "DescriptionStyleModel",
          "state": {
            "_model_module": "@jupyter-widgets/controls",
            "_model_module_version": "1.5.0",
            "_model_name": "DescriptionStyleModel",
            "_view_count": null,
            "_view_module": "@jupyter-widgets/base",
            "_view_module_version": "1.2.0",
            "_view_name": "StyleView",
            "description_width": ""
          }
        },
        "4b532c0633564d3caa9f2f8f7adacf68": {
          "model_module": "@jupyter-widgets/base",
          "model_module_version": "1.2.0",
          "model_name": "LayoutModel",
          "state": {
            "_model_module": "@jupyter-widgets/base",
            "_model_module_version": "1.2.0",
            "_model_name": "LayoutModel",
            "_view_count": null,
            "_view_module": "@jupyter-widgets/base",
            "_view_module_version": "1.2.0",
            "_view_name": "LayoutView",
            "align_content": null,
            "align_items": null,
            "align_self": null,
            "border": null,
            "bottom": null,
            "display": null,
            "flex": null,
            "flex_flow": null,
            "grid_area": null,
            "grid_auto_columns": null,
            "grid_auto_flow": null,
            "grid_auto_rows": null,
            "grid_column": null,
            "grid_gap": null,
            "grid_row": null,
            "grid_template_areas": null,
            "grid_template_columns": null,
            "grid_template_rows": null,
            "height": null,
            "justify_content": null,
            "justify_items": null,
            "left": null,
            "margin": null,
            "max_height": null,
            "max_width": null,
            "min_height": null,
            "min_width": null,
            "object_fit": null,
            "object_position": null,
            "order": null,
            "overflow": null,
            "overflow_x": null,
            "overflow_y": null,
            "padding": null,
            "right": null,
            "top": null,
            "visibility": null,
            "width": null
          }
        },
        "4cf781c94f3e4274b9009804b36b06b6": {
          "model_module": "@jupyter-widgets/controls",
          "model_module_version": "1.5.0",
          "model_name": "HTMLModel",
          "state": {
            "_dom_classes": [],
            "_model_module": "@jupyter-widgets/controls",
            "_model_module_version": "1.5.0",
            "_model_name": "HTMLModel",
            "_view_count": null,
            "_view_module": "@jupyter-widgets/controls",
            "_view_module_version": "1.5.0",
            "_view_name": "HTMLView",
            "description": "",
            "description_tooltip": null,
            "layout": "IPY_MODEL_3e20daf921334edfb738096964a90c2b",
            "placeholder": "​",
            "style": "IPY_MODEL_496b3cf58dbf4c94af12831ef6a95c0b",
            "value": " 97320/97320 [00:00&lt;00:00, 182368.07 examples/s]"
          }
        },
        "4e2aa913ffb349c087e13cf9051745b5": {
          "model_module": "@jupyter-widgets/controls",
          "model_module_version": "1.5.0",
          "model_name": "ProgressStyleModel",
          "state": {
            "_model_module": "@jupyter-widgets/controls",
            "_model_module_version": "1.5.0",
            "_model_name": "ProgressStyleModel",
            "_view_count": null,
            "_view_module": "@jupyter-widgets/base",
            "_view_module_version": "1.2.0",
            "_view_name": "StyleView",
            "bar_color": null,
            "description_width": ""
          }
        },
        "52984d6a9d5b4e06b5700e9b104126bb": {
          "model_module": "@jupyter-widgets/controls",
          "model_module_version": "1.5.0",
          "model_name": "FloatProgressModel",
          "state": {
            "_dom_classes": [],
            "_model_module": "@jupyter-widgets/controls",
            "_model_module_version": "1.5.0",
            "_model_name": "FloatProgressModel",
            "_view_count": null,
            "_view_module": "@jupyter-widgets/controls",
            "_view_module_version": "1.5.0",
            "_view_name": "ProgressView",
            "bar_style": "success",
            "description": "",
            "description_tooltip": null,
            "layout": "IPY_MODEL_abf8311f299f498fa8c368e1e1fc4aa6",
            "max": 97320,
            "min": 0,
            "orientation": "horizontal",
            "style": "IPY_MODEL_e9d50f136763477db2e0e4d3361d5bfc",
            "value": 97320
          }
        },
        "52d4a1b56bba462dbaf5bb86d92bd11a": {
          "model_module": "@jupyter-widgets/base",
          "model_module_version": "1.2.0",
          "model_name": "LayoutModel",
          "state": {
            "_model_module": "@jupyter-widgets/base",
            "_model_module_version": "1.2.0",
            "_model_name": "LayoutModel",
            "_view_count": null,
            "_view_module": "@jupyter-widgets/base",
            "_view_module_version": "1.2.0",
            "_view_name": "LayoutView",
            "align_content": null,
            "align_items": null,
            "align_self": null,
            "border": null,
            "bottom": null,
            "display": null,
            "flex": null,
            "flex_flow": null,
            "grid_area": null,
            "grid_auto_columns": null,
            "grid_auto_flow": null,
            "grid_auto_rows": null,
            "grid_column": null,
            "grid_gap": null,
            "grid_row": null,
            "grid_template_areas": null,
            "grid_template_columns": null,
            "grid_template_rows": null,
            "height": null,
            "justify_content": null,
            "justify_items": null,
            "left": null,
            "margin": null,
            "max_height": null,
            "max_width": null,
            "min_height": null,
            "min_width": null,
            "object_fit": null,
            "object_position": null,
            "order": null,
            "overflow": null,
            "overflow_x": null,
            "overflow_y": null,
            "padding": null,
            "right": null,
            "top": null,
            "visibility": null,
            "width": null
          }
        },
        "53ce29e5620a49d19c14ed2d7a3265c6": {
          "model_module": "@jupyter-widgets/base",
          "model_module_version": "1.2.0",
          "model_name": "LayoutModel",
          "state": {
            "_model_module": "@jupyter-widgets/base",
            "_model_module_version": "1.2.0",
            "_model_name": "LayoutModel",
            "_view_count": null,
            "_view_module": "@jupyter-widgets/base",
            "_view_module_version": "1.2.0",
            "_view_name": "LayoutView",
            "align_content": null,
            "align_items": null,
            "align_self": null,
            "border": null,
            "bottom": null,
            "display": null,
            "flex": null,
            "flex_flow": null,
            "grid_area": null,
            "grid_auto_columns": null,
            "grid_auto_flow": null,
            "grid_auto_rows": null,
            "grid_column": null,
            "grid_gap": null,
            "grid_row": null,
            "grid_template_areas": null,
            "grid_template_columns": null,
            "grid_template_rows": null,
            "height": null,
            "justify_content": null,
            "justify_items": null,
            "left": null,
            "margin": null,
            "max_height": null,
            "max_width": null,
            "min_height": null,
            "min_width": null,
            "object_fit": null,
            "object_position": null,
            "order": null,
            "overflow": null,
            "overflow_x": null,
            "overflow_y": null,
            "padding": null,
            "right": null,
            "top": null,
            "visibility": null,
            "width": null
          }
        },
        "541a1f5e47234b39901f77e8bae40eb8": {
          "model_module": "@jupyter-widgets/controls",
          "model_module_version": "1.5.0",
          "model_name": "HBoxModel",
          "state": {
            "_dom_classes": [],
            "_model_module": "@jupyter-widgets/controls",
            "_model_module_version": "1.5.0",
            "_model_name": "HBoxModel",
            "_view_count": null,
            "_view_module": "@jupyter-widgets/controls",
            "_view_module_version": "1.5.0",
            "_view_name": "HBoxView",
            "box_style": "",
            "children": [
              "IPY_MODEL_05427348bd624f04beed24f7a11b8d9e",
              "IPY_MODEL_80b4a802a1d94ef995f5810d67a3dba9",
              "IPY_MODEL_76ff1035cd744c8f94392d2b145af6b5"
            ],
            "layout": "IPY_MODEL_dfc615a6d8914eb3a3e2774d7d541f90"
          }
        },
        "57c753c7c1b14f2394c4ec8ef4a9c452": {
          "model_module": "@jupyter-widgets/controls",
          "model_module_version": "1.5.0",
          "model_name": "HTMLModel",
          "state": {
            "_dom_classes": [],
            "_model_module": "@jupyter-widgets/controls",
            "_model_module_version": "1.5.0",
            "_model_name": "HTMLModel",
            "_view_count": null,
            "_view_module": "@jupyter-widgets/controls",
            "_view_module_version": "1.5.0",
            "_view_name": "HTMLView",
            "description": "",
            "description_tooltip": null,
            "layout": "IPY_MODEL_fcbdd4f1fe7140238bad747dc039f595",
            "placeholder": "​",
            "style": "IPY_MODEL_048e53f8350645e59440622413e9a380",
            "value": " 1804874/1804874 [00:09&lt;00:00, 180502.06 examples/s]"
          }
        },
        "5bb5eebda5c748848b3c634a64b8623e": {
          "model_module": "@jupyter-widgets/controls",
          "model_module_version": "1.5.0",
          "model_name": "FloatProgressModel",
          "state": {
            "_dom_classes": [],
            "_model_module": "@jupyter-widgets/controls",
            "_model_module_version": "1.5.0",
            "_model_name": "FloatProgressModel",
            "_view_count": null,
            "_view_module": "@jupyter-widgets/controls",
            "_view_module_version": "1.5.0",
            "_view_name": "ProgressView",
            "bar_style": "success",
            "description": "",
            "description_tooltip": null,
            "layout": "IPY_MODEL_951507b239da4542af620d2c6db7a979",
            "max": 7734,
            "min": 0,
            "orientation": "horizontal",
            "style": "IPY_MODEL_c97341b8e8274cc2a88ac27cc2001c08",
            "value": 7734
          }
        },
        "67a29f7ff347433ab8ec9bb3e2c68268": {
          "model_module": "@jupyter-widgets/base",
          "model_module_version": "1.2.0",
          "model_name": "LayoutModel",
          "state": {
            "_model_module": "@jupyter-widgets/base",
            "_model_module_version": "1.2.0",
            "_model_name": "LayoutModel",
            "_view_count": null,
            "_view_module": "@jupyter-widgets/base",
            "_view_module_version": "1.2.0",
            "_view_name": "LayoutView",
            "align_content": null,
            "align_items": null,
            "align_self": null,
            "border": null,
            "bottom": null,
            "display": null,
            "flex": null,
            "flex_flow": null,
            "grid_area": null,
            "grid_auto_columns": null,
            "grid_auto_flow": null,
            "grid_auto_rows": null,
            "grid_column": null,
            "grid_gap": null,
            "grid_row": null,
            "grid_template_areas": null,
            "grid_template_columns": null,
            "grid_template_rows": null,
            "height": null,
            "justify_content": null,
            "justify_items": null,
            "left": null,
            "margin": null,
            "max_height": null,
            "max_width": null,
            "min_height": null,
            "min_width": null,
            "object_fit": null,
            "object_position": null,
            "order": null,
            "overflow": null,
            "overflow_x": null,
            "overflow_y": null,
            "padding": null,
            "right": null,
            "top": null,
            "visibility": null,
            "width": null
          }
        },
        "71f7b9807b70471582262a5ce52d7e7c": {
          "model_module": "@jupyter-widgets/controls",
          "model_module_version": "1.5.0",
          "model_name": "HBoxModel",
          "state": {
            "_dom_classes": [],
            "_model_module": "@jupyter-widgets/controls",
            "_model_module_version": "1.5.0",
            "_model_name": "HBoxModel",
            "_view_count": null,
            "_view_module": "@jupyter-widgets/controls",
            "_view_module_version": "1.5.0",
            "_view_name": "HBoxView",
            "box_style": "",
            "children": [
              "IPY_MODEL_9662bfc76fcf4d518a6fc0f67622474a",
              "IPY_MODEL_a0786d060c7c4e99b6f526855d42cc4c",
              "IPY_MODEL_37694bc5036f4657a7a3164f0b9d668f"
            ],
            "layout": "IPY_MODEL_4b532c0633564d3caa9f2f8f7adacf68"
          }
        },
        "74f09d5541a842a79ef90929f9266ed6": {
          "model_module": "@jupyter-widgets/controls",
          "model_module_version": "1.5.0",
          "model_name": "HTMLModel",
          "state": {
            "_dom_classes": [],
            "_model_module": "@jupyter-widgets/controls",
            "_model_module_version": "1.5.0",
            "_model_name": "HTMLModel",
            "_view_count": null,
            "_view_module": "@jupyter-widgets/controls",
            "_view_module_version": "1.5.0",
            "_view_name": "HTMLView",
            "description": "",
            "description_tooltip": null,
            "layout": "IPY_MODEL_fb0cf7fc3a5246c3b68b74fca4f7ff5b",
            "placeholder": "​",
            "style": "IPY_MODEL_00e3b1afbcdc48669d2692dcf077ed0d",
            "value": " 187M/187M [00:01&lt;00:00, 130MB/s]"
          }
        },
        "769f04fa473649b48dd36c6df2af2fa7": {
          "model_module": "@jupyter-widgets/base",
          "model_module_version": "1.2.0",
          "model_name": "LayoutModel",
          "state": {
            "_model_module": "@jupyter-widgets/base",
            "_model_module_version": "1.2.0",
            "_model_name": "LayoutModel",
            "_view_count": null,
            "_view_module": "@jupyter-widgets/base",
            "_view_module_version": "1.2.0",
            "_view_name": "LayoutView",
            "align_content": null,
            "align_items": null,
            "align_self": null,
            "border": null,
            "bottom": null,
            "display": null,
            "flex": null,
            "flex_flow": null,
            "grid_area": null,
            "grid_auto_columns": null,
            "grid_auto_flow": null,
            "grid_auto_rows": null,
            "grid_column": null,
            "grid_gap": null,
            "grid_row": null,
            "grid_template_areas": null,
            "grid_template_columns": null,
            "grid_template_rows": null,
            "height": null,
            "justify_content": null,
            "justify_items": null,
            "left": null,
            "margin": null,
            "max_height": null,
            "max_width": null,
            "min_height": null,
            "min_width": null,
            "object_fit": null,
            "object_position": null,
            "order": null,
            "overflow": null,
            "overflow_x": null,
            "overflow_y": null,
            "padding": null,
            "right": null,
            "top": null,
            "visibility": null,
            "width": null
          }
        },
        "76ff1035cd744c8f94392d2b145af6b5": {
          "model_module": "@jupyter-widgets/controls",
          "model_module_version": "1.5.0",
          "model_name": "HTMLModel",
          "state": {
            "_dom_classes": [],
            "_model_module": "@jupyter-widgets/controls",
            "_model_module_version": "1.5.0",
            "_model_name": "HTMLModel",
            "_view_count": null,
            "_view_module": "@jupyter-widgets/controls",
            "_view_module_version": "1.5.0",
            "_view_name": "HTMLView",
            "description": "",
            "description_tooltip": null,
            "layout": "IPY_MODEL_800ec825c805484f84dbea4417808dc5",
            "placeholder": "​",
            "style": "IPY_MODEL_8c77013e20714f6e937921aa8f8ad383",
            "value": " 21.0M/21.0M [00:00&lt;00:00, 33.9MB/s]"
          }
        },
        "777fdd2a29cf419aa046d2f33d2fc784": {
          "model_module": "@jupyter-widgets/controls",
          "model_module_version": "1.5.0",
          "model_name": "HBoxModel",
          "state": {
            "_dom_classes": [],
            "_model_module": "@jupyter-widgets/controls",
            "_model_module_version": "1.5.0",
            "_model_name": "HBoxModel",
            "_view_count": null,
            "_view_module": "@jupyter-widgets/controls",
            "_view_module_version": "1.5.0",
            "_view_name": "HBoxView",
            "box_style": "",
            "children": [
              "IPY_MODEL_11853e397eff4e469fc8a1ca8a9f2f03",
              "IPY_MODEL_5bb5eebda5c748848b3c634a64b8623e",
              "IPY_MODEL_019a7a18f2154967af90193398badce9"
            ],
            "layout": "IPY_MODEL_bb6bfb0f0a8a422f8ce658e294ac7fd6"
          }
        },
        "799e3ddf5c4c4a059f2b93399011b0c3": {
          "model_module": "@jupyter-widgets/base",
          "model_module_version": "1.2.0",
          "model_name": "LayoutModel",
          "state": {
            "_model_module": "@jupyter-widgets/base",
            "_model_module_version": "1.2.0",
            "_model_name": "LayoutModel",
            "_view_count": null,
            "_view_module": "@jupyter-widgets/base",
            "_view_module_version": "1.2.0",
            "_view_name": "LayoutView",
            "align_content": null,
            "align_items": null,
            "align_self": null,
            "border": null,
            "bottom": null,
            "display": null,
            "flex": null,
            "flex_flow": null,
            "grid_area": null,
            "grid_auto_columns": null,
            "grid_auto_flow": null,
            "grid_auto_rows": null,
            "grid_column": null,
            "grid_gap": null,
            "grid_row": null,
            "grid_template_areas": null,
            "grid_template_columns": null,
            "grid_template_rows": null,
            "height": null,
            "justify_content": null,
            "justify_items": null,
            "left": null,
            "margin": null,
            "max_height": null,
            "max_width": null,
            "min_height": null,
            "min_width": null,
            "object_fit": null,
            "object_position": null,
            "order": null,
            "overflow": null,
            "overflow_x": null,
            "overflow_y": null,
            "padding": null,
            "right": null,
            "top": null,
            "visibility": null,
            "width": null
          }
        },
        "7b285a2eba65460fb6085b87d344d12e": {
          "model_module": "@jupyter-widgets/controls",
          "model_module_version": "1.5.0",
          "model_name": "DescriptionStyleModel",
          "state": {
            "_model_module": "@jupyter-widgets/controls",
            "_model_module_version": "1.5.0",
            "_model_name": "DescriptionStyleModel",
            "_view_count": null,
            "_view_module": "@jupyter-widgets/base",
            "_view_module_version": "1.2.0",
            "_view_name": "StyleView",
            "description_width": ""
          }
        },
        "800ec825c805484f84dbea4417808dc5": {
          "model_module": "@jupyter-widgets/base",
          "model_module_version": "1.2.0",
          "model_name": "LayoutModel",
          "state": {
            "_model_module": "@jupyter-widgets/base",
            "_model_module_version": "1.2.0",
            "_model_name": "LayoutModel",
            "_view_count": null,
            "_view_module": "@jupyter-widgets/base",
            "_view_module_version": "1.2.0",
            "_view_name": "LayoutView",
            "align_content": null,
            "align_items": null,
            "align_self": null,
            "border": null,
            "bottom": null,
            "display": null,
            "flex": null,
            "flex_flow": null,
            "grid_area": null,
            "grid_auto_columns": null,
            "grid_auto_flow": null,
            "grid_auto_rows": null,
            "grid_column": null,
            "grid_gap": null,
            "grid_row": null,
            "grid_template_areas": null,
            "grid_template_columns": null,
            "grid_template_rows": null,
            "height": null,
            "justify_content": null,
            "justify_items": null,
            "left": null,
            "margin": null,
            "max_height": null,
            "max_width": null,
            "min_height": null,
            "min_width": null,
            "object_fit": null,
            "object_position": null,
            "order": null,
            "overflow": null,
            "overflow_x": null,
            "overflow_y": null,
            "padding": null,
            "right": null,
            "top": null,
            "visibility": null,
            "width": null
          }
        },
        "80b4a802a1d94ef995f5810d67a3dba9": {
          "model_module": "@jupyter-widgets/controls",
          "model_module_version": "1.5.0",
          "model_name": "FloatProgressModel",
          "state": {
            "_dom_classes": [],
            "_model_module": "@jupyter-widgets/controls",
            "_model_module_version": "1.5.0",
            "_model_name": "FloatProgressModel",
            "_view_count": null,
            "_view_module": "@jupyter-widgets/controls",
            "_view_module_version": "1.5.0",
            "_view_name": "ProgressView",
            "bar_style": "success",
            "description": "",
            "description_tooltip": null,
            "layout": "IPY_MODEL_f0359bf9fe41452997788d1cf82c371e",
            "max": 20955569,
            "min": 0,
            "orientation": "horizontal",
            "style": "IPY_MODEL_faa035b1b0654badb71c9ea1d6ae5a97",
            "value": 20955569
          }
        },
        "87495b58190043d493c5abfe98d51ea6": {
          "model_module": "@jupyter-widgets/base",
          "model_module_version": "1.2.0",
          "model_name": "LayoutModel",
          "state": {
            "_model_module": "@jupyter-widgets/base",
            "_model_module_version": "1.2.0",
            "_model_name": "LayoutModel",
            "_view_count": null,
            "_view_module": "@jupyter-widgets/base",
            "_view_module_version": "1.2.0",
            "_view_name": "LayoutView",
            "align_content": null,
            "align_items": null,
            "align_self": null,
            "border": null,
            "bottom": null,
            "display": null,
            "flex": null,
            "flex_flow": null,
            "grid_area": null,
            "grid_auto_columns": null,
            "grid_auto_flow": null,
            "grid_auto_rows": null,
            "grid_column": null,
            "grid_gap": null,
            "grid_row": null,
            "grid_template_areas": null,
            "grid_template_columns": null,
            "grid_template_rows": null,
            "height": null,
            "justify_content": null,
            "justify_items": null,
            "left": null,
            "margin": null,
            "max_height": null,
            "max_width": null,
            "min_height": null,
            "min_width": null,
            "object_fit": null,
            "object_position": null,
            "order": null,
            "overflow": null,
            "overflow_x": null,
            "overflow_y": null,
            "padding": null,
            "right": null,
            "top": null,
            "visibility": null,
            "width": null
          }
        },
        "894aae8fcae44edc92392b25a6686dd6": {
          "model_module": "@jupyter-widgets/base",
          "model_module_version": "1.2.0",
          "model_name": "LayoutModel",
          "state": {
            "_model_module": "@jupyter-widgets/base",
            "_model_module_version": "1.2.0",
            "_model_name": "LayoutModel",
            "_view_count": null,
            "_view_module": "@jupyter-widgets/base",
            "_view_module_version": "1.2.0",
            "_view_name": "LayoutView",
            "align_content": null,
            "align_items": null,
            "align_self": null,
            "border": null,
            "bottom": null,
            "display": null,
            "flex": null,
            "flex_flow": null,
            "grid_area": null,
            "grid_auto_columns": null,
            "grid_auto_flow": null,
            "grid_auto_rows": null,
            "grid_column": null,
            "grid_gap": null,
            "grid_row": null,
            "grid_template_areas": null,
            "grid_template_columns": null,
            "grid_template_rows": null,
            "height": null,
            "justify_content": null,
            "justify_items": null,
            "left": null,
            "margin": null,
            "max_height": null,
            "max_width": null,
            "min_height": null,
            "min_width": null,
            "object_fit": null,
            "object_position": null,
            "order": null,
            "overflow": null,
            "overflow_x": null,
            "overflow_y": null,
            "padding": null,
            "right": null,
            "top": null,
            "visibility": null,
            "width": null
          }
        },
        "8bf717b4ff454ecda8fb1cba6e1c18cb": {
          "model_module": "@jupyter-widgets/controls",
          "model_module_version": "1.5.0",
          "model_name": "ProgressStyleModel",
          "state": {
            "_model_module": "@jupyter-widgets/controls",
            "_model_module_version": "1.5.0",
            "_model_name": "ProgressStyleModel",
            "_view_count": null,
            "_view_module": "@jupyter-widgets/base",
            "_view_module_version": "1.2.0",
            "_view_name": "StyleView",
            "bar_color": null,
            "description_width": ""
          }
        },
        "8c77013e20714f6e937921aa8f8ad383": {
          "model_module": "@jupyter-widgets/controls",
          "model_module_version": "1.5.0",
          "model_name": "DescriptionStyleModel",
          "state": {
            "_model_module": "@jupyter-widgets/controls",
            "_model_module_version": "1.5.0",
            "_model_name": "DescriptionStyleModel",
            "_view_count": null,
            "_view_module": "@jupyter-widgets/base",
            "_view_module_version": "1.2.0",
            "_view_name": "StyleView",
            "description_width": ""
          }
        },
        "93d5d216ed0a470ba91b961753ac753f": {
          "model_module": "@jupyter-widgets/base",
          "model_module_version": "1.2.0",
          "model_name": "LayoutModel",
          "state": {
            "_model_module": "@jupyter-widgets/base",
            "_model_module_version": "1.2.0",
            "_model_name": "LayoutModel",
            "_view_count": null,
            "_view_module": "@jupyter-widgets/base",
            "_view_module_version": "1.2.0",
            "_view_name": "LayoutView",
            "align_content": null,
            "align_items": null,
            "align_self": null,
            "border": null,
            "bottom": null,
            "display": null,
            "flex": null,
            "flex_flow": null,
            "grid_area": null,
            "grid_auto_columns": null,
            "grid_auto_flow": null,
            "grid_auto_rows": null,
            "grid_column": null,
            "grid_gap": null,
            "grid_row": null,
            "grid_template_areas": null,
            "grid_template_columns": null,
            "grid_template_rows": null,
            "height": null,
            "justify_content": null,
            "justify_items": null,
            "left": null,
            "margin": null,
            "max_height": null,
            "max_width": null,
            "min_height": null,
            "min_width": null,
            "object_fit": null,
            "object_position": null,
            "order": null,
            "overflow": null,
            "overflow_x": null,
            "overflow_y": null,
            "padding": null,
            "right": null,
            "top": null,
            "visibility": null,
            "width": null
          }
        },
        "951507b239da4542af620d2c6db7a979": {
          "model_module": "@jupyter-widgets/base",
          "model_module_version": "1.2.0",
          "model_name": "LayoutModel",
          "state": {
            "_model_module": "@jupyter-widgets/base",
            "_model_module_version": "1.2.0",
            "_model_name": "LayoutModel",
            "_view_count": null,
            "_view_module": "@jupyter-widgets/base",
            "_view_module_version": "1.2.0",
            "_view_name": "LayoutView",
            "align_content": null,
            "align_items": null,
            "align_self": null,
            "border": null,
            "bottom": null,
            "display": null,
            "flex": null,
            "flex_flow": null,
            "grid_area": null,
            "grid_auto_columns": null,
            "grid_auto_flow": null,
            "grid_auto_rows": null,
            "grid_column": null,
            "grid_gap": null,
            "grid_row": null,
            "grid_template_areas": null,
            "grid_template_columns": null,
            "grid_template_rows": null,
            "height": null,
            "justify_content": null,
            "justify_items": null,
            "left": null,
            "margin": null,
            "max_height": null,
            "max_width": null,
            "min_height": null,
            "min_width": null,
            "object_fit": null,
            "object_position": null,
            "order": null,
            "overflow": null,
            "overflow_x": null,
            "overflow_y": null,
            "padding": null,
            "right": null,
            "top": null,
            "visibility": null,
            "width": null
          }
        },
        "9662bfc76fcf4d518a6fc0f67622474a": {
          "model_module": "@jupyter-widgets/controls",
          "model_module_version": "1.5.0",
          "model_name": "HTMLModel",
          "state": {
            "_dom_classes": [],
            "_model_module": "@jupyter-widgets/controls",
            "_model_module_version": "1.5.0",
            "_model_name": "HTMLModel",
            "_view_count": null,
            "_view_module": "@jupyter-widgets/controls",
            "_view_module_version": "1.5.0",
            "_view_name": "HTMLView",
            "description": "",
            "description_tooltip": null,
            "layout": "IPY_MODEL_aed02e2c1dc844d99fa1c39e23c0474b",
            "placeholder": "​",
            "style": "IPY_MODEL_04c70c884b184445a7b7b89e2e01f3bd",
            "value": "train-00000-of-00002.parquet: 100%"
          }
        },
        "994f9adb137144849f7ea686bdb646b6": {
          "model_module": "@jupyter-widgets/controls",
          "model_module_version": "1.5.0",
          "model_name": "HTMLModel",
          "state": {
            "_dom_classes": [],
            "_model_module": "@jupyter-widgets/controls",
            "_model_module_version": "1.5.0",
            "_model_name": "HTMLModel",
            "_view_count": null,
            "_view_module": "@jupyter-widgets/controls",
            "_view_module_version": "1.5.0",
            "_view_name": "HTMLView",
            "description": "",
            "description_tooltip": null,
            "layout": "IPY_MODEL_b853eef8177b4c288d1c4fb00389c9ab",
            "placeholder": "​",
            "style": "IPY_MODEL_7b285a2eba65460fb6085b87d344d12e",
            "value": "train-00001-of-00002.parquet: 100%"
          }
        },
        "9efdf856458644c8a8529e7bf92b75b5": {
          "model_module": "@jupyter-widgets/base",
          "model_module_version": "1.2.0",
          "model_name": "LayoutModel",
          "state": {
            "_model_module": "@jupyter-widgets/base",
            "_model_module_version": "1.2.0",
            "_model_name": "LayoutModel",
            "_view_count": null,
            "_view_module": "@jupyter-widgets/base",
            "_view_module_version": "1.2.0",
            "_view_name": "LayoutView",
            "align_content": null,
            "align_items": null,
            "align_self": null,
            "border": null,
            "bottom": null,
            "display": null,
            "flex": null,
            "flex_flow": null,
            "grid_area": null,
            "grid_auto_columns": null,
            "grid_auto_flow": null,
            "grid_auto_rows": null,
            "grid_column": null,
            "grid_gap": null,
            "grid_row": null,
            "grid_template_areas": null,
            "grid_template_columns": null,
            "grid_template_rows": null,
            "height": null,
            "justify_content": null,
            "justify_items": null,
            "left": null,
            "margin": null,
            "max_height": null,
            "max_width": null,
            "min_height": null,
            "min_width": null,
            "object_fit": null,
            "object_position": null,
            "order": null,
            "overflow": null,
            "overflow_x": null,
            "overflow_y": null,
            "padding": null,
            "right": null,
            "top": null,
            "visibility": null,
            "width": null
          }
        },
        "9ff9008c97094d298bedc7c2d2fe35f0": {
          "model_module": "@jupyter-widgets/controls",
          "model_module_version": "1.5.0",
          "model_name": "HTMLModel",
          "state": {
            "_dom_classes": [],
            "_model_module": "@jupyter-widgets/controls",
            "_model_module_version": "1.5.0",
            "_model_name": "HTMLModel",
            "_view_count": null,
            "_view_module": "@jupyter-widgets/controls",
            "_view_module_version": "1.5.0",
            "_view_name": "HTMLView",
            "description": "",
            "description_tooltip": null,
            "layout": "IPY_MODEL_ebee889c94e0479f888bfc2cffb0338d",
            "placeholder": "​",
            "style": "IPY_MODEL_ba3734a0898e4c97998a9e30f3a38fca",
            "value": "Generating train split: 100%"
          }
        },
        "a0786d060c7c4e99b6f526855d42cc4c": {
          "model_module": "@jupyter-widgets/controls",
          "model_module_version": "1.5.0",
          "model_name": "FloatProgressModel",
          "state": {
            "_dom_classes": [],
            "_model_module": "@jupyter-widgets/controls",
            "_model_module_version": "1.5.0",
            "_model_name": "FloatProgressModel",
            "_view_count": null,
            "_view_module": "@jupyter-widgets/controls",
            "_view_module_version": "1.5.0",
            "_view_name": "ProgressView",
            "bar_style": "success",
            "description": "",
            "description_tooltip": null,
            "layout": "IPY_MODEL_a92c52399caa4418a49db2f2382ab0e5",
            "max": 193527147,
            "min": 0,
            "orientation": "horizontal",
            "style": "IPY_MODEL_8bf717b4ff454ecda8fb1cba6e1c18cb",
            "value": 193527147
          }
        },
        "a1a1b4376dbd4f5694c62f72a14ff32b": {
          "model_module": "@jupyter-widgets/base",
          "model_module_version": "1.2.0",
          "model_name": "LayoutModel",
          "state": {
            "_model_module": "@jupyter-widgets/base",
            "_model_module_version": "1.2.0",
            "_model_name": "LayoutModel",
            "_view_count": null,
            "_view_module": "@jupyter-widgets/base",
            "_view_module_version": "1.2.0",
            "_view_name": "LayoutView",
            "align_content": null,
            "align_items": null,
            "align_self": null,
            "border": null,
            "bottom": null,
            "display": null,
            "flex": null,
            "flex_flow": null,
            "grid_area": null,
            "grid_auto_columns": null,
            "grid_auto_flow": null,
            "grid_auto_rows": null,
            "grid_column": null,
            "grid_gap": null,
            "grid_row": null,
            "grid_template_areas": null,
            "grid_template_columns": null,
            "grid_template_rows": null,
            "height": null,
            "justify_content": null,
            "justify_items": null,
            "left": null,
            "margin": null,
            "max_height": null,
            "max_width": null,
            "min_height": null,
            "min_width": null,
            "object_fit": null,
            "object_position": null,
            "order": null,
            "overflow": null,
            "overflow_x": null,
            "overflow_y": null,
            "padding": null,
            "right": null,
            "top": null,
            "visibility": null,
            "width": null
          }
        },
        "a8329d95f29c444d99b5352a001aa5d9": {
          "model_module": "@jupyter-widgets/controls",
          "model_module_version": "1.5.0",
          "model_name": "ProgressStyleModel",
          "state": {
            "_model_module": "@jupyter-widgets/controls",
            "_model_module_version": "1.5.0",
            "_model_name": "ProgressStyleModel",
            "_view_count": null,
            "_view_module": "@jupyter-widgets/base",
            "_view_module_version": "1.2.0",
            "_view_name": "StyleView",
            "bar_color": null,
            "description_width": ""
          }
        },
        "a92c52399caa4418a49db2f2382ab0e5": {
          "model_module": "@jupyter-widgets/base",
          "model_module_version": "1.2.0",
          "model_name": "LayoutModel",
          "state": {
            "_model_module": "@jupyter-widgets/base",
            "_model_module_version": "1.2.0",
            "_model_name": "LayoutModel",
            "_view_count": null,
            "_view_module": "@jupyter-widgets/base",
            "_view_module_version": "1.2.0",
            "_view_name": "LayoutView",
            "align_content": null,
            "align_items": null,
            "align_self": null,
            "border": null,
            "bottom": null,
            "display": null,
            "flex": null,
            "flex_flow": null,
            "grid_area": null,
            "grid_auto_columns": null,
            "grid_auto_flow": null,
            "grid_auto_rows": null,
            "grid_column": null,
            "grid_gap": null,
            "grid_row": null,
            "grid_template_areas": null,
            "grid_template_columns": null,
            "grid_template_rows": null,
            "height": null,
            "justify_content": null,
            "justify_items": null,
            "left": null,
            "margin": null,
            "max_height": null,
            "max_width": null,
            "min_height": null,
            "min_width": null,
            "object_fit": null,
            "object_position": null,
            "order": null,
            "overflow": null,
            "overflow_x": null,
            "overflow_y": null,
            "padding": null,
            "right": null,
            "top": null,
            "visibility": null,
            "width": null
          }
        },
        "a954974ba78c49689e28f543bfe37813": {
          "model_module": "@jupyter-widgets/controls",
          "model_module_version": "1.5.0",
          "model_name": "DescriptionStyleModel",
          "state": {
            "_model_module": "@jupyter-widgets/controls",
            "_model_module_version": "1.5.0",
            "_model_name": "DescriptionStyleModel",
            "_view_count": null,
            "_view_module": "@jupyter-widgets/base",
            "_view_module_version": "1.2.0",
            "_view_name": "StyleView",
            "description_width": ""
          }
        },
        "aa9c0b8923e2435790cc7c411f885620": {
          "model_module": "@jupyter-widgets/base",
          "model_module_version": "1.2.0",
          "model_name": "LayoutModel",
          "state": {
            "_model_module": "@jupyter-widgets/base",
            "_model_module_version": "1.2.0",
            "_model_name": "LayoutModel",
            "_view_count": null,
            "_view_module": "@jupyter-widgets/base",
            "_view_module_version": "1.2.0",
            "_view_name": "LayoutView",
            "align_content": null,
            "align_items": null,
            "align_self": null,
            "border": null,
            "bottom": null,
            "display": null,
            "flex": null,
            "flex_flow": null,
            "grid_area": null,
            "grid_auto_columns": null,
            "grid_auto_flow": null,
            "grid_auto_rows": null,
            "grid_column": null,
            "grid_gap": null,
            "grid_row": null,
            "grid_template_areas": null,
            "grid_template_columns": null,
            "grid_template_rows": null,
            "height": null,
            "justify_content": null,
            "justify_items": null,
            "left": null,
            "margin": null,
            "max_height": null,
            "max_width": null,
            "min_height": null,
            "min_width": null,
            "object_fit": null,
            "object_position": null,
            "order": null,
            "overflow": null,
            "overflow_x": null,
            "overflow_y": null,
            "padding": null,
            "right": null,
            "top": null,
            "visibility": null,
            "width": null
          }
        },
        "ab189f443bdb4ca4a50aeddab4c70ee1": {
          "model_module": "@jupyter-widgets/controls",
          "model_module_version": "1.5.0",
          "model_name": "DescriptionStyleModel",
          "state": {
            "_model_module": "@jupyter-widgets/controls",
            "_model_module_version": "1.5.0",
            "_model_name": "DescriptionStyleModel",
            "_view_count": null,
            "_view_module": "@jupyter-widgets/base",
            "_view_module_version": "1.2.0",
            "_view_name": "StyleView",
            "description_width": ""
          }
        },
        "abf8311f299f498fa8c368e1e1fc4aa6": {
          "model_module": "@jupyter-widgets/base",
          "model_module_version": "1.2.0",
          "model_name": "LayoutModel",
          "state": {
            "_model_module": "@jupyter-widgets/base",
            "_model_module_version": "1.2.0",
            "_model_name": "LayoutModel",
            "_view_count": null,
            "_view_module": "@jupyter-widgets/base",
            "_view_module_version": "1.2.0",
            "_view_name": "LayoutView",
            "align_content": null,
            "align_items": null,
            "align_self": null,
            "border": null,
            "bottom": null,
            "display": null,
            "flex": null,
            "flex_flow": null,
            "grid_area": null,
            "grid_auto_columns": null,
            "grid_auto_flow": null,
            "grid_auto_rows": null,
            "grid_column": null,
            "grid_gap": null,
            "grid_row": null,
            "grid_template_areas": null,
            "grid_template_columns": null,
            "grid_template_rows": null,
            "height": null,
            "justify_content": null,
            "justify_items": null,
            "left": null,
            "margin": null,
            "max_height": null,
            "max_width": null,
            "min_height": null,
            "min_width": null,
            "object_fit": null,
            "object_position": null,
            "order": null,
            "overflow": null,
            "overflow_x": null,
            "overflow_y": null,
            "padding": null,
            "right": null,
            "top": null,
            "visibility": null,
            "width": null
          }
        },
        "aed02e2c1dc844d99fa1c39e23c0474b": {
          "model_module": "@jupyter-widgets/base",
          "model_module_version": "1.2.0",
          "model_name": "LayoutModel",
          "state": {
            "_model_module": "@jupyter-widgets/base",
            "_model_module_version": "1.2.0",
            "_model_name": "LayoutModel",
            "_view_count": null,
            "_view_module": "@jupyter-widgets/base",
            "_view_module_version": "1.2.0",
            "_view_name": "LayoutView",
            "align_content": null,
            "align_items": null,
            "align_self": null,
            "border": null,
            "bottom": null,
            "display": null,
            "flex": null,
            "flex_flow": null,
            "grid_area": null,
            "grid_auto_columns": null,
            "grid_auto_flow": null,
            "grid_auto_rows": null,
            "grid_column": null,
            "grid_gap": null,
            "grid_row": null,
            "grid_template_areas": null,
            "grid_template_columns": null,
            "grid_template_rows": null,
            "height": null,
            "justify_content": null,
            "justify_items": null,
            "left": null,
            "margin": null,
            "max_height": null,
            "max_width": null,
            "min_height": null,
            "min_width": null,
            "object_fit": null,
            "object_position": null,
            "order": null,
            "overflow": null,
            "overflow_x": null,
            "overflow_y": null,
            "padding": null,
            "right": null,
            "top": null,
            "visibility": null,
            "width": null
          }
        },
        "b40127c81ff249a0a713cb949b50285e": {
          "model_module": "@jupyter-widgets/controls",
          "model_module_version": "1.5.0",
          "model_name": "HTMLModel",
          "state": {
            "_dom_classes": [],
            "_model_module": "@jupyter-widgets/controls",
            "_model_module_version": "1.5.0",
            "_model_name": "HTMLModel",
            "_view_count": null,
            "_view_module": "@jupyter-widgets/controls",
            "_view_module_version": "1.5.0",
            "_view_name": "HTMLView",
            "description": "",
            "description_tooltip": null,
            "layout": "IPY_MODEL_3ec5c2b348f6438f9092acbfc990f0ed",
            "placeholder": "​",
            "style": "IPY_MODEL_c5576c1b0a3640e18a952855f4407af1",
            "value": "Generating validation split: 100%"
          }
        },
        "b65d6283f28c4254a6dcfe679e5fb916": {
          "model_module": "@jupyter-widgets/controls",
          "model_module_version": "1.5.0",
          "model_name": "HBoxModel",
          "state": {
            "_dom_classes": [],
            "_model_module": "@jupyter-widgets/controls",
            "_model_module_version": "1.5.0",
            "_model_name": "HBoxModel",
            "_view_count": null,
            "_view_module": "@jupyter-widgets/controls",
            "_view_module_version": "1.5.0",
            "_view_name": "HBoxView",
            "box_style": "",
            "children": [
              "IPY_MODEL_47caa0daca6446b0b00c0e48b1575f9f",
              "IPY_MODEL_3211ba23cd5e4779b6e9c22824d663b8",
              "IPY_MODEL_4cf781c94f3e4274b9009804b36b06b6"
            ],
            "layout": "IPY_MODEL_93d5d216ed0a470ba91b961753ac753f"
          }
        },
        "b7b38ccc26a7418ba6be9826178d3de5": {
          "model_module": "@jupyter-widgets/controls",
          "model_module_version": "1.5.0",
          "model_name": "DescriptionStyleModel",
          "state": {
            "_model_module": "@jupyter-widgets/controls",
            "_model_module_version": "1.5.0",
            "_model_name": "DescriptionStyleModel",
            "_view_count": null,
            "_view_module": "@jupyter-widgets/base",
            "_view_module_version": "1.2.0",
            "_view_name": "StyleView",
            "description_width": ""
          }
        },
        "b853eef8177b4c288d1c4fb00389c9ab": {
          "model_module": "@jupyter-widgets/base",
          "model_module_version": "1.2.0",
          "model_name": "LayoutModel",
          "state": {
            "_model_module": "@jupyter-widgets/base",
            "_model_module_version": "1.2.0",
            "_model_name": "LayoutModel",
            "_view_count": null,
            "_view_module": "@jupyter-widgets/base",
            "_view_module_version": "1.2.0",
            "_view_name": "LayoutView",
            "align_content": null,
            "align_items": null,
            "align_self": null,
            "border": null,
            "bottom": null,
            "display": null,
            "flex": null,
            "flex_flow": null,
            "grid_area": null,
            "grid_auto_columns": null,
            "grid_auto_flow": null,
            "grid_auto_rows": null,
            "grid_column": null,
            "grid_gap": null,
            "grid_row": null,
            "grid_template_areas": null,
            "grid_template_columns": null,
            "grid_template_rows": null,
            "height": null,
            "justify_content": null,
            "justify_items": null,
            "left": null,
            "margin": null,
            "max_height": null,
            "max_width": null,
            "min_height": null,
            "min_width": null,
            "object_fit": null,
            "object_position": null,
            "order": null,
            "overflow": null,
            "overflow_x": null,
            "overflow_y": null,
            "padding": null,
            "right": null,
            "top": null,
            "visibility": null,
            "width": null
          }
        },
        "ba3734a0898e4c97998a9e30f3a38fca": {
          "model_module": "@jupyter-widgets/controls",
          "model_module_version": "1.5.0",
          "model_name": "DescriptionStyleModel",
          "state": {
            "_model_module": "@jupyter-widgets/controls",
            "_model_module_version": "1.5.0",
            "_model_name": "DescriptionStyleModel",
            "_view_count": null,
            "_view_module": "@jupyter-widgets/base",
            "_view_module_version": "1.2.0",
            "_view_name": "StyleView",
            "description_width": ""
          }
        },
        "bb6bfb0f0a8a422f8ce658e294ac7fd6": {
          "model_module": "@jupyter-widgets/base",
          "model_module_version": "1.2.0",
          "model_name": "LayoutModel",
          "state": {
            "_model_module": "@jupyter-widgets/base",
            "_model_module_version": "1.2.0",
            "_model_name": "LayoutModel",
            "_view_count": null,
            "_view_module": "@jupyter-widgets/base",
            "_view_module_version": "1.2.0",
            "_view_name": "LayoutView",
            "align_content": null,
            "align_items": null,
            "align_self": null,
            "border": null,
            "bottom": null,
            "display": null,
            "flex": null,
            "flex_flow": null,
            "grid_area": null,
            "grid_auto_columns": null,
            "grid_auto_flow": null,
            "grid_auto_rows": null,
            "grid_column": null,
            "grid_gap": null,
            "grid_row": null,
            "grid_template_areas": null,
            "grid_template_columns": null,
            "grid_template_rows": null,
            "height": null,
            "justify_content": null,
            "justify_items": null,
            "left": null,
            "margin": null,
            "max_height": null,
            "max_width": null,
            "min_height": null,
            "min_width": null,
            "object_fit": null,
            "object_position": null,
            "order": null,
            "overflow": null,
            "overflow_x": null,
            "overflow_y": null,
            "padding": null,
            "right": null,
            "top": null,
            "visibility": null,
            "width": null
          }
        },
        "c00d5f1598004ea587c41224f39318fb": {
          "model_module": "@jupyter-widgets/controls",
          "model_module_version": "1.5.0",
          "model_name": "ProgressStyleModel",
          "state": {
            "_model_module": "@jupyter-widgets/controls",
            "_model_module_version": "1.5.0",
            "_model_name": "ProgressStyleModel",
            "_view_count": null,
            "_view_module": "@jupyter-widgets/base",
            "_view_module_version": "1.2.0",
            "_view_name": "StyleView",
            "bar_color": null,
            "description_width": ""
          }
        },
        "c5576c1b0a3640e18a952855f4407af1": {
          "model_module": "@jupyter-widgets/controls",
          "model_module_version": "1.5.0",
          "model_name": "DescriptionStyleModel",
          "state": {
            "_model_module": "@jupyter-widgets/controls",
            "_model_module_version": "1.5.0",
            "_model_name": "DescriptionStyleModel",
            "_view_count": null,
            "_view_module": "@jupyter-widgets/base",
            "_view_module_version": "1.2.0",
            "_view_name": "StyleView",
            "description_width": ""
          }
        },
        "c6188663170d4f22acfc4f0d564605f1": {
          "model_module": "@jupyter-widgets/controls",
          "model_module_version": "1.5.0",
          "model_name": "HTMLModel",
          "state": {
            "_dom_classes": [],
            "_model_module": "@jupyter-widgets/controls",
            "_model_module_version": "1.5.0",
            "_model_name": "HTMLModel",
            "_view_count": null,
            "_view_module": "@jupyter-widgets/controls",
            "_view_module_version": "1.5.0",
            "_view_name": "HTMLView",
            "description": "",
            "description_tooltip": null,
            "layout": "IPY_MODEL_daab2ea43f1f44dabc022b3f2db37945",
            "placeholder": "​",
            "style": "IPY_MODEL_437711900cb84a0b9067d3a0780d95cc",
            "value": "test-00000-of-00001.parquet: 100%"
          }
        },
        "c97341b8e8274cc2a88ac27cc2001c08": {
          "model_module": "@jupyter-widgets/controls",
          "model_module_version": "1.5.0",
          "model_name": "ProgressStyleModel",
          "state": {
            "_model_module": "@jupyter-widgets/controls",
            "_model_module_version": "1.5.0",
            "_model_name": "ProgressStyleModel",
            "_view_count": null,
            "_view_module": "@jupyter-widgets/base",
            "_view_module_version": "1.2.0",
            "_view_name": "StyleView",
            "bar_color": null,
            "description_width": ""
          }
        },
        "cfa8925a7f684a5d913a958c54006905": {
          "model_module": "@jupyter-widgets/controls",
          "model_module_version": "1.5.0",
          "model_name": "ProgressStyleModel",
          "state": {
            "_model_module": "@jupyter-widgets/controls",
            "_model_module_version": "1.5.0",
            "_model_name": "ProgressStyleModel",
            "_view_count": null,
            "_view_module": "@jupyter-widgets/base",
            "_view_module_version": "1.2.0",
            "_view_name": "StyleView",
            "bar_color": null,
            "description_width": ""
          }
        },
        "d356a23c3eb84186883ade05424c8528": {
          "model_module": "@jupyter-widgets/controls",
          "model_module_version": "1.5.0",
          "model_name": "FloatProgressModel",
          "state": {
            "_dom_classes": [],
            "_model_module": "@jupyter-widgets/controls",
            "_model_module_version": "1.5.0",
            "_model_name": "FloatProgressModel",
            "_view_count": null,
            "_view_module": "@jupyter-widgets/controls",
            "_view_module_version": "1.5.0",
            "_view_name": "ProgressView",
            "bar_style": "success",
            "description": "",
            "description_tooltip": null,
            "layout": "IPY_MODEL_d571260f624348e8a90e5ec00a3f3bb8",
            "max": 1804874,
            "min": 0,
            "orientation": "horizontal",
            "style": "IPY_MODEL_c00d5f1598004ea587c41224f39318fb",
            "value": 1804874
          }
        },
        "d571260f624348e8a90e5ec00a3f3bb8": {
          "model_module": "@jupyter-widgets/base",
          "model_module_version": "1.2.0",
          "model_name": "LayoutModel",
          "state": {
            "_model_module": "@jupyter-widgets/base",
            "_model_module_version": "1.2.0",
            "_model_name": "LayoutModel",
            "_view_count": null,
            "_view_module": "@jupyter-widgets/base",
            "_view_module_version": "1.2.0",
            "_view_name": "LayoutView",
            "align_content": null,
            "align_items": null,
            "align_self": null,
            "border": null,
            "bottom": null,
            "display": null,
            "flex": null,
            "flex_flow": null,
            "grid_area": null,
            "grid_auto_columns": null,
            "grid_auto_flow": null,
            "grid_auto_rows": null,
            "grid_column": null,
            "grid_gap": null,
            "grid_row": null,
            "grid_template_areas": null,
            "grid_template_columns": null,
            "grid_template_rows": null,
            "height": null,
            "justify_content": null,
            "justify_items": null,
            "left": null,
            "margin": null,
            "max_height": null,
            "max_width": null,
            "min_height": null,
            "min_width": null,
            "object_fit": null,
            "object_position": null,
            "order": null,
            "overflow": null,
            "overflow_x": null,
            "overflow_y": null,
            "padding": null,
            "right": null,
            "top": null,
            "visibility": null,
            "width": null
          }
        },
        "daab2ea43f1f44dabc022b3f2db37945": {
          "model_module": "@jupyter-widgets/base",
          "model_module_version": "1.2.0",
          "model_name": "LayoutModel",
          "state": {
            "_model_module": "@jupyter-widgets/base",
            "_model_module_version": "1.2.0",
            "_model_name": "LayoutModel",
            "_view_count": null,
            "_view_module": "@jupyter-widgets/base",
            "_view_module_version": "1.2.0",
            "_view_name": "LayoutView",
            "align_content": null,
            "align_items": null,
            "align_self": null,
            "border": null,
            "bottom": null,
            "display": null,
            "flex": null,
            "flex_flow": null,
            "grid_area": null,
            "grid_auto_columns": null,
            "grid_auto_flow": null,
            "grid_auto_rows": null,
            "grid_column": null,
            "grid_gap": null,
            "grid_row": null,
            "grid_template_areas": null,
            "grid_template_columns": null,
            "grid_template_rows": null,
            "height": null,
            "justify_content": null,
            "justify_items": null,
            "left": null,
            "margin": null,
            "max_height": null,
            "max_width": null,
            "min_height": null,
            "min_width": null,
            "object_fit": null,
            "object_position": null,
            "order": null,
            "overflow": null,
            "overflow_x": null,
            "overflow_y": null,
            "padding": null,
            "right": null,
            "top": null,
            "visibility": null,
            "width": null
          }
        },
        "df02f7abdf8848bc8d64ff5159081449": {
          "model_module": "@jupyter-widgets/controls",
          "model_module_version": "1.5.0",
          "model_name": "HBoxModel",
          "state": {
            "_dom_classes": [],
            "_model_module": "@jupyter-widgets/controls",
            "_model_module_version": "1.5.0",
            "_model_name": "HBoxModel",
            "_view_count": null,
            "_view_module": "@jupyter-widgets/controls",
            "_view_module_version": "1.5.0",
            "_view_name": "HBoxView",
            "box_style": "",
            "children": [
              "IPY_MODEL_c6188663170d4f22acfc4f0d564605f1",
              "IPY_MODEL_227b9544a8de470ab339d4b1ac40a7f0",
              "IPY_MODEL_46d172cc06674139be7c0de38520ec1f"
            ],
            "layout": "IPY_MODEL_152c4aa7f6e949f6998c90a1ab9d22dd"
          }
        },
        "dfc615a6d8914eb3a3e2774d7d541f90": {
          "model_module": "@jupyter-widgets/base",
          "model_module_version": "1.2.0",
          "model_name": "LayoutModel",
          "state": {
            "_model_module": "@jupyter-widgets/base",
            "_model_module_version": "1.2.0",
            "_model_name": "LayoutModel",
            "_view_count": null,
            "_view_module": "@jupyter-widgets/base",
            "_view_module_version": "1.2.0",
            "_view_name": "LayoutView",
            "align_content": null,
            "align_items": null,
            "align_self": null,
            "border": null,
            "bottom": null,
            "display": null,
            "flex": null,
            "flex_flow": null,
            "grid_area": null,
            "grid_auto_columns": null,
            "grid_auto_flow": null,
            "grid_auto_rows": null,
            "grid_column": null,
            "grid_gap": null,
            "grid_row": null,
            "grid_template_areas": null,
            "grid_template_columns": null,
            "grid_template_rows": null,
            "height": null,
            "justify_content": null,
            "justify_items": null,
            "left": null,
            "margin": null,
            "max_height": null,
            "max_width": null,
            "min_height": null,
            "min_width": null,
            "object_fit": null,
            "object_position": null,
            "order": null,
            "overflow": null,
            "overflow_x": null,
            "overflow_y": null,
            "padding": null,
            "right": null,
            "top": null,
            "visibility": null,
            "width": null
          }
        },
        "e0b3d502154845d884bd1c3bc21e2d73": {
          "model_module": "@jupyter-widgets/controls",
          "model_module_version": "1.5.0",
          "model_name": "HBoxModel",
          "state": {
            "_dom_classes": [],
            "_model_module": "@jupyter-widgets/controls",
            "_model_module_version": "1.5.0",
            "_model_name": "HBoxModel",
            "_view_count": null,
            "_view_module": "@jupyter-widgets/controls",
            "_view_module_version": "1.5.0",
            "_view_name": "HBoxView",
            "box_style": "",
            "children": [
              "IPY_MODEL_b40127c81ff249a0a713cb949b50285e",
              "IPY_MODEL_52984d6a9d5b4e06b5700e9b104126bb",
              "IPY_MODEL_2c0197b58ec74349bd574121fa9f154d"
            ],
            "layout": "IPY_MODEL_67a29f7ff347433ab8ec9bb3e2c68268"
          }
        },
        "e24fecae57464eb7b8e73ae9dd4e2844": {
          "model_module": "@jupyter-widgets/controls",
          "model_module_version": "1.5.0",
          "model_name": "DescriptionStyleModel",
          "state": {
            "_model_module": "@jupyter-widgets/controls",
            "_model_module_version": "1.5.0",
            "_model_name": "DescriptionStyleModel",
            "_view_count": null,
            "_view_module": "@jupyter-widgets/base",
            "_view_module_version": "1.2.0",
            "_view_name": "StyleView",
            "description_width": ""
          }
        },
        "e9192d85e2bb4fc6821e4481898bd788": {
          "model_module": "@jupyter-widgets/controls",
          "model_module_version": "1.5.0",
          "model_name": "HBoxModel",
          "state": {
            "_dom_classes": [],
            "_model_module": "@jupyter-widgets/controls",
            "_model_module_version": "1.5.0",
            "_model_name": "HBoxModel",
            "_view_count": null,
            "_view_module": "@jupyter-widgets/controls",
            "_view_module_version": "1.5.0",
            "_view_name": "HBoxView",
            "box_style": "",
            "children": [
              "IPY_MODEL_994f9adb137144849f7ea686bdb646b6",
              "IPY_MODEL_3350ec2010904876ae4d52a6fbd69636",
              "IPY_MODEL_74f09d5541a842a79ef90929f9266ed6"
            ],
            "layout": "IPY_MODEL_87495b58190043d493c5abfe98d51ea6"
          }
        },
        "e9d50f136763477db2e0e4d3361d5bfc": {
          "model_module": "@jupyter-widgets/controls",
          "model_module_version": "1.5.0",
          "model_name": "ProgressStyleModel",
          "state": {
            "_model_module": "@jupyter-widgets/controls",
            "_model_module_version": "1.5.0",
            "_model_name": "ProgressStyleModel",
            "_view_count": null,
            "_view_module": "@jupyter-widgets/base",
            "_view_module_version": "1.2.0",
            "_view_name": "StyleView",
            "bar_color": null,
            "description_width": ""
          }
        },
        "ebee889c94e0479f888bfc2cffb0338d": {
          "model_module": "@jupyter-widgets/base",
          "model_module_version": "1.2.0",
          "model_name": "LayoutModel",
          "state": {
            "_model_module": "@jupyter-widgets/base",
            "_model_module_version": "1.2.0",
            "_model_name": "LayoutModel",
            "_view_count": null,
            "_view_module": "@jupyter-widgets/base",
            "_view_module_version": "1.2.0",
            "_view_name": "LayoutView",
            "align_content": null,
            "align_items": null,
            "align_self": null,
            "border": null,
            "bottom": null,
            "display": null,
            "flex": null,
            "flex_flow": null,
            "grid_area": null,
            "grid_auto_columns": null,
            "grid_auto_flow": null,
            "grid_auto_rows": null,
            "grid_column": null,
            "grid_gap": null,
            "grid_row": null,
            "grid_template_areas": null,
            "grid_template_columns": null,
            "grid_template_rows": null,
            "height": null,
            "justify_content": null,
            "justify_items": null,
            "left": null,
            "margin": null,
            "max_height": null,
            "max_width": null,
            "min_height": null,
            "min_width": null,
            "object_fit": null,
            "object_position": null,
            "order": null,
            "overflow": null,
            "overflow_x": null,
            "overflow_y": null,
            "padding": null,
            "right": null,
            "top": null,
            "visibility": null,
            "width": null
          }
        },
        "edb1bd82952645fb88ec9b4bdb857b84": {
          "model_module": "@jupyter-widgets/controls",
          "model_module_version": "1.5.0",
          "model_name": "DescriptionStyleModel",
          "state": {
            "_model_module": "@jupyter-widgets/controls",
            "_model_module_version": "1.5.0",
            "_model_name": "DescriptionStyleModel",
            "_view_count": null,
            "_view_module": "@jupyter-widgets/base",
            "_view_module_version": "1.2.0",
            "_view_name": "StyleView",
            "description_width": ""
          }
        },
        "f0359bf9fe41452997788d1cf82c371e": {
          "model_module": "@jupyter-widgets/base",
          "model_module_version": "1.2.0",
          "model_name": "LayoutModel",
          "state": {
            "_model_module": "@jupyter-widgets/base",
            "_model_module_version": "1.2.0",
            "_model_name": "LayoutModel",
            "_view_count": null,
            "_view_module": "@jupyter-widgets/base",
            "_view_module_version": "1.2.0",
            "_view_name": "LayoutView",
            "align_content": null,
            "align_items": null,
            "align_self": null,
            "border": null,
            "bottom": null,
            "display": null,
            "flex": null,
            "flex_flow": null,
            "grid_area": null,
            "grid_auto_columns": null,
            "grid_auto_flow": null,
            "grid_auto_rows": null,
            "grid_column": null,
            "grid_gap": null,
            "grid_row": null,
            "grid_template_areas": null,
            "grid_template_columns": null,
            "grid_template_rows": null,
            "height": null,
            "justify_content": null,
            "justify_items": null,
            "left": null,
            "margin": null,
            "max_height": null,
            "max_width": null,
            "min_height": null,
            "min_width": null,
            "object_fit": null,
            "object_position": null,
            "order": null,
            "overflow": null,
            "overflow_x": null,
            "overflow_y": null,
            "padding": null,
            "right": null,
            "top": null,
            "visibility": null,
            "width": null
          }
        },
        "faa035b1b0654badb71c9ea1d6ae5a97": {
          "model_module": "@jupyter-widgets/controls",
          "model_module_version": "1.5.0",
          "model_name": "ProgressStyleModel",
          "state": {
            "_model_module": "@jupyter-widgets/controls",
            "_model_module_version": "1.5.0",
            "_model_name": "ProgressStyleModel",
            "_view_count": null,
            "_view_module": "@jupyter-widgets/base",
            "_view_module_version": "1.2.0",
            "_view_name": "StyleView",
            "bar_color": null,
            "description_width": ""
          }
        },
        "fb0cf7fc3a5246c3b68b74fca4f7ff5b": {
          "model_module": "@jupyter-widgets/base",
          "model_module_version": "1.2.0",
          "model_name": "LayoutModel",
          "state": {
            "_model_module": "@jupyter-widgets/base",
            "_model_module_version": "1.2.0",
            "_model_name": "LayoutModel",
            "_view_count": null,
            "_view_module": "@jupyter-widgets/base",
            "_view_module_version": "1.2.0",
            "_view_name": "LayoutView",
            "align_content": null,
            "align_items": null,
            "align_self": null,
            "border": null,
            "bottom": null,
            "display": null,
            "flex": null,
            "flex_flow": null,
            "grid_area": null,
            "grid_auto_columns": null,
            "grid_auto_flow": null,
            "grid_auto_rows": null,
            "grid_column": null,
            "grid_gap": null,
            "grid_row": null,
            "grid_template_areas": null,
            "grid_template_columns": null,
            "grid_template_rows": null,
            "height": null,
            "justify_content": null,
            "justify_items": null,
            "left": null,
            "margin": null,
            "max_height": null,
            "max_width": null,
            "min_height": null,
            "min_width": null,
            "object_fit": null,
            "object_position": null,
            "order": null,
            "overflow": null,
            "overflow_x": null,
            "overflow_y": null,
            "padding": null,
            "right": null,
            "top": null,
            "visibility": null,
            "width": null
          }
        },
        "fcbdd4f1fe7140238bad747dc039f595": {
          "model_module": "@jupyter-widgets/base",
          "model_module_version": "1.2.0",
          "model_name": "LayoutModel",
          "state": {
            "_model_module": "@jupyter-widgets/base",
            "_model_module_version": "1.2.0",
            "_model_name": "LayoutModel",
            "_view_count": null,
            "_view_module": "@jupyter-widgets/base",
            "_view_module_version": "1.2.0",
            "_view_name": "LayoutView",
            "align_content": null,
            "align_items": null,
            "align_self": null,
            "border": null,
            "bottom": null,
            "display": null,
            "flex": null,
            "flex_flow": null,
            "grid_area": null,
            "grid_auto_columns": null,
            "grid_auto_flow": null,
            "grid_auto_rows": null,
            "grid_column": null,
            "grid_gap": null,
            "grid_row": null,
            "grid_template_areas": null,
            "grid_template_columns": null,
            "grid_template_rows": null,
            "height": null,
            "justify_content": null,
            "justify_items": null,
            "left": null,
            "margin": null,
            "max_height": null,
            "max_width": null,
            "min_height": null,
            "min_width": null,
            "object_fit": null,
            "object_position": null,
            "order": null,
            "overflow": null,
            "overflow_x": null,
            "overflow_y": null,
            "padding": null,
            "right": null,
            "top": null,
            "visibility": null,
            "width": null
          }
        },
        "fceb92e726d5428ca36f81af8820fd3d": {
          "model_module": "@jupyter-widgets/base",
          "model_module_version": "1.2.0",
          "model_name": "LayoutModel",
          "state": {
            "_model_module": "@jupyter-widgets/base",
            "_model_module_version": "1.2.0",
            "_model_name": "LayoutModel",
            "_view_count": null,
            "_view_module": "@jupyter-widgets/base",
            "_view_module_version": "1.2.0",
            "_view_name": "LayoutView",
            "align_content": null,
            "align_items": null,
            "align_self": null,
            "border": null,
            "bottom": null,
            "display": null,
            "flex": null,
            "flex_flow": null,
            "grid_area": null,
            "grid_auto_columns": null,
            "grid_auto_flow": null,
            "grid_auto_rows": null,
            "grid_column": null,
            "grid_gap": null,
            "grid_row": null,
            "grid_template_areas": null,
            "grid_template_columns": null,
            "grid_template_rows": null,
            "height": null,
            "justify_content": null,
            "justify_items": null,
            "left": null,
            "margin": null,
            "max_height": null,
            "max_width": null,
            "min_height": null,
            "min_width": null,
            "object_fit": null,
            "object_position": null,
            "order": null,
            "overflow": null,
            "overflow_x": null,
            "overflow_y": null,
            "padding": null,
            "right": null,
            "top": null,
            "visibility": null,
            "width": null
          }
        }
      }
    }
  },
  "nbformat": 4,
  "nbformat_minor": 5
}
