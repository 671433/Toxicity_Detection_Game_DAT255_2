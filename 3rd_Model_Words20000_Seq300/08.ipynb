{
 "cells": [
  {
   "cell_type": "code",
   "execution_count": 1,
   "id": "55680453-838b-45dc-bcf4-b18635135a70",
   "metadata": {},
   "outputs": [
    {
     "name": "stdout",
     "output_type": "stream",
     "text": [
      "Requirement already satisfied: datasets in c:\\users\\tamer\\onedrive - høgskulen på vestlandet\\dokumenter\\3 år\\dat255 deep learning\\toxicity2\\toxicitypython39\\lib\\site-packages (3.5.0)\n",
      "Requirement already satisfied: tqdm>=4.66.3 in c:\\users\\tamer\\onedrive - høgskulen på vestlandet\\dokumenter\\3 år\\dat255 deep learning\\toxicity2\\toxicitypython39\\lib\\site-packages (from datasets) (4.67.1)\n",
      "Requirement already satisfied: pandas in c:\\users\\tamer\\onedrive - høgskulen på vestlandet\\dokumenter\\3 år\\dat255 deep learning\\toxicity2\\toxicitypython39\\lib\\site-packages (from datasets) (2.2.3)\n",
      "Requirement already satisfied: xxhash in c:\\users\\tamer\\onedrive - høgskulen på vestlandet\\dokumenter\\3 år\\dat255 deep learning\\toxicity2\\toxicitypython39\\lib\\site-packages (from datasets) (3.5.0)\n",
      "Requirement already satisfied: aiohttp in c:\\users\\tamer\\onedrive - høgskulen på vestlandet\\dokumenter\\3 år\\dat255 deep learning\\toxicity2\\toxicitypython39\\lib\\site-packages (from datasets) (3.11.16)\n",
      "Requirement already satisfied: huggingface-hub>=0.24.0 in c:\\users\\tamer\\onedrive - høgskulen på vestlandet\\dokumenter\\3 år\\dat255 deep learning\\toxicity2\\toxicitypython39\\lib\\site-packages (from datasets) (0.30.2)\n",
      "Requirement already satisfied: pyyaml>=5.1 in c:\\users\\tamer\\onedrive - høgskulen på vestlandet\\dokumenter\\3 år\\dat255 deep learning\\toxicity2\\toxicitypython39\\lib\\site-packages (from datasets) (6.0.2)\n",
      "Requirement already satisfied: requests>=2.32.2 in c:\\users\\tamer\\onedrive - høgskulen på vestlandet\\dokumenter\\3 år\\dat255 deep learning\\toxicity2\\toxicitypython39\\lib\\site-packages (from datasets) (2.32.3)\n",
      "Requirement already satisfied: numpy>=1.17 in c:\\users\\tamer\\onedrive - høgskulen på vestlandet\\dokumenter\\3 år\\dat255 deep learning\\toxicity2\\toxicitypython39\\lib\\site-packages (from datasets) (2.0.2)\n",
      "Requirement already satisfied: fsspec[http]<=2024.12.0,>=2023.1.0 in c:\\users\\tamer\\onedrive - høgskulen på vestlandet\\dokumenter\\3 år\\dat255 deep learning\\toxicity2\\toxicitypython39\\lib\\site-packages (from datasets) (2024.12.0)\n",
      "Requirement already satisfied: filelock in c:\\users\\tamer\\onedrive - høgskulen på vestlandet\\dokumenter\\3 år\\dat255 deep learning\\toxicity2\\toxicitypython39\\lib\\site-packages (from datasets) (3.18.0)\n",
      "Requirement already satisfied: pyarrow>=15.0.0 in c:\\users\\tamer\\onedrive - høgskulen på vestlandet\\dokumenter\\3 år\\dat255 deep learning\\toxicity2\\toxicitypython39\\lib\\site-packages (from datasets) (19.0.1)\n",
      "Requirement already satisfied: multiprocess<0.70.17 in c:\\users\\tamer\\onedrive - høgskulen på vestlandet\\dokumenter\\3 år\\dat255 deep learning\\toxicity2\\toxicitypython39\\lib\\site-packages (from datasets) (0.70.16)\n",
      "Requirement already satisfied: dill<0.3.9,>=0.3.0 in c:\\users\\tamer\\onedrive - høgskulen på vestlandet\\dokumenter\\3 år\\dat255 deep learning\\toxicity2\\toxicitypython39\\lib\\site-packages (from datasets) (0.3.8)\n",
      "Requirement already satisfied: packaging in c:\\users\\tamer\\onedrive - høgskulen på vestlandet\\dokumenter\\3 år\\dat255 deep learning\\toxicity2\\toxicitypython39\\lib\\site-packages (from datasets) (24.2)\n",
      "Requirement already satisfied: frozenlist>=1.1.1 in c:\\users\\tamer\\onedrive - høgskulen på vestlandet\\dokumenter\\3 år\\dat255 deep learning\\toxicity2\\toxicitypython39\\lib\\site-packages (from aiohttp->datasets) (1.5.0)\n",
      "Requirement already satisfied: multidict<7.0,>=4.5 in c:\\users\\tamer\\onedrive - høgskulen på vestlandet\\dokumenter\\3 år\\dat255 deep learning\\toxicity2\\toxicitypython39\\lib\\site-packages (from aiohttp->datasets) (6.4.3)\n",
      "Requirement already satisfied: async-timeout<6.0,>=4.0 in c:\\users\\tamer\\onedrive - høgskulen på vestlandet\\dokumenter\\3 år\\dat255 deep learning\\toxicity2\\toxicitypython39\\lib\\site-packages (from aiohttp->datasets) (5.0.1)\n",
      "Requirement already satisfied: yarl<2.0,>=1.17.0 in c:\\users\\tamer\\onedrive - høgskulen på vestlandet\\dokumenter\\3 år\\dat255 deep learning\\toxicity2\\toxicitypython39\\lib\\site-packages (from aiohttp->datasets) (1.19.0)\n",
      "Requirement already satisfied: aiosignal>=1.1.2 in c:\\users\\tamer\\onedrive - høgskulen på vestlandet\\dokumenter\\3 år\\dat255 deep learning\\toxicity2\\toxicitypython39\\lib\\site-packages (from aiohttp->datasets) (1.3.2)\n",
      "Requirement already satisfied: aiohappyeyeballs>=2.3.0 in c:\\users\\tamer\\onedrive - høgskulen på vestlandet\\dokumenter\\3 år\\dat255 deep learning\\toxicity2\\toxicitypython39\\lib\\site-packages (from aiohttp->datasets) (2.6.1)\n",
      "Requirement already satisfied: propcache>=0.2.0 in c:\\users\\tamer\\onedrive - høgskulen på vestlandet\\dokumenter\\3 år\\dat255 deep learning\\toxicity2\\toxicitypython39\\lib\\site-packages (from aiohttp->datasets) (0.3.1)\n",
      "Requirement already satisfied: attrs>=17.3.0 in c:\\users\\tamer\\onedrive - høgskulen på vestlandet\\dokumenter\\3 år\\dat255 deep learning\\toxicity2\\toxicitypython39\\lib\\site-packages (from aiohttp->datasets) (25.3.0)\n",
      "Requirement already satisfied: typing-extensions>=3.7.4.3 in c:\\users\\tamer\\onedrive - høgskulen på vestlandet\\dokumenter\\3 år\\dat255 deep learning\\toxicity2\\toxicitypython39\\lib\\site-packages (from huggingface-hub>=0.24.0->datasets) (4.13.2)\n",
      "Requirement already satisfied: idna<4,>=2.5 in c:\\users\\tamer\\onedrive - høgskulen på vestlandet\\dokumenter\\3 år\\dat255 deep learning\\toxicity2\\toxicitypython39\\lib\\site-packages (from requests>=2.32.2->datasets) (3.10)\n",
      "Requirement already satisfied: certifi>=2017.4.17 in c:\\users\\tamer\\onedrive - høgskulen på vestlandet\\dokumenter\\3 år\\dat255 deep learning\\toxicity2\\toxicitypython39\\lib\\site-packages (from requests>=2.32.2->datasets) (2025.1.31)\n",
      "Requirement already satisfied: urllib3<3,>=1.21.1 in c:\\users\\tamer\\onedrive - høgskulen på vestlandet\\dokumenter\\3 år\\dat255 deep learning\\toxicity2\\toxicitypython39\\lib\\site-packages (from requests>=2.32.2->datasets) (2.4.0)\n",
      "Requirement already satisfied: charset-normalizer<4,>=2 in c:\\users\\tamer\\onedrive - høgskulen på vestlandet\\dokumenter\\3 år\\dat255 deep learning\\toxicity2\\toxicitypython39\\lib\\site-packages (from requests>=2.32.2->datasets) (3.4.1)\n",
      "Requirement already satisfied: colorama in c:\\users\\tamer\\onedrive - høgskulen på vestlandet\\dokumenter\\3 år\\dat255 deep learning\\toxicity2\\toxicitypython39\\lib\\site-packages (from tqdm>=4.66.3->datasets) (0.4.6)\n",
      "Requirement already satisfied: pytz>=2020.1 in c:\\users\\tamer\\onedrive - høgskulen på vestlandet\\dokumenter\\3 år\\dat255 deep learning\\toxicity2\\toxicitypython39\\lib\\site-packages (from pandas->datasets) (2025.2)\n",
      "Requirement already satisfied: tzdata>=2022.7 in c:\\users\\tamer\\onedrive - høgskulen på vestlandet\\dokumenter\\3 år\\dat255 deep learning\\toxicity2\\toxicitypython39\\lib\\site-packages (from pandas->datasets) (2025.2)\n",
      "Requirement already satisfied: python-dateutil>=2.8.2 in c:\\users\\tamer\\onedrive - høgskulen på vestlandet\\dokumenter\\3 år\\dat255 deep learning\\toxicity2\\toxicitypython39\\lib\\site-packages (from pandas->datasets) (2.9.0.post0)\n",
      "Requirement already satisfied: six>=1.5 in c:\\users\\tamer\\onedrive - høgskulen på vestlandet\\dokumenter\\3 år\\dat255 deep learning\\toxicity2\\toxicitypython39\\lib\\site-packages (from python-dateutil>=2.8.2->pandas->datasets) (1.17.0)\n"
     ]
    },
    {
     "name": "stderr",
     "output_type": "stream",
     "text": [
      "WARNING: You are using pip version 22.0.4; however, version 25.0.1 is available.\n",
      "You should consider upgrading via the 'C:\\Users\\tamer\\OneDrive - Høgskulen på Vestlandet\\Dokumenter\\3 År\\DAT255 Deep learning\\toxicity2\\toxicityPython39\\Scripts\\python.exe -m pip install --upgrade pip' command.\n"
     ]
    }
   ],
   "source": [
    "import pandas as pd\n",
    "import tensorflow as tf\n",
    "from tensorflow.keras.layers import TextVectorization\n",
    "!pip install datasets\n",
    "from datasets import load_dataset"
   ]
  },
  {
   "cell_type": "code",
   "execution_count": 2,
   "id": "b014f0c7-b458-4304-8ca4-2394c6fe82be",
   "metadata": {},
   "outputs": [
    {
     "name": "stdout",
     "output_type": "stream",
     "text": [
      "{'text': \"This is so cool. It's like, 'would you want your mother to read this??' Really great idea, well done!\", 'toxicity': 0.0, 'severe_toxicity': 0.0, 'obscene': 0.0, 'threat': 0.0, 'insult': 0.0, 'identity_attack': 0.0, 'sexual_explicit': 0.0}\n"
     ]
    }
   ],
   "source": [
    "dataset = load_dataset(\"google/civil_comments\")\n",
    "print(dataset['train'][0])"
   ]
  },
  {
   "cell_type": "code",
   "execution_count": 3,
   "id": "e5d612fd-e7bb-4695-8b0c-a3a0368fe65d",
   "metadata": {},
   "outputs": [
    {
     "name": "stdout",
     "output_type": "stream",
     "text": [
      "<class 'datasets.dataset_dict.DatasetDict'>\n"
     ]
    }
   ],
   "source": [
    "print(type(dataset))"
   ]
  },
  {
   "cell_type": "code",
   "execution_count": 4,
   "id": "bf9c7d97-8c0d-4452-9102-08feb2ad13b5",
   "metadata": {},
   "outputs": [
    {
     "name": "stdout",
     "output_type": "stream",
     "text": [
      "1804874\n"
     ]
    }
   ],
   "source": [
    "# load dataset\n",
    "train_dataset = load_dataset(\"google/civil_comments\", split=\"train\")\n",
    "print(len(train_dataset['text']))"
   ]
  },
  {
   "cell_type": "code",
   "execution_count": 5,
   "id": "d6cb267e-50d1-494a-9b6c-7ed855370d32",
   "metadata": {},
   "outputs": [
    {
     "data": {
      "application/vnd.jupyter.widget-view+json": {
       "model_id": "50ca172383f44dd686ccaa37c5e9121e",
       "version_major": 2,
       "version_minor": 0
      },
      "text/plain": [
       "Filter:   0%|          | 0/1804874 [00:00<?, ? examples/s]"
      ]
     },
     "metadata": {},
     "output_type": "display_data"
    },
    {
     "name": "stdout",
     "output_type": "stream",
     "text": [
      "Total after filtering: 1391091\n",
      "{'text': \"This is so cool. It's like, 'would you want your mother to read this??' Really great idea, well done!\", 'toxicity': 0.0, 'severe_toxicity': 0.0, 'obscene': 0.0, 'threat': 0.0, 'insult': 0.0, 'identity_attack': 0.0, 'sexual_explicit': 0.0}\n"
     ]
    }
   ],
   "source": [
    "label_cols = [\n",
    "    'toxicity', 'severe_toxicity', 'obscene', 'threat', \n",
    "    'insult', 'identity_attack', 'sexual_explicit'\n",
    "]\n",
    "\n",
    "# filter data\n",
    "def keep_example(example):\n",
    "    text = example[\"text\"]\n",
    "    if text.strip() == \"\":\n",
    "        return False  # Exclude empty text\n",
    "    labels = [example[col] for col in label_cols]\n",
    "    if any(label >= 0.5 for label in labels):\n",
    "        return True  # Keep if any label >= 0.5\n",
    "    if all(label == 0.0 for label in labels):\n",
    "        return True  # Or if they are all zero\n",
    "    return False  # Exclude the rest\n",
    "\n",
    "# Applay filter\n",
    "filtered_dataset = train_dataset.filter(keep_example)\n",
    "\n",
    "# Check results\n",
    "print(f\"Total after filtering: {len(filtered_dataset)}\")\n",
    "print(filtered_dataset[0])"
   ]
  },
  {
   "cell_type": "code",
   "execution_count": 6,
   "id": "3fe76631-0ff9-45fc-a1d4-69c69d6946bf",
   "metadata": {},
   "outputs": [
    {
     "name": "stdout",
     "output_type": "stream",
     "text": [
      "toxicity: 144334\n",
      "severe_toxicity: 13\n",
      "obscene: 9603\n",
      "threat: 4280\n",
      "insult: 106534\n",
      "identity_attack: 13410\n",
      "sexual_explicit: 4686\n"
     ]
    }
   ],
   "source": [
    "# Count the number of rows containing each label > 0.5\n",
    "for label in label_cols:\n",
    "    count = sum(example[label] >= 0.5 for example in filtered_dataset)\n",
    "    print(f\"{label}: {count}\")"
   ]
  },
  {
   "cell_type": "code",
   "execution_count": 7,
   "id": "ef3fdb56-17b1-4211-92a8-ad7464eb274c",
   "metadata": {},
   "outputs": [
    {
     "name": "stdout",
     "output_type": "stream",
     "text": [
      "Rows with more than one label >= 0.5: 122070\n"
     ]
    }
   ],
   "source": [
    "multi_label_count = sum(\n",
    "    sum(example[label] >= 0.5 for label in label_cols) > 1\n",
    "    for example in filtered_dataset\n",
    ")\n",
    "print(f\"Rows with more than one label >= 0.5: {multi_label_count}\")\n"
   ]
  },
  {
   "cell_type": "code",
   "execution_count": 8,
   "id": "6d720988-18b6-4f75-a72e-6ae1b9b9e435",
   "metadata": {},
   "outputs": [
    {
     "name": "stdout",
     "output_type": "stream",
     "text": [
      "Rows with all labels == 0.0: 1242544\n"
     ]
    }
   ],
   "source": [
    "only_zero_labels = sum(\n",
    "    all(example[label] == 0.0 for label in label_cols)\n",
    "    for example in filtered_dataset\n",
    ")\n",
    "\n",
    "print(f\"Rows with all labels == 0.0: {only_zero_labels}\")"
   ]
  },
  {
   "cell_type": "code",
   "execution_count": 9,
   "id": "f8603eb7-7b67-4c50-ac51-682056008ac4",
   "metadata": {},
   "outputs": [
    {
     "name": "stdout",
     "output_type": "stream",
     "text": [
      "Rows with exactly one label >= 0.5: 26477\n"
     ]
    }
   ],
   "source": [
    "exactly_one_label = sum(\n",
    "    sum(example[label] >= 0.5 for label in label_cols) == 1\n",
    "    for example in filtered_dataset\n",
    ")\n",
    "\n",
    "print(f\"Rows with exactly one label >= 0.5: {exactly_one_label}\")"
   ]
  },
  {
   "cell_type": "markdown",
   "id": "e41de671-563e-426b-b9c1-4770797bdc96",
   "metadata": {},
   "source": [
    "Rows with label >= 0.5 (and their number is the sum):\n",
    "\n",
    "Rows with more than one label >= 0.5: 122,070\n",
    "\n",
    "Rows with exactly one label >= 0.5: 26,477\n",
    "Total = approximately 148,547 rows\n",
    "\n",
    "This is the unhealthy portion of the data.\n",
    "\n",
    "We take the same number of \"clean\" texts (with all labels = 0.0), and their number is:\n",
    "\n",
    "Rows with all labels == 0.0: 1,242,544\n",
    "\n",
    "So we take a random sample of 148,547 of them."
   ]
  },
  {
   "cell_type": "code",
   "execution_count": 10,
   "id": "d79ea697-4b70-4609-a4a1-91f448490032",
   "metadata": {},
   "outputs": [
    {
     "data": {
      "application/vnd.jupyter.widget-view+json": {
       "model_id": "dc483b04484a482a80946422121b61cf",
       "version_major": 2,
       "version_minor": 0
      },
      "text/plain": [
       "Filter:   0%|          | 0/1391091 [00:00<?, ? examples/s]"
      ]
     },
     "metadata": {},
     "output_type": "display_data"
    },
    {
     "name": "stdout",
     "output_type": "stream",
     "text": [
      "positive_dataset: 148547\n"
     ]
    },
    {
     "data": {
      "application/vnd.jupyter.widget-view+json": {
       "model_id": "3b9e02390c02499fa581b697b912f4df",
       "version_major": 2,
       "version_minor": 0
      },
      "text/plain": [
       "Filter:   0%|          | 0/1391091 [00:00<?, ? examples/s]"
      ]
     },
     "metadata": {},
     "output_type": "display_data"
    },
    {
     "name": "stdout",
     "output_type": "stream",
     "text": [
      "neutral_dataset: 1242544\n",
      "balanced_neutral: 148547\n",
      "Balanced dataset size: 297094\n"
     ]
    }
   ],
   "source": [
    "from datasets import Dataset\n",
    "from datasets import concatenate_datasets\n",
    "import random\n",
    "\n",
    "# Number of rows containing labels >= 0.5\n",
    "positive_dataset = filtered_dataset.filter(\n",
    "    lambda example: any(example[label] >= 0.5 for label in label_cols)\n",
    ")\n",
    "print(f\"positive_dataset: {len(positive_dataset)}\")\n",
    "\n",
    "# Number of rows containing all labels = 0.0\n",
    "neutral_dataset = filtered_dataset.filter(\n",
    "    lambda example: all(example[label] == 0.0 for label in label_cols)\n",
    ")\n",
    "print(f\"neutral_dataset: {len(neutral_dataset)}\")\n",
    "\n",
    "# Randomly sample clean texts with the same number of toxic ones.\n",
    "balanced_neutral = neutral_dataset.shuffle(seed=42).select(range(len(positive_dataset)))\n",
    "print(f\"balanced_neutral: {len(balanced_neutral)}\")\n",
    "\n",
    "# Merge the two samples\n",
    "balanced_dataset = concatenate_datasets([positive_dataset, balanced_neutral])\n",
    "\n",
    "print(f\"Balanced dataset size: {len(balanced_dataset)}\")\n"
   ]
  },
  {
   "cell_type": "code",
   "execution_count": 11,
   "id": "efb840ff-dc26-436d-93ec-fe0066a4487a",
   "metadata": {},
   "outputs": [
    {
     "name": "stdout",
     "output_type": "stream",
     "text": [
      "Dataset({\n",
      "    features: ['text', 'toxicity', 'severe_toxicity', 'obscene', 'threat', 'insult', 'identity_attack', 'sexual_explicit'],\n",
      "    num_rows: 297094\n",
      "})\n"
     ]
    }
   ],
   "source": [
    "print(balanced_dataset)"
   ]
  },
  {
   "cell_type": "code",
   "execution_count": 12,
   "id": "fe7ad564-e0d3-40df-a2ee-e46b0d03c96e",
   "metadata": {},
   "outputs": [
    {
     "data": {
      "application/vnd.jupyter.widget-view+json": {
       "model_id": "01bc4b04a17040179c35e475d3a62fd8",
       "version_major": 2,
       "version_minor": 0
      },
      "text/plain": [
       "Map:   0%|          | 0/297094 [00:00<?, ? examples/s]"
      ]
     },
     "metadata": {},
     "output_type": "display_data"
    }
   ],
   "source": [
    "# Clean the texts :\n",
    "import re\n",
    "\n",
    "def clean_text(example):\n",
    "    text = example[\"text\"].lower()\n",
    "    text = re.sub(r'\\d+', '', text)\n",
    "    text = re.sub(r'[^\\w\\s]', '', text)\n",
    "    return {\"text\": text}\n",
    "\n",
    "# Apply cleaning using .map() on the full dataset\n",
    "balanced_dataset = balanced_dataset.map(clean_text)"
   ]
  },
  {
   "cell_type": "code",
   "execution_count": 19,
   "id": "c24581db-1dbc-4b5c-9820-f2beea48b267",
   "metadata": {},
   "outputs": [
    {
     "name": "stdout",
     "output_type": "stream",
     "text": [
      "Number of rows after cleaning: 297057\n"
     ]
    }
   ],
   "source": [
    "# Remove empty and null text\n",
    "cleaned_dataset = balanced_dataset.filter(lambda x: x[\"text\"] not in [\"\", None])\n",
    "\n",
    "# Check data size after cleaning\n",
    "print(f\"Number of rows after cleaning: {len(cleaned_dataset)}\")"
   ]
  },
  {
   "cell_type": "code",
   "execution_count": 20,
   "id": "f15659d7-7aa5-47f2-b17e-8b1286689376",
   "metadata": {},
   "outputs": [
    {
     "data": {
      "application/vnd.jupyter.widget-view+json": {
       "model_id": "af88c5b283af4f4db0d45edc8702a7b4",
       "version_major": 2,
       "version_minor": 0
      },
      "text/plain": [
       "Saving the dataset (0/1 shards):   0%|          | 0/297057 [00:00<?, ? examples/s]"
      ]
     },
     "metadata": {},
     "output_type": "display_data"
    }
   ],
   "source": [
    "cleaned_dataset.save_to_disk(\"cleaned_balanced_civil_comments\")"
   ]
  },
  {
   "cell_type": "code",
   "execution_count": 122,
   "id": "46771fba-d643-4050-b0e7-0eddf4555a27",
   "metadata": {},
   "outputs": [
    {
     "name": "stdout",
     "output_type": "stream",
     "text": [
      "positive_dataset: 148547\n"
     ]
    }
   ],
   "source": [
    "positive_dataset = cleaned_dataset.filter(\n",
    "    lambda example: any(example[label] >= 0.5 for label in label_cols)\n",
    ")\n",
    "print(f\"positive_dataset: {len(positive_dataset)}\")"
   ]
  },
  {
   "cell_type": "code",
   "execution_count": 126,
   "id": "690a8072-c118-447d-88e1-d5639bf7bd4f",
   "metadata": {},
   "outputs": [
    {
     "name": "stdout",
     "output_type": "stream",
     "text": [
      "{'text': 'more than  lanes of new traffic does not fix congestion  you can not build your way out of conjection  findings suggest that both road capacity expansions and extensions to public transit are not appropriate policies with which to combat traffic congestion this leaves congestion pricing as the main candidate tool to curb traffic congestion tolls reduce congestion  the crc would have reduced congestion  if for no other reason people dont like to pay tolls stupid logic but that what studies suggest  more bridges the more congestion portland just say no', 'toxicity': 0.699999988079071, 'severe_toxicity': 0.0, 'obscene': 0.0, 'threat': 0.0, 'insult': 0.6000000238418579, 'identity_attack': 0.0, 'sexual_explicit': 0.0}\n"
     ]
    }
   ],
   "source": [
    "print(positive_dataset[200])"
   ]
  },
  {
   "cell_type": "code",
   "execution_count": 58,
   "id": "3ca1416b-6ed0-4452-90d4-fc99d1d0bc2f",
   "metadata": {},
   "outputs": [
    {
     "data": {
      "text/html": [
       "<div>\n",
       "<style scoped>\n",
       "    .dataframe tbody tr th:only-of-type {\n",
       "        vertical-align: middle;\n",
       "    }\n",
       "\n",
       "    .dataframe tbody tr th {\n",
       "        vertical-align: top;\n",
       "    }\n",
       "\n",
       "    .dataframe thead th {\n",
       "        text-align: right;\n",
       "    }\n",
       "</style>\n",
       "<table border=\"1\" class=\"dataframe\">\n",
       "  <thead>\n",
       "    <tr style=\"text-align: right;\">\n",
       "      <th></th>\n",
       "      <th>text</th>\n",
       "      <th>toxicity</th>\n",
       "      <th>severe_toxicity</th>\n",
       "      <th>obscene</th>\n",
       "      <th>threat</th>\n",
       "      <th>insult</th>\n",
       "      <th>identity_attack</th>\n",
       "      <th>sexual_explicit</th>\n",
       "    </tr>\n",
       "  </thead>\n",
       "  <tbody>\n",
       "    <tr>\n",
       "      <th>0</th>\n",
       "      <td>haha you guys are a bunch of losers</td>\n",
       "      <td>0.893617</td>\n",
       "      <td>0.021277</td>\n",
       "      <td>0.000000</td>\n",
       "      <td>0.0</td>\n",
       "      <td>0.872340</td>\n",
       "      <td>0.021277</td>\n",
       "      <td>0.000000</td>\n",
       "    </tr>\n",
       "    <tr>\n",
       "      <th>1</th>\n",
       "      <td>ur a shtty comment</td>\n",
       "      <td>0.666667</td>\n",
       "      <td>0.047619</td>\n",
       "      <td>0.638095</td>\n",
       "      <td>0.0</td>\n",
       "      <td>0.333333</td>\n",
       "      <td>0.000000</td>\n",
       "      <td>0.009524</td>\n",
       "    </tr>\n",
       "    <tr>\n",
       "      <th>2</th>\n",
       "      <td>its ridiculous that these guys are being calle...</td>\n",
       "      <td>0.600000</td>\n",
       "      <td>0.000000</td>\n",
       "      <td>0.100000</td>\n",
       "      <td>0.1</td>\n",
       "      <td>0.600000</td>\n",
       "      <td>0.000000</td>\n",
       "      <td>0.000000</td>\n",
       "    </tr>\n",
       "    <tr>\n",
       "      <th>3</th>\n",
       "      <td>this story gets more ridiculous by the hour an...</td>\n",
       "      <td>0.500000</td>\n",
       "      <td>0.000000</td>\n",
       "      <td>0.000000</td>\n",
       "      <td>0.0</td>\n",
       "      <td>0.300000</td>\n",
       "      <td>0.000000</td>\n",
       "      <td>0.000000</td>\n",
       "    </tr>\n",
       "    <tr>\n",
       "      <th>4</th>\n",
       "      <td>angry trolls misogynists and racists oh my it ...</td>\n",
       "      <td>0.500000</td>\n",
       "      <td>0.000000</td>\n",
       "      <td>0.000000</td>\n",
       "      <td>0.0</td>\n",
       "      <td>0.500000</td>\n",
       "      <td>0.100000</td>\n",
       "      <td>0.000000</td>\n",
       "    </tr>\n",
       "  </tbody>\n",
       "</table>\n",
       "</div>"
      ],
      "text/plain": [
       "                                                text  toxicity  \\\n",
       "0                haha you guys are a bunch of losers  0.893617   \n",
       "1                                 ur a shtty comment  0.666667   \n",
       "2  its ridiculous that these guys are being calle...  0.600000   \n",
       "3  this story gets more ridiculous by the hour an...  0.500000   \n",
       "4  angry trolls misogynists and racists oh my it ...  0.500000   \n",
       "\n",
       "   severe_toxicity   obscene  threat    insult  identity_attack  \\\n",
       "0         0.021277  0.000000     0.0  0.872340         0.021277   \n",
       "1         0.047619  0.638095     0.0  0.333333         0.000000   \n",
       "2         0.000000  0.100000     0.1  0.600000         0.000000   \n",
       "3         0.000000  0.000000     0.0  0.300000         0.000000   \n",
       "4         0.000000  0.000000     0.0  0.500000         0.100000   \n",
       "\n",
       "   sexual_explicit  \n",
       "0         0.000000  \n",
       "1         0.009524  \n",
       "2         0.000000  \n",
       "3         0.000000  \n",
       "4         0.000000  "
      ]
     },
     "execution_count": 58,
     "metadata": {},
     "output_type": "execute_result"
    }
   ],
   "source": [
    "df = pd.DataFrame(cleaned_dataset)\n",
    "df.head()"
   ]
  },
  {
   "cell_type": "code",
   "execution_count": 59,
   "id": "4dd3bfc3-8312-4fed-907d-820c00813bd6",
   "metadata": {},
   "outputs": [
    {
     "name": "stdout",
     "output_type": "stream",
     "text": [
      "Null or None values:\n",
      "text               0\n",
      "toxicity           0\n",
      "severe_toxicity    0\n",
      "obscene            0\n",
      "threat             0\n",
      "insult             0\n",
      "identity_attack    0\n",
      "sexual_explicit    0\n",
      "dtype: int64\n",
      "\n",
      "Empty string values in 'text':\n",
      "0\n"
     ]
    }
   ],
   "source": [
    "# Check null or None\n",
    "print(\"Null or None values:\")\n",
    "print(df.isnull().sum())\n",
    "\n",
    "# Check only empty text in the text column\n",
    "print(\"\\nEmpty string values in 'text':\")\n",
    "print((df[\"text\"] == \"\").sum())"
   ]
  },
  {
   "cell_type": "code",
   "execution_count": 91,
   "id": "d3330d1a-e12a-44b2-b91a-efe7214319e7",
   "metadata": {},
   "outputs": [],
   "source": [
    "# lables\n",
    "labels = df[df.columns[1:]].values\n",
    "\n",
    "# texts\n",
    "texts = df['text'].astype(str).values"
   ]
  },
  {
   "cell_type": "code",
   "execution_count": 95,
   "id": "5eacc3bf-48a5-4e5e-a71f-ce11ae11fe90",
   "metadata": {},
   "outputs": [
    {
     "name": "stdout",
     "output_type": "stream",
     "text": [
      "<class 'numpy.ndarray'>\n",
      "(297057,)\n"
     ]
    }
   ],
   "source": [
    "print(type(texts))\n",
    "print(texts.shape)"
   ]
  },
  {
   "cell_type": "code",
   "execution_count": 96,
   "id": "8ada05d5-d4e8-4503-93cb-96262e28a56a",
   "metadata": {},
   "outputs": [
    {
     "name": "stdout",
     "output_type": "stream",
     "text": [
      "<class 'numpy.ndarray'>\n",
      "(297057, 7)\n"
     ]
    }
   ],
   "source": [
    "print(type(labels))\n",
    "print(labels.shape)"
   ]
  },
  {
   "cell_type": "code",
   "execution_count": 97,
   "id": "83e8896a-b1b6-4045-a49d-57ddc6569950",
   "metadata": {},
   "outputs": [
    {
     "name": "stdout",
     "output_type": "stream",
     "text": [
      "Number of values ​​that equal an empty string: 0\n"
     ]
    }
   ],
   "source": [
    "is_empty_string = df['text'] == ''\n",
    "count_empty_string = is_empty_string.sum()\n",
    "print(\"Number of values ​​that equal an empty string:\", count_empty_string)"
   ]
  },
  {
   "cell_type": "code",
   "execution_count": 98,
   "id": "319319c0-a41d-4b3b-9a8a-5644ddfd86ef",
   "metadata": {},
   "outputs": [
    {
     "data": {
      "text/plain": [
       "np.int64(0)"
      ]
     },
     "execution_count": 98,
     "metadata": {},
     "output_type": "execute_result"
    }
   ],
   "source": [
    "df['text'].isnull().sum()"
   ]
  },
  {
   "cell_type": "code",
   "execution_count": 99,
   "id": "1a9b998f-4534-4b9e-bb56-eae19d0f7356",
   "metadata": {},
   "outputs": [],
   "source": [
    "filtered_texts = []\n",
    "filtered_labels = []\n",
    "\n",
    "for text, label in zip(texts, labels):\n",
    "    if text.strip(): \n",
    "        filtered_texts.append(text)\n",
    "        filtered_labels.append(label)\n",
    "\n",
    "texts = filtered_texts\n",
    "labels = filtered_labels"
   ]
  },
  {
   "cell_type": "code",
   "execution_count": 100,
   "id": "55d719a6-6144-46b1-a95a-8b952cf4e406",
   "metadata": {},
   "outputs": [],
   "source": [
    "MAX_WORDS=20000"
   ]
  },
  {
   "cell_type": "code",
   "execution_count": 101,
   "id": "67bbca47-abb1-40cb-bf04-5ff8b79baffd",
   "metadata": {},
   "outputs": [],
   "source": [
    "vectorizer = TextVectorization(\n",
    "    max_tokens=MAX_WORDS,\n",
    "    output_sequence_length=300,  \n",
    "    output_mode='int'\n",
    ")\n",
    "\n",
    "vectorizer.adapt(texts)"
   ]
  },
  {
   "cell_type": "code",
   "execution_count": null,
   "id": "784de0a3-0bfe-4c51-8980-dc37ac0ae85c",
   "metadata": {},
   "outputs": [],
   "source": [
    "# Convert data to Dataset\n",
    "dataset = tf.data.Dataset.from_tensor_slices((texts, labels))\n",
    "\n",
    "dataset = dataset.map(lambda x, y: (vectorizer(x), y), num_parallel_calls=tf.data.AUTOTUNE)\n",
    "\n",
    "# Data organization\n",
    "dataset = dataset.cache()\n",
    "dataset = dataset.shuffle(10000)\n",
    "dataset = dataset.batch(32)\n",
    "dataset = dataset.prefetch(tf.data.AUTOTUNE)"
   ]
  },
  {
   "cell_type": "code",
   "execution_count": 103,
   "id": "d049db88-6204-4a97-a674-d296c9550967",
   "metadata": {},
   "outputs": [
    {
     "data": {
      "text/plain": [
       "9283"
      ]
     },
     "execution_count": 103,
     "metadata": {},
     "output_type": "execute_result"
    }
   ],
   "source": [
    "len(dataset)"
   ]
  },
  {
   "cell_type": "code",
   "execution_count": 104,
   "id": "ac3afb87-2aa2-4c44-b3c3-a2f1897d0ec0",
   "metadata": {},
   "outputs": [],
   "source": [
    "# Split into train / val / test\n",
    "train = dataset.take(int(len(dataset)*.7))\n",
    "val = dataset.skip(int(len(dataset)*.7)).take(int(len(dataset)*.2))\n",
    "test = dataset.skip(int(len(dataset)*.9)).take(int(len(dataset)*.1))"
   ]
  },
  {
   "cell_type": "code",
   "execution_count": 105,
   "id": "324fdfce-b477-4742-a487-e9e6f82af452",
   "metadata": {},
   "outputs": [],
   "source": [
    "from tensorflow.keras.models import Sequential\n",
    "from tensorflow.keras.layers import Input, LSTM, Dropout, Bidirectional, Dense, Embedding"
   ]
  },
  {
   "cell_type": "code",
   "execution_count": 106,
   "id": "ce9eb55d-2ad5-424a-8ad9-1f6138fca751",
   "metadata": {},
   "outputs": [],
   "source": [
    "model = Sequential()\n",
    "model.add(Input(shape=(300,)))\n",
    "# Create the embedding layer\n",
    "model.add(Embedding(MAX_WORDS+1, 32))\n",
    "# Bidirectional LSTM Layer\n",
    "model.add(Bidirectional(LSTM(32, activation='tanh')))\n",
    "# Feature extractor Fully connected layers\n",
    "model.add(Dense(128, activation='relu'))\n",
    "model.add(Dense(256, activation='relu'))\n",
    "model.add(Dense(128, activation='relu'))\n",
    "# Final layer\n",
    "model.add(Dense(7, activation='sigmoid'))"
   ]
  },
  {
   "cell_type": "code",
   "execution_count": 107,
   "id": "8e2b9137-c6b9-4ca5-b1c9-06dcc3c7a26f",
   "metadata": {},
   "outputs": [],
   "source": [
    "from tensorflow.keras.metrics import Precision, Recall, AUC\n",
    "import tensorflow as tf\n",
    "\n",
    "model.compile(\n",
    "    optimizer='adam',\n",
    "    loss='binary_crossentropy',\n",
    "    metrics=[\n",
    "        tf.keras.metrics.Precision(name='precision'),\n",
    "        tf.keras.metrics.Recall(name='recall'),\n",
    "        tf.keras.metrics.AUC(name='auc'),\n",
    "    ]\n",
    ")\n",
    "\n"
   ]
  },
  {
   "cell_type": "code",
   "execution_count": 108,
   "id": "86152f8f-7e2a-44fe-8a56-839bb06e75f0",
   "metadata": {},
   "outputs": [
    {
     "data": {
      "text/html": [
       "<pre style=\"white-space:pre;overflow-x:auto;line-height:normal;font-family:Menlo,'DejaVu Sans Mono',consolas,'Courier New',monospace\"><span style=\"font-weight: bold\">Model: \"sequential_3\"</span>\n",
       "</pre>\n"
      ],
      "text/plain": [
       "\u001b[1mModel: \"sequential_3\"\u001b[0m\n"
      ]
     },
     "metadata": {},
     "output_type": "display_data"
    },
    {
     "data": {
      "text/html": [
       "<pre style=\"white-space:pre;overflow-x:auto;line-height:normal;font-family:Menlo,'DejaVu Sans Mono',consolas,'Courier New',monospace\">┏━━━━━━━━━━━━━━━━━━━━━━━━━━━━━━━━━━━━━━┳━━━━━━━━━━━━━━━━━━━━━━━━━━━━━┳━━━━━━━━━━━━━━━━━┓\n",
       "┃<span style=\"font-weight: bold\"> Layer (type)                         </span>┃<span style=\"font-weight: bold\"> Output Shape                </span>┃<span style=\"font-weight: bold\">         Param # </span>┃\n",
       "┡━━━━━━━━━━━━━━━━━━━━━━━━━━━━━━━━━━━━━━╇━━━━━━━━━━━━━━━━━━━━━━━━━━━━━╇━━━━━━━━━━━━━━━━━┩\n",
       "│ embedding_3 (<span style=\"color: #0087ff; text-decoration-color: #0087ff\">Embedding</span>)              │ (<span style=\"color: #00d7ff; text-decoration-color: #00d7ff\">None</span>, <span style=\"color: #00af00; text-decoration-color: #00af00\">300</span>, <span style=\"color: #00af00; text-decoration-color: #00af00\">32</span>)             │         <span style=\"color: #00af00; text-decoration-color: #00af00\">640,032</span> │\n",
       "├──────────────────────────────────────┼─────────────────────────────┼─────────────────┤\n",
       "│ bidirectional_3 (<span style=\"color: #0087ff; text-decoration-color: #0087ff\">Bidirectional</span>)      │ (<span style=\"color: #00d7ff; text-decoration-color: #00d7ff\">None</span>, <span style=\"color: #00af00; text-decoration-color: #00af00\">64</span>)                  │          <span style=\"color: #00af00; text-decoration-color: #00af00\">16,640</span> │\n",
       "├──────────────────────────────────────┼─────────────────────────────┼─────────────────┤\n",
       "│ dense_12 (<span style=\"color: #0087ff; text-decoration-color: #0087ff\">Dense</span>)                     │ (<span style=\"color: #00d7ff; text-decoration-color: #00d7ff\">None</span>, <span style=\"color: #00af00; text-decoration-color: #00af00\">128</span>)                 │           <span style=\"color: #00af00; text-decoration-color: #00af00\">8,320</span> │\n",
       "├──────────────────────────────────────┼─────────────────────────────┼─────────────────┤\n",
       "│ dense_13 (<span style=\"color: #0087ff; text-decoration-color: #0087ff\">Dense</span>)                     │ (<span style=\"color: #00d7ff; text-decoration-color: #00d7ff\">None</span>, <span style=\"color: #00af00; text-decoration-color: #00af00\">256</span>)                 │          <span style=\"color: #00af00; text-decoration-color: #00af00\">33,024</span> │\n",
       "├──────────────────────────────────────┼─────────────────────────────┼─────────────────┤\n",
       "│ dense_14 (<span style=\"color: #0087ff; text-decoration-color: #0087ff\">Dense</span>)                     │ (<span style=\"color: #00d7ff; text-decoration-color: #00d7ff\">None</span>, <span style=\"color: #00af00; text-decoration-color: #00af00\">128</span>)                 │          <span style=\"color: #00af00; text-decoration-color: #00af00\">32,896</span> │\n",
       "├──────────────────────────────────────┼─────────────────────────────┼─────────────────┤\n",
       "│ dense_15 (<span style=\"color: #0087ff; text-decoration-color: #0087ff\">Dense</span>)                     │ (<span style=\"color: #00d7ff; text-decoration-color: #00d7ff\">None</span>, <span style=\"color: #00af00; text-decoration-color: #00af00\">7</span>)                   │             <span style=\"color: #00af00; text-decoration-color: #00af00\">903</span> │\n",
       "└──────────────────────────────────────┴─────────────────────────────┴─────────────────┘\n",
       "</pre>\n"
      ],
      "text/plain": [
       "┏━━━━━━━━━━━━━━━━━━━━━━━━━━━━━━━━━━━━━━┳━━━━━━━━━━━━━━━━━━━━━━━━━━━━━┳━━━━━━━━━━━━━━━━━┓\n",
       "┃\u001b[1m \u001b[0m\u001b[1mLayer (type)                        \u001b[0m\u001b[1m \u001b[0m┃\u001b[1m \u001b[0m\u001b[1mOutput Shape               \u001b[0m\u001b[1m \u001b[0m┃\u001b[1m \u001b[0m\u001b[1m        Param #\u001b[0m\u001b[1m \u001b[0m┃\n",
       "┡━━━━━━━━━━━━━━━━━━━━━━━━━━━━━━━━━━━━━━╇━━━━━━━━━━━━━━━━━━━━━━━━━━━━━╇━━━━━━━━━━━━━━━━━┩\n",
       "│ embedding_3 (\u001b[38;5;33mEmbedding\u001b[0m)              │ (\u001b[38;5;45mNone\u001b[0m, \u001b[38;5;34m300\u001b[0m, \u001b[38;5;34m32\u001b[0m)             │         \u001b[38;5;34m640,032\u001b[0m │\n",
       "├──────────────────────────────────────┼─────────────────────────────┼─────────────────┤\n",
       "│ bidirectional_3 (\u001b[38;5;33mBidirectional\u001b[0m)      │ (\u001b[38;5;45mNone\u001b[0m, \u001b[38;5;34m64\u001b[0m)                  │          \u001b[38;5;34m16,640\u001b[0m │\n",
       "├──────────────────────────────────────┼─────────────────────────────┼─────────────────┤\n",
       "│ dense_12 (\u001b[38;5;33mDense\u001b[0m)                     │ (\u001b[38;5;45mNone\u001b[0m, \u001b[38;5;34m128\u001b[0m)                 │           \u001b[38;5;34m8,320\u001b[0m │\n",
       "├──────────────────────────────────────┼─────────────────────────────┼─────────────────┤\n",
       "│ dense_13 (\u001b[38;5;33mDense\u001b[0m)                     │ (\u001b[38;5;45mNone\u001b[0m, \u001b[38;5;34m256\u001b[0m)                 │          \u001b[38;5;34m33,024\u001b[0m │\n",
       "├──────────────────────────────────────┼─────────────────────────────┼─────────────────┤\n",
       "│ dense_14 (\u001b[38;5;33mDense\u001b[0m)                     │ (\u001b[38;5;45mNone\u001b[0m, \u001b[38;5;34m128\u001b[0m)                 │          \u001b[38;5;34m32,896\u001b[0m │\n",
       "├──────────────────────────────────────┼─────────────────────────────┼─────────────────┤\n",
       "│ dense_15 (\u001b[38;5;33mDense\u001b[0m)                     │ (\u001b[38;5;45mNone\u001b[0m, \u001b[38;5;34m7\u001b[0m)                   │             \u001b[38;5;34m903\u001b[0m │\n",
       "└──────────────────────────────────────┴─────────────────────────────┴─────────────────┘\n"
      ]
     },
     "metadata": {},
     "output_type": "display_data"
    },
    {
     "data": {
      "text/html": [
       "<pre style=\"white-space:pre;overflow-x:auto;line-height:normal;font-family:Menlo,'DejaVu Sans Mono',consolas,'Courier New',monospace\"><span style=\"font-weight: bold\"> Total params: </span><span style=\"color: #00af00; text-decoration-color: #00af00\">731,815</span> (2.79 MB)\n",
       "</pre>\n"
      ],
      "text/plain": [
       "\u001b[1m Total params: \u001b[0m\u001b[38;5;34m731,815\u001b[0m (2.79 MB)\n"
      ]
     },
     "metadata": {},
     "output_type": "display_data"
    },
    {
     "data": {
      "text/html": [
       "<pre style=\"white-space:pre;overflow-x:auto;line-height:normal;font-family:Menlo,'DejaVu Sans Mono',consolas,'Courier New',monospace\"><span style=\"font-weight: bold\"> Trainable params: </span><span style=\"color: #00af00; text-decoration-color: #00af00\">731,815</span> (2.79 MB)\n",
       "</pre>\n"
      ],
      "text/plain": [
       "\u001b[1m Trainable params: \u001b[0m\u001b[38;5;34m731,815\u001b[0m (2.79 MB)\n"
      ]
     },
     "metadata": {},
     "output_type": "display_data"
    },
    {
     "data": {
      "text/html": [
       "<pre style=\"white-space:pre;overflow-x:auto;line-height:normal;font-family:Menlo,'DejaVu Sans Mono',consolas,'Courier New',monospace\"><span style=\"font-weight: bold\"> Non-trainable params: </span><span style=\"color: #00af00; text-decoration-color: #00af00\">0</span> (0.00 B)\n",
       "</pre>\n"
      ],
      "text/plain": [
       "\u001b[1m Non-trainable params: \u001b[0m\u001b[38;5;34m0\u001b[0m (0.00 B)\n"
      ]
     },
     "metadata": {},
     "output_type": "display_data"
    }
   ],
   "source": [
    "model.summary()"
   ]
  },
  {
   "cell_type": "code",
   "execution_count": 109,
   "id": "013db8ed-3228-4606-a175-67293ee41471",
   "metadata": {},
   "outputs": [],
   "source": [
    "from tensorflow.keras.callbacks import EarlyStopping\n",
    "\n",
    "early_stop = EarlyStopping(\n",
    "    monitor='val_loss',\n",
    "    patience=2,\n",
    "    restore_best_weights=True\n",
    ")"
   ]
  },
  {
   "cell_type": "code",
   "execution_count": 110,
   "id": "e85a5efa-a99b-4ad7-a318-f16607d6117d",
   "metadata": {},
   "outputs": [
    {
     "name": "stdout",
     "output_type": "stream",
     "text": [
      "Epoch 1/6\n",
      "\u001b[1m6498/6498\u001b[0m \u001b[32m━━━━━━━━━━━━━━━━━━━━\u001b[0m\u001b[37m\u001b[0m \u001b[1m857s\u001b[0m 131ms/step - auc: 0.8489 - loss: 0.3258 - precision: 0.9953 - recall: 0.4386 - val_auc: 0.7258 - val_loss: 2.9470e-04 - val_precision: 0.0000e+00 - val_recall: 0.0000e+00\n",
      "Epoch 2/6\n",
      "\u001b[1m6498/6498\u001b[0m \u001b[32m━━━━━━━━━━━━━━━━━━━━\u001b[0m\u001b[37m\u001b[0m \u001b[1m794s\u001b[0m 122ms/step - auc: 0.8875 - loss: 0.3038 - precision: 0.9985 - recall: 0.4503 - val_auc: 0.7402 - val_loss: 5.4729e-04 - val_precision: 0.0000e+00 - val_recall: 0.0000e+00\n",
      "Epoch 3/6\n",
      "\u001b[1m6498/6498\u001b[0m \u001b[32m━━━━━━━━━━━━━━━━━━━━\u001b[0m\u001b[37m\u001b[0m \u001b[1m790s\u001b[0m 122ms/step - auc: 0.9010 - loss: 0.2972 - precision: 0.9992 - recall: 0.4531 - val_auc: 0.7371 - val_loss: 3.4080e-04 - val_precision: 1.0000 - val_recall: 0.0435\n"
     ]
    }
   ],
   "source": [
    "history = model.fit(train, \n",
    "                    epochs=6, \n",
    "                    validation_data=val,\n",
    "                    batch_size=32,\n",
    "                    callbacks=[early_stop]       \n",
    "                   )"
   ]
  },
  {
   "cell_type": "code",
   "execution_count": 111,
   "id": "4a756898-472e-4cfc-abb8-93e347f17418",
   "metadata": {},
   "outputs": [
    {
     "name": "stdout",
     "output_type": "stream",
     "text": [
      "model saved successfully!\n"
     ]
    }
   ],
   "source": [
    "model.save('Blanced_model.keras')\n",
    "print(\"model saved successfully!\")"
   ]
  },
  {
   "cell_type": "code",
   "execution_count": 112,
   "id": "9b4a0ca7-9d2b-4463-996d-36a09339e6b5",
   "metadata": {},
   "outputs": [],
   "source": [
    "import numpy as np\n",
    "\n",
    "# Extract properties and classes from val\n",
    "X_val = []\n",
    "y_val = []\n",
    "\n",
    "for batch in val:\n",
    "    features, labels = batch\n",
    "    X_val.append(features)\n",
    "    y_val.append(labels)\n",
    "\n",
    "# Convert labels to Numpy array\n",
    "y_val = np.concatenate([y.numpy() for y in y_val], axis=0)"
   ]
  },
  {
   "cell_type": "code",
   "execution_count": null,
   "id": "ca3bad8f-5f53-4d2a-a395-0e1a209a091e",
   "metadata": {},
   "outputs": [
    {
     "name": "stdout",
     "output_type": "stream",
     "text": [
      "\n",
      "Confusion Matrix for 'toxicity':\n",
      "[[59384     2]\n",
      " [    6     0]]\n"
     ]
    },
    {
     "data": {
      "image/png": "[encoded data removed]",
      "text/plain": [
       "<Figure size 400x300 with 2 Axes>"
      ]
     },
     "metadata": {},
     "output_type": "display_data"
    },
    {
     "name": "stdout",
     "output_type": "stream",
     "text": [
      "\n",
      "Confusion Matrix for 'severe_toxicity':\n",
      "[[59392]]\n"
     ]
    },
    {
     "name": "stderr",
     "output_type": "stream",
     "text": [
      "C:\\Users\\tamer\\OneDrive - Høgskulen på Vestlandet\\Dokumenter\\3 År\\DAT255 Deep learning\\toxicity2\\toxicityPython39\\lib\\site-packages\\sklearn\\metrics\\_classification.py:407: UserWarning: A single label was found in 'y_true' and 'y_pred'. For the confusion matrix to have the correct shape, use the 'labels' parameter to pass all known labels.\n",
      "  warnings.warn(\n"
     ]
    },
    {
     "data": {
      "image/png": "[encoded data removed]",
      "text/plain": [
       "<Figure size 400x300 with 2 Axes>"
      ]
     },
     "metadata": {},
     "output_type": "display_data"
    },
    {
     "name": "stdout",
     "output_type": "stream",
     "text": [
      "\n",
      "Confusion Matrix for 'obscene':\n",
      "[[59392]]\n"
     ]
    },
    {
     "name": "stderr",
     "output_type": "stream",
     "text": [
      "C:\\Users\\tamer\\OneDrive - Høgskulen på Vestlandet\\Dokumenter\\3 År\\DAT255 Deep learning\\toxicity2\\toxicityPython39\\lib\\site-packages\\sklearn\\metrics\\_classification.py:407: UserWarning: A single label was found in 'y_true' and 'y_pred'. For the confusion matrix to have the correct shape, use the 'labels' parameter to pass all known labels.\n",
      "  warnings.warn(\n"
     ]
    },
    {
     "data": {
      "image/png": "[encoded data removed]",
      "text/plain": [
       "<Figure size 400x300 with 2 Axes>"
      ]
     },
     "metadata": {},
     "output_type": "display_data"
    },
    {
     "name": "stdout",
     "output_type": "stream",
     "text": [
      "\n",
      "Confusion Matrix for 'threat':\n",
      "[[59392]]\n"
     ]
    },
    {
     "name": "stderr",
     "output_type": "stream",
     "text": [
      "C:\\Users\\tamer\\OneDrive - Høgskulen på Vestlandet\\Dokumenter\\3 År\\DAT255 Deep learning\\toxicity2\\toxicityPython39\\lib\\site-packages\\sklearn\\metrics\\_classification.py:407: UserWarning: A single label was found in 'y_true' and 'y_pred'. For the confusion matrix to have the correct shape, use the 'labels' parameter to pass all known labels.\n",
      "  warnings.warn(\n"
     ]
    },
    {
     "data": {
      "image/png": "[encoded data removed]",
      "text/plain": [
       "<Figure size 400x300 with 2 Axes>"
      ]
     },
     "metadata": {},
     "output_type": "display_data"
    },
    {
     "name": "stdout",
     "output_type": "stream",
     "text": [
      "\n",
      "Confusion Matrix for 'insult':\n",
      "[[59387     2]\n",
      " [    3     0]]\n"
     ]
    },
    {
     "data": {
      "image/png": "[encoded data removed]",
      "text/plain": [
       "<Figure size 400x300 with 2 Axes>"
      ]
     },
     "metadata": {},
     "output_type": "display_data"
    },
    {
     "name": "stdout",
     "output_type": "stream",
     "text": [
      "\n",
      "Confusion Matrix for 'identity_attack':\n",
      "[[59392]]\n"
     ]
    },
    {
     "name": "stderr",
     "output_type": "stream",
     "text": [
      "C:\\Users\\tamer\\OneDrive - Høgskulen på Vestlandet\\Dokumenter\\3 År\\DAT255 Deep learning\\toxicity2\\toxicityPython39\\lib\\site-packages\\sklearn\\metrics\\_classification.py:407: UserWarning: A single label was found in 'y_true' and 'y_pred'. For the confusion matrix to have the correct shape, use the 'labels' parameter to pass all known labels.\n",
      "  warnings.warn(\n"
     ]
    },
    {
     "data": {
      "image/png": "[encoded data removed]",
      "text/plain": [
       "<Figure size 400x300 with 2 Axes>"
      ]
     },
     "metadata": {},
     "output_type": "display_data"
    },
    {
     "name": "stdout",
     "output_type": "stream",
     "text": [
      "\n",
      "Confusion Matrix for 'sexual_explicit':\n",
      "[[59391     0]\n",
      " [    1     0]]\n"
     ]
    },
    {
     "data": {
      "image/png": "[encoded data removed]",
      "text/plain": [
       "<Figure size 400x300 with 2 Axes>"
      ]
     },
     "metadata": {},
     "output_type": "display_data"
    },
    {
     "name": "stdout",
     "output_type": "stream",
     "text": [
      "\n",
      "Classification Report:\n",
      "                 precision    recall  f1-score   support\n",
      "\n",
      "       toxicity       0.00      0.00      0.00         6\n",
      "severe_toxicity       0.00      0.00      0.00         0\n",
      "\n",
      "      micro avg       0.00      0.00      0.00         6\n",
      "      macro avg       0.00      0.00      0.00         6\n",
      "   weighted avg       0.00      0.00      0.00         6\n",
      "    samples avg       0.00      0.00      0.00         6\n",
      "\n"
     ]
    },
    {
     "name": "stderr",
     "output_type": "stream",
     "text": [
      "C:\\Users\\tamer\\OneDrive - Høgskulen på Vestlandet\\Dokumenter\\3 År\\DAT255 Deep learning\\toxicity2\\toxicityPython39\\lib\\site-packages\\sklearn\\metrics\\_classification.py:2687: UserWarning: labels size, 2, does not match size of target_names, 7\n",
      "  warnings.warn(\n"
     ]
    }
   ],
   "source": [
    "import numpy as np\n",
    "from sklearn.metrics import classification_report, confusion_matrix\n",
    "import matplotlib.pyplot as plt\n",
    "import seaborn as sns\n",
    "\n",
    "label_names = ['toxicity', 'severe_toxicity', 'obscene', 'threat', 'insult', 'identity_attack', 'sexual_explicit']\n",
    "\n",
    "y_true = []\n",
    "for batch in val:\n",
    "    _, labels = batch\n",
    "    y_true.append(labels)\n",
    "\n",
    "y_true = np.concatenate([y.numpy() for y in y_true], axis=0)\n",
    "\n",
    "y_true_binary = (y_true >= 0.5).astype(int)\n",
    "\n",
    "y_true = np.vstack([labels.numpy() for _, labels in val])\n",
    "y_pred_binary = (y_pred >= 0.5).astype(int)\n",
    "\n",
    "for i, label in enumerate(label_names):\n",
    "    print(f\"\\nConfusion Matrix for '{label}':\")\n",
    "    cm = confusion_matrix(y_true_binary[:, i], y_pred_binary[:, i])\n",
    "    print(cm)\n",
    "\n",
    "    plt.figure(figsize=(4, 3))\n",
    "    sns.heatmap(cm, annot=True, fmt='d', cmap='Blues')\n",
    "    plt.title(f'Confusion Matrix - {label}')\n",
    "    plt.xlabel('Predicted')\n",
    "    plt.ylabel('True')\n",
    "    plt.tight_layout()\n",
    "    plt.show()\n",
    "\n",
    "print(\"\\nClassification Report:\")\n",
    "print(classification_report(\n",
    "                            y_true_binary,\n",
    "                            y_pred_binary,\n",
    "                            target_names=label_names,\n",
    "                            zero_division=0,\n",
    "                            labels=[0, 1]  \n",
    "                            ))\n"
   ]
  },
  {
   "cell_type": "code",
   "execution_count": 118,
   "id": "1e89fcd8-dc90-489d-9677-159c29e76199",
   "metadata": {},
   "outputs": [
    {
     "name": "stdout",
     "output_type": "stream",
     "text": [
      "Precision: 0.0, Recall: 0.0, Accuracy: 0.9999542832374573\n"
     ]
    }
   ],
   "source": [
    "import tensorflow as tf\n",
    "from tensorflow.keras.metrics import Precision, Recall, BinaryAccuracy\n",
    "\n",
    "pre = Precision()\n",
    "re = Recall()\n",
    "acc = BinaryAccuracy()\n",
    "\n",
    "for batch in val:\n",
    "    X_true, y_true = batch\n",
    "    \n",
    "    yhat = model(X_true, training=False)\n",
    "    \n",
    "    y_true_binary = tf.cast(y_true >= 0.5, tf.float32)\n",
    "    yhat_binary = tf.cast(yhat >= 0.5, tf.float32)\n",
    "\n",
    "    pre.update_state(y_true_binary, yhat_binary)\n",
    "    re.update_state(y_true_binary, yhat_binary)\n",
    "    acc.update_state(y_true_binary, yhat_binary)\n",
    "\n",
    "print(f'Precision: {pre.result().numpy()}, Recall: {re.result().numpy()}, Accuracy: {acc.result().numpy()}')\n"
   ]
  },
  {
   "cell_type": "code",
   "execution_count": 119,
   "id": "a86322bd-bf19-43af-98e4-96fc26b94906",
   "metadata": {},
   "outputs": [
    {
     "name": "stdout",
     "output_type": "stream",
     "text": [
      "Positive samples: 15.43614712357521\n",
      "Negative samples: 59376.563852876425\n"
     ]
    }
   ],
   "source": [
    "import numpy as np\n",
    "\n",
    "all_labels = []\n",
    "for _, y in val:\n",
    "    all_labels.append(y.numpy())\n",
    "all_labels = np.concatenate(all_labels)\n",
    "\n",
    "print(\"Positive samples:\", np.sum(all_labels))\n",
    "print(\"Negative samples:\", len(all_labels) - np.sum(all_labels))"
   ]
  },
  {
   "cell_type": "code",
   "execution_count": 120,
   "id": "2ada6256-49b3-4732-892e-a37870f092f1",
   "metadata": {},
   "outputs": [
    {
     "name": "stdout",
     "output_type": "stream",
     "text": [
      "\u001b[1m1/1\u001b[0m \u001b[32m━━━━━━━━━━━━━━━━━━━━\u001b[0m\u001b[37m\u001b[0m \u001b[1m0s\u001b[0m 145ms/step\n",
      "Predictions: [1.49907137e-05 1.02519311e-06 1.89642151e-06 1.07568134e-07\n",
      " 1.45508866e-05 1.30748447e-06 7.81394135e-07 5.13947962e-05\n",
      " 2.88330170e-06 6.47561046e-06 3.63441160e-07 5.80702254e-05\n",
      " 3.75265995e-06 1.88140143e-06 8.41184636e-04 6.28498674e-05\n",
      " 5.63292779e-05 8.90049414e-05 7.02208839e-04 9.87756212e-05\n",
      " 2.18060723e-05 4.95438217e-05 2.99547514e-06 5.81811082e-06\n",
      " 6.19269144e-07 5.12847837e-05 4.60331739e-06 2.18508512e-06\n",
      " 5.43772285e-06 3.24724482e-07 4.97041810e-07 2.97643048e-08\n",
      " 5.30292255e-06 4.90595198e-07 2.38811054e-07 2.82362835e-05\n",
      " 1.85650038e-06 3.51500239e-06 2.64205653e-07 2.93436478e-05\n",
      " 1.76342144e-06 1.09399048e-06 1.20602399e-05 7.33569891e-07\n",
      " 1.23807990e-06 8.29625648e-08 1.22263955e-05 1.17325169e-06\n",
      " 5.51175447e-07 1.21566127e-05 9.20747652e-07 1.31345087e-06\n",
      " 1.88047096e-07 1.04410292e-05 1.00195007e-06 6.63982803e-07\n",
      " 7.07796789e-06 4.78624486e-07 8.72628107e-07 5.04384907e-08\n",
      " 6.63750552e-06 4.87972784e-07 3.49486982e-07 1.34131042e-04\n",
      " 1.22965557e-05 1.65948113e-05 4.08595770e-06 1.21499834e-04\n",
      " 1.20508012e-05 6.86398516e-06]\n",
      "Actual labels: [0. 0. 0. 0. 0. 0. 0. 0. 0. 0. 0. 0. 0. 0. 0. 0. 0. 0. 0. 0. 0. 0. 0. 0.\n",
      " 0. 0. 0. 0. 0. 0. 0. 0. 0. 0. 0. 0. 0. 0. 0. 0. 0. 0. 0. 0. 0. 0. 0. 0.\n",
      " 0. 0. 0. 0. 0. 0. 0. 0. 0. 0. 0. 0. 0. 0. 0. 0. 0. 0. 0. 0. 0. 0.]\n"
     ]
    }
   ],
   "source": [
    "for batch in val.take(1):\n",
    "    X_true, y_true = batch\n",
    "    yhat = model.predict(X_true)\n",
    "    print(\"Predictions:\", yhat[:10].flatten())\n",
    "    print(\"Actual labels:\", y_true[:10].numpy().flatten())"
   ]
  },
  {
   "cell_type": "code",
   "execution_count": null,
   "id": "5277fc0b-8c88-4529-af48-5c298a27e16f",
   "metadata": {},
   "outputs": [],
   "source": []
  }
 ],
 "metadata": {
  "kernelspec": {
   "display_name": "Python (toxicityPython39)",
   "language": "python",
   "name": "toxicitypython39"
  },
  "language_info": {
   "codemirror_mode": {
    "name": "ipython",
    "version": 3
   },
   "file_extension": ".py",
   "mimetype": "text/x-python",
   "name": "python",
   "nbconvert_exporter": "python",
   "pygments_lexer": "ipython3",
   "version": "3.9.13"
  }
 },
 "nbformat": 4,
 "nbformat_minor": 5
}
