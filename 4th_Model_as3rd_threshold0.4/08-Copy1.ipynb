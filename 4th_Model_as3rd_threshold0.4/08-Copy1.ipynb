{
 "cells": [
  {
   "cell_type": "code",
   "execution_count": 37,
   "id": "55680453-838b-45dc-bcf4-b18635135a70",
   "metadata": {},
   "outputs": [
    {
     "name": "stdout",
     "output_type": "stream",
     "text": [
      "Requirement already satisfied: datasets in c:\\users\\tamer\\onedrive - høgskulen på vestlandet\\dokumenter\\3 år\\dat255 deep learning\\toxicity2\\toxicitypython39\\lib\\site-packages (3.5.0)\n",
      "Requirement already satisfied: packaging in c:\\users\\tamer\\onedrive - høgskulen på vestlandet\\dokumenter\\3 år\\dat255 deep learning\\toxicity2\\toxicitypython39\\lib\\site-packages (from datasets) (24.2)\n",
      "Requirement already satisfied: pyarrow>=15.0.0 in c:\\users\\tamer\\onedrive - høgskulen på vestlandet\\dokumenter\\3 år\\dat255 deep learning\\toxicity2\\toxicitypython39\\lib\\site-packages (from datasets) (19.0.1)\n",
      "Requirement already satisfied: fsspec[http]<=2024.12.0,>=2023.1.0 in c:\\users\\tamer\\onedrive - høgskulen på vestlandet\\dokumenter\\3 år\\dat255 deep learning\\toxicity2\\toxicitypython39\\lib\\site-packages (from datasets) (2024.12.0)\n",
      "Requirement already satisfied: pandas in c:\\users\\tamer\\onedrive - høgskulen på vestlandet\\dokumenter\\3 år\\dat255 deep learning\\toxicity2\\toxicitypython39\\lib\\site-packages (from datasets) (2.2.3)\n",
      "Requirement already satisfied: numpy>=1.17 in c:\\users\\tamer\\onedrive - høgskulen på vestlandet\\dokumenter\\3 år\\dat255 deep learning\\toxicity2\\toxicitypython39\\lib\\site-packages (from datasets) (2.0.2)\n",
      "Requirement already satisfied: tqdm>=4.66.3 in c:\\users\\tamer\\onedrive - høgskulen på vestlandet\\dokumenter\\3 år\\dat255 deep learning\\toxicity2\\toxicitypython39\\lib\\site-packages (from datasets) (4.67.1)\n",
      "Requirement already satisfied: requests>=2.32.2 in c:\\users\\tamer\\onedrive - høgskulen på vestlandet\\dokumenter\\3 år\\dat255 deep learning\\toxicity2\\toxicitypython39\\lib\\site-packages (from datasets) (2.32.3)\n",
      "Requirement already satisfied: xxhash in c:\\users\\tamer\\onedrive - høgskulen på vestlandet\\dokumenter\\3 år\\dat255 deep learning\\toxicity2\\toxicitypython39\\lib\\site-packages (from datasets) (3.5.0)\n",
      "Requirement already satisfied: multiprocess<0.70.17 in c:\\users\\tamer\\onedrive - høgskulen på vestlandet\\dokumenter\\3 år\\dat255 deep learning\\toxicity2\\toxicitypython39\\lib\\site-packages (from datasets) (0.70.16)\n",
      "Requirement already satisfied: huggingface-hub>=0.24.0 in c:\\users\\tamer\\onedrive - høgskulen på vestlandet\\dokumenter\\3 år\\dat255 deep learning\\toxicity2\\toxicitypython39\\lib\\site-packages (from datasets) (0.30.2)\n",
      "Requirement already satisfied: pyyaml>=5.1 in c:\\users\\tamer\\onedrive - høgskulen på vestlandet\\dokumenter\\3 år\\dat255 deep learning\\toxicity2\\toxicitypython39\\lib\\site-packages (from datasets) (6.0.2)\n",
      "Requirement already satisfied: dill<0.3.9,>=0.3.0 in c:\\users\\tamer\\onedrive - høgskulen på vestlandet\\dokumenter\\3 år\\dat255 deep learning\\toxicity2\\toxicitypython39\\lib\\site-packages (from datasets) (0.3.8)\n",
      "Requirement already satisfied: filelock in c:\\users\\tamer\\onedrive - høgskulen på vestlandet\\dokumenter\\3 år\\dat255 deep learning\\toxicity2\\toxicitypython39\\lib\\site-packages (from datasets) (3.18.0)\n",
      "Requirement already satisfied: aiohttp in c:\\users\\tamer\\onedrive - høgskulen på vestlandet\\dokumenter\\3 år\\dat255 deep learning\\toxicity2\\toxicitypython39\\lib\\site-packages (from datasets) (3.11.16)\n",
      "Requirement already satisfied: multidict<7.0,>=4.5 in c:\\users\\tamer\\onedrive - høgskulen på vestlandet\\dokumenter\\3 år\\dat255 deep learning\\toxicity2\\toxicitypython39\\lib\\site-packages (from aiohttp->datasets) (6.4.3)\n",
      "Requirement already satisfied: async-timeout<6.0,>=4.0 in c:\\users\\tamer\\onedrive - høgskulen på vestlandet\\dokumenter\\3 år\\dat255 deep learning\\toxicity2\\toxicitypython39\\lib\\site-packages (from aiohttp->datasets) (5.0.1)\n",
      "Requirement already satisfied: attrs>=17.3.0 in c:\\users\\tamer\\onedrive - høgskulen på vestlandet\\dokumenter\\3 år\\dat255 deep learning\\toxicity2\\toxicitypython39\\lib\\site-packages (from aiohttp->datasets) (25.3.0)\n",
      "Requirement already satisfied: aiohappyeyeballs>=2.3.0 in c:\\users\\tamer\\onedrive - høgskulen på vestlandet\\dokumenter\\3 år\\dat255 deep learning\\toxicity2\\toxicitypython39\\lib\\site-packages (from aiohttp->datasets) (2.6.1)\n",
      "Requirement already satisfied: frozenlist>=1.1.1 in c:\\users\\tamer\\onedrive - høgskulen på vestlandet\\dokumenter\\3 år\\dat255 deep learning\\toxicity2\\toxicitypython39\\lib\\site-packages (from aiohttp->datasets) (1.5.0)\n",
      "Requirement already satisfied: propcache>=0.2.0 in c:\\users\\tamer\\onedrive - høgskulen på vestlandet\\dokumenter\\3 år\\dat255 deep learning\\toxicity2\\toxicitypython39\\lib\\site-packages (from aiohttp->datasets) (0.3.1)\n",
      "Requirement already satisfied: aiosignal>=1.1.2 in c:\\users\\tamer\\onedrive - høgskulen på vestlandet\\dokumenter\\3 år\\dat255 deep learning\\toxicity2\\toxicitypython39\\lib\\site-packages (from aiohttp->datasets) (1.3.2)\n",
      "Requirement already satisfied: yarl<2.0,>=1.17.0 in c:\\users\\tamer\\onedrive - høgskulen på vestlandet\\dokumenter\\3 år\\dat255 deep learning\\toxicity2\\toxicitypython39\\lib\\site-packages (from aiohttp->datasets) (1.19.0)\n",
      "Requirement already satisfied: typing-extensions>=3.7.4.3 in c:\\users\\tamer\\onedrive - høgskulen på vestlandet\\dokumenter\\3 år\\dat255 deep learning\\toxicity2\\toxicitypython39\\lib\\site-packages (from huggingface-hub>=0.24.0->datasets) (4.13.2)\n",
      "Requirement already satisfied: certifi>=2017.4.17 in c:\\users\\tamer\\onedrive - høgskulen på vestlandet\\dokumenter\\3 år\\dat255 deep learning\\toxicity2\\toxicitypython39\\lib\\site-packages (from requests>=2.32.2->datasets) (2025.1.31)\n",
      "Requirement already satisfied: idna<4,>=2.5 in c:\\users\\tamer\\onedrive - høgskulen på vestlandet\\dokumenter\\3 år\\dat255 deep learning\\toxicity2\\toxicitypython39\\lib\\site-packages (from requests>=2.32.2->datasets) (3.10)\n",
      "Requirement already satisfied: charset-normalizer<4,>=2 in c:\\users\\tamer\\onedrive - høgskulen på vestlandet\\dokumenter\\3 år\\dat255 deep learning\\toxicity2\\toxicitypython39\\lib\\site-packages (from requests>=2.32.2->datasets) (3.4.1)\n",
      "Requirement already satisfied: urllib3<3,>=1.21.1 in c:\\users\\tamer\\onedrive - høgskulen på vestlandet\\dokumenter\\3 år\\dat255 deep learning\\toxicity2\\toxicitypython39\\lib\\site-packages (from requests>=2.32.2->datasets) (2.4.0)\n",
      "Requirement already satisfied: colorama in c:\\users\\tamer\\onedrive - høgskulen på vestlandet\\dokumenter\\3 år\\dat255 deep learning\\toxicity2\\toxicitypython39\\lib\\site-packages (from tqdm>=4.66.3->datasets) (0.4.6)\n",
      "Requirement already satisfied: pytz>=2020.1 in c:\\users\\tamer\\onedrive - høgskulen på vestlandet\\dokumenter\\3 år\\dat255 deep learning\\toxicity2\\toxicitypython39\\lib\\site-packages (from pandas->datasets) (2025.2)\n",
      "Requirement already satisfied: tzdata>=2022.7 in c:\\users\\tamer\\onedrive - høgskulen på vestlandet\\dokumenter\\3 år\\dat255 deep learning\\toxicity2\\toxicitypython39\\lib\\site-packages (from pandas->datasets) (2025.2)\n",
      "Requirement already satisfied: python-dateutil>=2.8.2 in c:\\users\\tamer\\onedrive - høgskulen på vestlandet\\dokumenter\\3 år\\dat255 deep learning\\toxicity2\\toxicitypython39\\lib\\site-packages (from pandas->datasets) (2.9.0.post0)\n",
      "Requirement already satisfied: six>=1.5 in c:\\users\\tamer\\onedrive - høgskulen på vestlandet\\dokumenter\\3 år\\dat255 deep learning\\toxicity2\\toxicitypython39\\lib\\site-packages (from python-dateutil>=2.8.2->pandas->datasets) (1.17.0)\n"
     ]
    },
    {
     "name": "stderr",
     "output_type": "stream",
     "text": [
      "WARNING: You are using pip version 22.0.4; however, version 25.0.1 is available.\n",
      "You should consider upgrading via the 'C:\\Users\\tamer\\OneDrive - Høgskulen på Vestlandet\\Dokumenter\\3 År\\DAT255 Deep learning\\toxicity2\\toxicityPython39\\Scripts\\python.exe -m pip install --upgrade pip' command.\n"
     ]
    }
   ],
   "source": [
    "import pandas as pd\n",
    "import tensorflow as tf\n",
    "from tensorflow.keras.layers import TextVectorization\n",
    "!pip install datasets\n",
    "from datasets import load_dataset"
   ]
  },
  {
   "cell_type": "code",
   "execution_count": 38,
   "id": "b014f0c7-b458-4304-8ca4-2394c6fe82be",
   "metadata": {},
   "outputs": [
    {
     "name": "stdout",
     "output_type": "stream",
     "text": [
      "{'text': \"This is so cool. It's like, 'would you want your mother to read this??' Really great idea, well done!\", 'toxicity': 0.0, 'severe_toxicity': 0.0, 'obscene': 0.0, 'threat': 0.0, 'insult': 0.0, 'identity_attack': 0.0, 'sexual_explicit': 0.0}\n"
     ]
    }
   ],
   "source": [
    "dataset = load_dataset(\"google/civil_comments\")\n",
    "print(dataset['train'][0])"
   ]
  },
  {
   "cell_type": "code",
   "execution_count": 39,
   "id": "e5d612fd-e7bb-4695-8b0c-a3a0368fe65d",
   "metadata": {},
   "outputs": [
    {
     "name": "stdout",
     "output_type": "stream",
     "text": [
      "<class 'datasets.dataset_dict.DatasetDict'>\n"
     ]
    }
   ],
   "source": [
    "print(type(dataset))"
   ]
  },
  {
   "cell_type": "code",
   "execution_count": 40,
   "id": "bf9c7d97-8c0d-4452-9102-08feb2ad13b5",
   "metadata": {},
   "outputs": [
    {
     "name": "stdout",
     "output_type": "stream",
     "text": [
      "1804874\n"
     ]
    }
   ],
   "source": [
    "# load data \n",
    "train_dataset = load_dataset(\"google/civil_comments\", split=\"train\")\n",
    "print(len(train_dataset['text']))"
   ]
  },
  {
   "cell_type": "code",
   "execution_count": 41,
   "id": "d6cb267e-50d1-494a-9b6c-7ed855370d32",
   "metadata": {},
   "outputs": [
    {
     "name": "stdout",
     "output_type": "stream",
     "text": [
      "Total after filtering: 1449483\n",
      "{'text': \"This is so cool. It's like, 'would you want your mother to read this??' Really great idea, well done!\", 'toxicity': 0.0, 'severe_toxicity': 0.0, 'obscene': 0.0, 'threat': 0.0, 'insult': 0.0, 'identity_attack': 0.0, 'sexual_explicit': 0.0}\n"
     ]
    }
   ],
   "source": [
    "# Category names\n",
    "label_cols = [\n",
    "    'toxicity', 'severe_toxicity', 'obscene', 'threat', \n",
    "    'insult', 'identity_attack', 'sexual_explicit'\n",
    "]\n",
    "\n",
    "# Filter data according to the required conditions\n",
    "def keep_example(example):\n",
    "    text = example[\"text\"]\n",
    "    if text.strip() == \"\":\n",
    "        return False  # Exclude empty text\n",
    "    labels = [example[col] for col in label_cols]\n",
    "    if any(label >= 0.4 for label in labels):\n",
    "        return True  # Keep if any label >= 0.4\n",
    "    if all(label == 0.0 for label in labels):\n",
    "        return True  # Or if they are all zero\n",
    "    return False  # Exclude the rest\n",
    "\n",
    "filtered_dataset = train_dataset.filter(keep_example)\n",
    "\n",
    "print(f\"Total after filtering: {len(filtered_dataset)}\")\n",
    "print(filtered_dataset[0])"
   ]
  },
  {
   "cell_type": "code",
   "execution_count": 6,
   "id": "3fe76631-0ff9-45fc-a1d4-69c69d6946bf",
   "metadata": {},
   "outputs": [
    {
     "name": "stdout",
     "output_type": "stream",
     "text": [
      "toxicity: 201476\n",
      "severe_toxicity: 75\n",
      "obscene: 13918\n",
      "threat: 7749\n",
      "insult: 151311\n",
      "identity_attack: 25032\n",
      "sexual_explicit: 7953\n"
     ]
    }
   ],
   "source": [
    "# Count the number of rows that contain each label >= 0.4\n",
    "for label in label_cols:\n",
    "    count = sum(example[label] >= 0.4 for example in filtered_dataset)\n",
    "    print(f\"{label}: {count}\")"
   ]
  },
  {
   "cell_type": "code",
   "execution_count": 7,
   "id": "ef3fdb56-17b1-4211-92a8-ad7464eb274c",
   "metadata": {},
   "outputs": [
    {
     "name": "stdout",
     "output_type": "stream",
     "text": [
      "Rows with more than one label >= 0.4: 175269\n"
     ]
    }
   ],
   "source": [
    "multi_label_count = sum(\n",
    "    sum(example[label] >= 0.4 for label in label_cols) > 1\n",
    "    for example in filtered_dataset\n",
    ")\n",
    "print(f\"Rows with more than one label >= 0.4: {multi_label_count}\")\n"
   ]
  },
  {
   "cell_type": "code",
   "execution_count": 8,
   "id": "6d720988-18b6-4f75-a72e-6ae1b9b9e435",
   "metadata": {},
   "outputs": [
    {
     "name": "stdout",
     "output_type": "stream",
     "text": [
      "Rows with all labels == 0.0: 1242544\n"
     ]
    }
   ],
   "source": [
    "only_zero_labels = sum(\n",
    "    all(example[label] == 0.0 for label in label_cols)\n",
    "    for example in filtered_dataset\n",
    ")\n",
    "\n",
    "print(f\"Rows with all labels == 0.0: {only_zero_labels}\")"
   ]
  },
  {
   "cell_type": "code",
   "execution_count": 9,
   "id": "f8603eb7-7b67-4c50-ac51-682056008ac4",
   "metadata": {},
   "outputs": [
    {
     "name": "stdout",
     "output_type": "stream",
     "text": [
      "Rows with exactly one label >= 0.4: 31670\n"
     ]
    }
   ],
   "source": [
    "exactly_one_label = sum(\n",
    "    sum(example[label] >= 0.4 for label in label_cols) == 1\n",
    "    for example in filtered_dataset\n",
    ")\n",
    "\n",
    "print(f\"Rows with exactly one label >= 0.4: {exactly_one_label}\")"
   ]
  },
  {
   "cell_type": "code",
   "execution_count": 48,
   "id": "cf272d7f-4686-4553-adfa-40d5e2b0556d",
   "metadata": {
    "scrolled": true
   },
   "outputs": [
    {
     "name": "stdout",
     "output_type": "stream",
     "text": [
      "✅ Label 'toxicity': 10000 samples selected.\n",
      "❌ Skipping 'severe_toxicity' — only 75 samples.\n",
      "✅ Label 'obscene': 10000 samples selected.\n",
      "✅ Label 'threat': 7749 samples selected.\n",
      "✅ Label 'insult': 10000 samples selected.\n",
      "✅ Label 'identity_attack': 10000 samples selected.\n",
      "✅ Label 'sexual_explicit': 7953 samples selected.\n",
      "\n",
      "🎯 toxic_combined dataset size: 55702\n"
     ]
    }
   ],
   "source": [
    "from datasets import concatenate_datasets, Dataset\n",
    "import random\n",
    "\n",
    "max_samples_per_label = 10000\n",
    "min_required = 7500\n",
    "\n",
    "# Collect samples by each label\n",
    "label_datasets = []\n",
    "\n",
    "for label in label_cols:\n",
    "    # Samples with this label >= 0.4\n",
    "    subset = filtered_dataset.filter(lambda example: example[label] >= 0.4)\n",
    "    \n",
    "    if len(subset) < min_required:\n",
    "        print(f\"Skipping '{label}' — only {len(subset)} samples.\")\n",
    "        continue\n",
    "    \n",
    "    selected = subset.shuffle(seed=42).select(range(min(len(subset), max_samples_per_label)))\n",
    "    print(f\"Label '{label}': {len(selected)} samples selected.\")\n",
    "    label_datasets.append(selected)\n",
    "\n",
    "# Merge all datasets from toxic categories\n",
    "toxic_combined = concatenate_datasets(label_datasets)\n",
    "print(f\"\\ntoxic_combined dataset size: {len(toxic_combined)}\")"
   ]
  },
  {
   "cell_type": "code",
   "execution_count": 49,
   "id": "dff33fcc-398f-4f33-862e-d7e6ff07608a",
   "metadata": {},
   "outputs": [
    {
     "name": "stdout",
     "output_type": "stream",
     "text": [
      "\n",
      "🧪 Toxic dataset (after merging and deduplication): 50011 samples\n"
     ]
    }
   ],
   "source": [
    "import pandas as pd\n",
    "from datasets import Dataset\n",
    "\n",
    "# Convert to DataFrame\n",
    "df = toxic_combined.to_pandas()\n",
    "\n",
    "# Remove duplicates\n",
    "df = df.drop_duplicates(subset='text')\n",
    "\n",
    "# Convert to Dataset again\n",
    "toxic_combined = Dataset.from_pandas(df) \n",
    "toxic_combined = toxic_combined.shuffle(seed=42)\n",
    "\n",
    "print(f\"\\nToxic dataset (after merging and deduplication): {len(toxic_combined)} samples\")"
   ]
  },
  {
   "cell_type": "code",
   "execution_count": 50,
   "id": "cf2d4084-940e-43f0-ba5f-32641a636e5e",
   "metadata": {},
   "outputs": [
    {
     "name": "stdout",
     "output_type": "stream",
     "text": [
      "✅ Neutral dataset: 50011 samples\n",
      "\n",
      "🎯 Final balanced dataset size: 100022\n"
     ]
    }
   ],
   "source": [
    "# Select the same number of clean examples.\n",
    "neutral_dataset = filtered_dataset.filter(lambda example: all(example[label] == 0.0 for label in label_cols))\n",
    "neutral_balanced = neutral_dataset.shuffle(seed=42).select(range(len(toxic_combined)))\n",
    "\n",
    "print(f\"Neutral dataset: {len(neutral_balanced)} samples\")\n",
    "\n",
    "# Data merge and randomize\n",
    "final_balanced = concatenate_datasets([toxic_combined, neutral_balanced]).shuffle(seed=42)\n",
    "print(f\"\\nFinal balanced dataset size: {len(final_balanced)}\")"
   ]
  },
  {
   "cell_type": "code",
   "execution_count": 51,
   "id": "dbde304e-4aa3-4d98-8161-0abb25673f91",
   "metadata": {},
   "outputs": [],
   "source": [
    "import matplotlib.pyplot as plt\n",
    "\n",
    "label_counts = {}\n",
    "\n",
    "for label in label_cols:\n",
    "    count = filtered_dataset.filter(lambda example: example[label] >= 0.4).num_rows\n",
    "    label_counts[label] = count"
   ]
  },
  {
   "cell_type": "code",
   "execution_count": 52,
   "id": "f150e37a-81cd-4fa1-8429-659171c3c399",
   "metadata": {},
   "outputs": [
    {
     "data": {
      "image/png": "[encoded data removed]",
      "text/plain": [
       "<Figure size 1000x600 with 1 Axes>"
      ]
     },
     "metadata": {},
     "output_type": "display_data"
    }
   ],
   "source": [
    "plt.figure(figsize=(10, 6))\n",
    "plt.bar(label_counts.keys(), label_counts.values(), color='tomato')\n",
    "plt.title('Number of rows per toxic category (label ≥ 0.4)')\n",
    "plt.xlabel('Category (Label)')\n",
    "plt.ylabel('Number of rows')\n",
    "plt.xticks(rotation=45)\n",
    "plt.grid(axis='y', linestyle='--', alpha=0.7)\n",
    "plt.tight_layout()\n",
    "plt.show()"
   ]
  },
  {
   "cell_type": "code",
   "execution_count": 10,
   "id": "d79ea697-4b70-4609-a4a1-91f448490032",
   "metadata": {},
   "outputs": [
    {
     "name": "stdout",
     "output_type": "stream",
     "text": [
      "Single-label rows: 31670\n",
      "Multi-label rows: 175269\n",
      "Selected 7500 rows for label: toxicity\n",
      "⚠️ Skipped severe_toxicity — only 0 available (< 7500)\n",
      "⚠️ Skipped obscene — only 205 available (< 7500)\n",
      "⚠️ Skipped threat — only 220 available (< 7500)\n",
      "⚠️ Skipped insult — only 2758 available (< 7500)\n",
      "⚠️ Skipped identity_attack — only 1418 available (< 7500)\n",
      "⚠️ Skipped sexual_explicit — only 818 available (< 7500)\n",
      "\n",
      "✅ Final balanced dataset size: 182769\n"
     ]
    }
   ],
   "source": [
    "from datasets import concatenate_datasets\n",
    "\n",
    "# 1. Exclude rows that contain more than one label ≥ 0.4\n",
    "def has_only_one_label(example):\n",
    "    return sum(example[label] >= 0.4 for label in label_cols) == 1\n",
    "\n",
    "def has_multiple_labels(example):\n",
    "    return sum(example[label] >= 0.4 for label in label_cols) > 1\n",
    "\n",
    "single_label_dataset = filtered_dataset.filter(has_only_one_label)\n",
    "multi_label_dataset = filtered_dataset.filter(has_multiple_labels)\n",
    "\n",
    "print(f\"Single-label rows: {len(single_label_dataset)}\")\n",
    "print(f\"Multi-label rows: {len(multi_label_dataset)}\")\n",
    "\n",
    "# 2. Determine the column that contains the only label (primary_label)\n",
    "def assign_primary_label(example):\n",
    "    for label in label_cols:\n",
    "        if example[label] >= 0.4:\n",
    "            example[\"primary_label\"] = label\n",
    "            break\n",
    "    return example\n",
    "\n",
    "single_label_dataset = single_label_dataset.map(assign_primary_label)\n",
    "\n",
    "\n",
    "balanced_subsets = []\n",
    "max_per_class = 7500  \n",
    "\n",
    "for label in label_cols:\n",
    "    subset = single_label_dataset.filter(lambda x: x[\"primary_label\"] == label)\n",
    "    if len(subset) >= max_per_class:\n",
    "        subset = subset.shuffle(seed=42).select(range(max_per_class))\n",
    "        balanced_subsets.append(subset)\n",
    "        print(f\"Selected {len(subset)} rows for label: {label}\")\n",
    "    else:\n",
    "        print(f\"Skipped {label} — only {len(subset)} available (< {max_per_class})\")\n",
    "\n",
    "# 3. Merge balanced data with multi-label\n",
    "balanced_dataset = concatenate_datasets(balanced_subsets + [multi_label_dataset])\n",
    "print(f\"\\nFinal balanced dataset size: {len(balanced_dataset)}\")\n"
   ]
  },
  {
   "cell_type": "code",
   "execution_count": 11,
   "id": "efb840ff-dc26-436d-93ec-fe0066a4487a",
   "metadata": {},
   "outputs": [
    {
     "name": "stdout",
     "output_type": "stream",
     "text": [
      "Dataset({\n",
      "    features: ['text', 'toxicity', 'severe_toxicity', 'obscene', 'threat', 'insult', 'identity_attack', 'sexual_explicit', 'primary_label'],\n",
      "    num_rows: 182769\n",
      "})\n"
     ]
    }
   ],
   "source": [
    "print(balanced_dataset)"
   ]
  },
  {
   "cell_type": "code",
   "execution_count": 12,
   "id": "fe7ad564-e0d3-40df-a2ee-e46b0d03c96e",
   "metadata": {},
   "outputs": [
    {
     "data": {
      "application/vnd.jupyter.widget-view+json": {
       "model_id": "375998bc330f4019b46be8c4eee02528",
       "version_major": 2,
       "version_minor": 0
      },
      "text/plain": [
       "Map:   0%|          | 0/182769 [00:00<?, ? examples/s]"
      ]
     },
     "metadata": {},
     "output_type": "display_data"
    }
   ],
   "source": [
    "# Clean the texts :\n",
    "import re\n",
    "\n",
    "def clean_text(example):\n",
    "    text = example[\"text\"].lower()\n",
    "    text = re.sub(r'\\d+', '', text)\n",
    "    text = re.sub(r'[^\\w\\s]', '', text)\n",
    "    return {\"text\": text}\n",
    "\n",
    "# Apply cleaning using .map() on the full dataset\n",
    "balanced_dataset = balanced_dataset.map(clean_text)"
   ]
  },
  {
   "cell_type": "code",
   "execution_count": 13,
   "id": "c24581db-1dbc-4b5c-9820-f2beea48b267",
   "metadata": {},
   "outputs": [
    {
     "data": {
      "application/vnd.jupyter.widget-view+json": {
       "model_id": "1f6226e7b6c748cb9eb69a51344b0a6a",
       "version_major": 2,
       "version_minor": 0
      },
      "text/plain": [
       "Filter:   0%|          | 0/182769 [00:00<?, ? examples/s]"
      ]
     },
     "metadata": {},
     "output_type": "display_data"
    },
    {
     "name": "stdout",
     "output_type": "stream",
     "text": [
      "Number of rows after cleaning: 182769\n"
     ]
    }
   ],
   "source": [
    "# Remove empty and null text\n",
    "cleaned_dataset = balanced_dataset.filter(lambda x: x[\"text\"] not in [\"\", None])\n",
    "\n",
    "# Check data size after cleaning\n",
    "print(f\"Number of rows after cleaning: {len(cleaned_dataset)}\")"
   ]
  },
  {
   "cell_type": "code",
   "execution_count": 14,
   "id": "f15659d7-7aa5-47f2-b17e-8b1286689376",
   "metadata": {},
   "outputs": [
    {
     "data": {
      "application/vnd.jupyter.widget-view+json": {
       "model_id": "852905eb435c4138a622b771e78128a6",
       "version_major": 2,
       "version_minor": 0
      },
      "text/plain": [
       "Saving the dataset (0/1 shards):   0%|          | 0/182769 [00:00<?, ? examples/s]"
      ]
     },
     "metadata": {},
     "output_type": "display_data"
    }
   ],
   "source": [
    "cleaned_dataset.save_to_disk(\"cleaned_balanced_civil_comments22\")"
   ]
  },
  {
   "cell_type": "code",
   "execution_count": 15,
   "id": "46771fba-d643-4050-b0e7-0eddf4555a27",
   "metadata": {},
   "outputs": [
    {
     "data": {
      "application/vnd.jupyter.widget-view+json": {
       "model_id": "87af4f5c45e54a9abe5ee8a06a29e28d",
       "version_major": 2,
       "version_minor": 0
      },
      "text/plain": [
       "Filter:   0%|          | 0/182769 [00:00<?, ? examples/s]"
      ]
     },
     "metadata": {},
     "output_type": "display_data"
    },
    {
     "name": "stdout",
     "output_type": "stream",
     "text": [
      "positive_dataset: 144307\n"
     ]
    }
   ],
   "source": [
    "positive_dataset = cleaned_dataset.filter(\n",
    "    lambda example: any(example[label] >= 0.5 for label in label_cols)\n",
    ")\n",
    "print(f\"positive_dataset: {len(positive_dataset)}\")"
   ]
  },
  {
   "cell_type": "code",
   "execution_count": 16,
   "id": "690a8072-c118-447d-88e1-d5639bf7bd4f",
   "metadata": {},
   "outputs": [
    {
     "name": "stdout",
     "output_type": "stream",
     "text": [
      "{'text': 'big city departments are just corrupt', 'toxicity': 0.5, 'severe_toxicity': 0.0, 'obscene': 0.0, 'threat': 0.0, 'insult': 0.30000001192092896, 'identity_attack': 0.10000000149011612, 'sexual_explicit': 0.0, 'primary_label': 'toxicity'}\n"
     ]
    }
   ],
   "source": [
    "print(positive_dataset[200])"
   ]
  },
  {
   "cell_type": "code",
   "execution_count": 17,
   "id": "3ca1416b-6ed0-4452-90d4-fc99d1d0bc2f",
   "metadata": {},
   "outputs": [
    {
     "data": {
      "text/html": [
       "<div>\n",
       "<style scoped>\n",
       "    .dataframe tbody tr th:only-of-type {\n",
       "        vertical-align: middle;\n",
       "    }\n",
       "\n",
       "    .dataframe tbody tr th {\n",
       "        vertical-align: top;\n",
       "    }\n",
       "\n",
       "    .dataframe thead th {\n",
       "        text-align: right;\n",
       "    }\n",
       "</style>\n",
       "<table border=\"1\" class=\"dataframe\">\n",
       "  <thead>\n",
       "    <tr style=\"text-align: right;\">\n",
       "      <th></th>\n",
       "      <th>text</th>\n",
       "      <th>toxicity</th>\n",
       "      <th>severe_toxicity</th>\n",
       "      <th>obscene</th>\n",
       "      <th>threat</th>\n",
       "      <th>insult</th>\n",
       "      <th>identity_attack</th>\n",
       "      <th>sexual_explicit</th>\n",
       "      <th>primary_label</th>\n",
       "    </tr>\n",
       "  </thead>\n",
       "  <tbody>\n",
       "    <tr>\n",
       "      <th>0</th>\n",
       "      <td>sherrilyn ifill makes some assumptions that i ...</td>\n",
       "      <td>0.5</td>\n",
       "      <td>0.0</td>\n",
       "      <td>0.0</td>\n",
       "      <td>0.0</td>\n",
       "      <td>0.2</td>\n",
       "      <td>0.3</td>\n",
       "      <td>0.0</td>\n",
       "      <td>toxicity</td>\n",
       "    </tr>\n",
       "    <tr>\n",
       "      <th>1</th>\n",
       "      <td>republicans and the nra have done a good job o...</td>\n",
       "      <td>0.4</td>\n",
       "      <td>0.0</td>\n",
       "      <td>0.0</td>\n",
       "      <td>0.1</td>\n",
       "      <td>0.3</td>\n",
       "      <td>0.0</td>\n",
       "      <td>0.0</td>\n",
       "      <td>toxicity</td>\n",
       "    </tr>\n",
       "    <tr>\n",
       "      <th>2</th>\n",
       "      <td>i think biased is better  as you have before y...</td>\n",
       "      <td>0.5</td>\n",
       "      <td>0.0</td>\n",
       "      <td>0.0</td>\n",
       "      <td>0.0</td>\n",
       "      <td>0.1</td>\n",
       "      <td>0.0</td>\n",
       "      <td>0.2</td>\n",
       "      <td>toxicity</td>\n",
       "    </tr>\n",
       "    <tr>\n",
       "      <th>3</th>\n",
       "      <td>if the right wants to actively pass laws again...</td>\n",
       "      <td>0.5</td>\n",
       "      <td>0.0</td>\n",
       "      <td>0.0</td>\n",
       "      <td>0.0</td>\n",
       "      <td>0.3</td>\n",
       "      <td>0.3</td>\n",
       "      <td>0.0</td>\n",
       "      <td>toxicity</td>\n",
       "    </tr>\n",
       "    <tr>\n",
       "      <th>4</th>\n",
       "      <td>yes this and the temporary foreign worker scam...</td>\n",
       "      <td>0.4</td>\n",
       "      <td>0.1</td>\n",
       "      <td>0.0</td>\n",
       "      <td>0.0</td>\n",
       "      <td>0.3</td>\n",
       "      <td>0.3</td>\n",
       "      <td>0.0</td>\n",
       "      <td>toxicity</td>\n",
       "    </tr>\n",
       "  </tbody>\n",
       "</table>\n",
       "</div>"
      ],
      "text/plain": [
       "                                                text  toxicity  \\\n",
       "0  sherrilyn ifill makes some assumptions that i ...       0.5   \n",
       "1  republicans and the nra have done a good job o...       0.4   \n",
       "2  i think biased is better  as you have before y...       0.5   \n",
       "3  if the right wants to actively pass laws again...       0.5   \n",
       "4  yes this and the temporary foreign worker scam...       0.4   \n",
       "\n",
       "   severe_toxicity  obscene  threat  insult  identity_attack  sexual_explicit  \\\n",
       "0              0.0      0.0     0.0     0.2              0.3              0.0   \n",
       "1              0.0      0.0     0.1     0.3              0.0              0.0   \n",
       "2              0.0      0.0     0.0     0.1              0.0              0.2   \n",
       "3              0.0      0.0     0.0     0.3              0.3              0.0   \n",
       "4              0.1      0.0     0.0     0.3              0.3              0.0   \n",
       "\n",
       "  primary_label  \n",
       "0      toxicity  \n",
       "1      toxicity  \n",
       "2      toxicity  \n",
       "3      toxicity  \n",
       "4      toxicity  "
      ]
     },
     "execution_count": 17,
     "metadata": {},
     "output_type": "execute_result"
    }
   ],
   "source": [
    "df = pd.DataFrame(cleaned_dataset)\n",
    "df.head()"
   ]
  },
  {
   "cell_type": "code",
   "execution_count": 18,
   "id": "4dd3bfc3-8312-4fed-907d-820c00813bd6",
   "metadata": {},
   "outputs": [
    {
     "name": "stdout",
     "output_type": "stream",
     "text": [
      "Null or None values:\n",
      "text                    0\n",
      "toxicity                0\n",
      "severe_toxicity         0\n",
      "obscene                 0\n",
      "threat                  0\n",
      "insult                  0\n",
      "identity_attack         0\n",
      "sexual_explicit         0\n",
      "primary_label      175269\n",
      "dtype: int64\n",
      "\n",
      "Empty string values in 'text':\n",
      "0\n"
     ]
    }
   ],
   "source": [
    "# Check null or None\n",
    "print(\"Null or None values:\")\n",
    "print(df.isnull().sum())\n",
    "\n",
    "# Check only empty text in the text column\n",
    "print(\"\\nEmpty string values in 'text':\")\n",
    "print((df[\"text\"] == \"\").sum())"
   ]
  },
  {
   "cell_type": "code",
   "execution_count": 19,
   "id": "d3330d1a-e12a-44b2-b91a-efe7214319e7",
   "metadata": {},
   "outputs": [],
   "source": [
    "# lables\n",
    "labels = df[df.columns[1:]].values\n",
    "\n",
    "# texts\n",
    "texts = df['text'].astype(str).values"
   ]
  },
  {
   "cell_type": "code",
   "execution_count": 20,
   "id": "5eacc3bf-48a5-4e5e-a71f-ce11ae11fe90",
   "metadata": {},
   "outputs": [
    {
     "name": "stdout",
     "output_type": "stream",
     "text": [
      "<class 'numpy.ndarray'>\n",
      "(182769,)\n"
     ]
    }
   ],
   "source": [
    "print(type(texts))\n",
    "print(texts.shape)"
   ]
  },
  {
   "cell_type": "code",
   "execution_count": 21,
   "id": "8ada05d5-d4e8-4503-93cb-96262e28a56a",
   "metadata": {},
   "outputs": [
    {
     "name": "stdout",
     "output_type": "stream",
     "text": [
      "<class 'numpy.ndarray'>\n",
      "(182769, 8)\n"
     ]
    }
   ],
   "source": [
    "print(type(labels))\n",
    "print(labels.shape)"
   ]
  },
  {
   "cell_type": "code",
   "execution_count": 22,
   "id": "83e8896a-b1b6-4045-a49d-57ddc6569950",
   "metadata": {},
   "outputs": [
    {
     "name": "stdout",
     "output_type": "stream",
     "text": [
      "Number of values ​​that equal an empty string: 0\n"
     ]
    }
   ],
   "source": [
    "is_empty_string = df['text'] == ''\n",
    "count_empty_string = is_empty_string.sum()\n",
    "print(\"Number of values ​​that equal an empty string:\", count_empty_string)"
   ]
  },
  {
   "cell_type": "code",
   "execution_count": 23,
   "id": "319319c0-a41d-4b3b-9a8a-5644ddfd86ef",
   "metadata": {},
   "outputs": [
    {
     "data": {
      "text/plain": [
       "np.int64(0)"
      ]
     },
     "execution_count": 23,
     "metadata": {},
     "output_type": "execute_result"
    }
   ],
   "source": [
    "df['text'].isnull().sum()"
   ]
  },
  {
   "cell_type": "code",
   "execution_count": 24,
   "id": "1a9b998f-4534-4b9e-bb56-eae19d0f7356",
   "metadata": {},
   "outputs": [],
   "source": [
    "filtered_texts = []\n",
    "filtered_labels = []\n",
    "\n",
    "for text, label in zip(texts, labels):\n",
    "    if text.strip():  \n",
    "        filtered_texts.append(text)\n",
    "        filtered_labels.append(label)\n",
    "\n",
    "texts = filtered_texts\n",
    "labels = filtered_labels"
   ]
  },
  {
   "cell_type": "code",
   "execution_count": 25,
   "id": "55d719a6-6144-46b1-a95a-8b952cf4e406",
   "metadata": {},
   "outputs": [],
   "source": [
    "MAX_WORDS=20000"
   ]
  },
  {
   "cell_type": "code",
   "execution_count": 26,
   "id": "67bbca47-abb1-40cb-bf04-5ff8b79baffd",
   "metadata": {},
   "outputs": [],
   "source": [
    "vectorizer = TextVectorization(\n",
    "    max_tokens=MAX_WORDS,\n",
    "    output_sequence_length=300,  \n",
    "    output_mode='int'\n",
    ")\n",
    "\n",
    "vectorizer.adapt(texts)"
   ]
  },
  {
   "cell_type": "code",
   "execution_count": 27,
   "id": "784de0a3-0bfe-4c51-8980-dc37ac0ae85c",
   "metadata": {},
   "outputs": [
    {
     "ename": "ValueError",
     "evalue": "Can't convert Python sequence with mixed types to Tensor.",
     "output_type": "error",
     "traceback": [
      "\u001b[1;31m---------------------------------------------------------------------------\u001b[0m",
      "\u001b[1;31mValueError\u001b[0m                                Traceback (most recent call last)",
      "Cell \u001b[1;32mIn[27], line 2\u001b[0m\n\u001b[0;32m      1\u001b[0m \u001b[38;5;66;03m# Convert data to Dataset\u001b[39;00m\n\u001b[1;32m----> 2\u001b[0m dataset \u001b[38;5;241m=\u001b[39m \u001b[43mtf\u001b[49m\u001b[38;5;241;43m.\u001b[39;49m\u001b[43mdata\u001b[49m\u001b[38;5;241;43m.\u001b[39;49m\u001b[43mDataset\u001b[49m\u001b[38;5;241;43m.\u001b[39;49m\u001b[43mfrom_tensor_slices\u001b[49m\u001b[43m(\u001b[49m\u001b[43m(\u001b[49m\u001b[43mtexts\u001b[49m\u001b[43m,\u001b[49m\u001b[43m \u001b[49m\u001b[43mlabels\u001b[49m\u001b[43m)\u001b[49m\u001b[43m)\u001b[49m\n\u001b[0;32m      4\u001b[0m dataset \u001b[38;5;241m=\u001b[39m dataset\u001b[38;5;241m.\u001b[39mmap(\u001b[38;5;28;01mlambda\u001b[39;00m x, y: (vectorizer(x), y), num_parallel_calls\u001b[38;5;241m=\u001b[39mtf\u001b[38;5;241m.\u001b[39mdata\u001b[38;5;241m.\u001b[39mAUTOTUNE)\n\u001b[0;32m      6\u001b[0m \u001b[38;5;66;03m# تنظيم البيانات\u001b[39;00m\n",
      "File \u001b[1;32m~\\OneDrive - Høgskulen på Vestlandet\\Dokumenter\\3 År\\DAT255 Deep learning\\toxicity2\\toxicityPython39\\lib\\site-packages\\tensorflow\\python\\data\\ops\\dataset_ops.py:827\u001b[0m, in \u001b[0;36mDatasetV2.from_tensor_slices\u001b[1;34m(tensors, name)\u001b[0m\n\u001b[0;32m    823\u001b[0m \u001b[38;5;66;03m# Loaded lazily due to a circular dependency (dataset_ops ->\u001b[39;00m\n\u001b[0;32m    824\u001b[0m \u001b[38;5;66;03m# from_tensor_slices_op -> dataset_ops).\u001b[39;00m\n\u001b[0;32m    825\u001b[0m \u001b[38;5;66;03m# pylint: disable=g-import-not-at-top,protected-access\u001b[39;00m\n\u001b[0;32m    826\u001b[0m \u001b[38;5;28;01mfrom\u001b[39;00m\u001b[38;5;250m \u001b[39m\u001b[38;5;21;01mtensorflow\u001b[39;00m\u001b[38;5;21;01m.\u001b[39;00m\u001b[38;5;21;01mpython\u001b[39;00m\u001b[38;5;21;01m.\u001b[39;00m\u001b[38;5;21;01mdata\u001b[39;00m\u001b[38;5;21;01m.\u001b[39;00m\u001b[38;5;21;01mops\u001b[39;00m\u001b[38;5;250m \u001b[39m\u001b[38;5;28;01mimport\u001b[39;00m from_tensor_slices_op\n\u001b[1;32m--> 827\u001b[0m \u001b[38;5;28;01mreturn\u001b[39;00m \u001b[43mfrom_tensor_slices_op\u001b[49m\u001b[38;5;241;43m.\u001b[39;49m\u001b[43m_from_tensor_slices\u001b[49m\u001b[43m(\u001b[49m\u001b[43mtensors\u001b[49m\u001b[43m,\u001b[49m\u001b[43m \u001b[49m\u001b[43mname\u001b[49m\u001b[43m)\u001b[49m\n",
      "File \u001b[1;32m~\\OneDrive - Høgskulen på Vestlandet\\Dokumenter\\3 År\\DAT255 Deep learning\\toxicity2\\toxicityPython39\\lib\\site-packages\\tensorflow\\python\\data\\ops\\from_tensor_slices_op.py:25\u001b[0m, in \u001b[0;36m_from_tensor_slices\u001b[1;34m(tensors, name)\u001b[0m\n\u001b[0;32m     24\u001b[0m \u001b[38;5;28;01mdef\u001b[39;00m\u001b[38;5;250m \u001b[39m\u001b[38;5;21m_from_tensor_slices\u001b[39m(tensors, name\u001b[38;5;241m=\u001b[39m\u001b[38;5;28;01mNone\u001b[39;00m):\n\u001b[1;32m---> 25\u001b[0m   \u001b[38;5;28;01mreturn\u001b[39;00m \u001b[43m_TensorSliceDataset\u001b[49m\u001b[43m(\u001b[49m\u001b[43mtensors\u001b[49m\u001b[43m,\u001b[49m\u001b[43m \u001b[49m\u001b[43mname\u001b[49m\u001b[38;5;241;43m=\u001b[39;49m\u001b[43mname\u001b[49m\u001b[43m)\u001b[49m\n",
      "File \u001b[1;32m~\\OneDrive - Høgskulen på Vestlandet\\Dokumenter\\3 År\\DAT255 Deep learning\\toxicity2\\toxicityPython39\\lib\\site-packages\\tensorflow\\python\\data\\ops\\from_tensor_slices_op.py:33\u001b[0m, in \u001b[0;36m_TensorSliceDataset.__init__\u001b[1;34m(self, element, is_files, name)\u001b[0m\n\u001b[0;32m     31\u001b[0m \u001b[38;5;28;01mdef\u001b[39;00m\u001b[38;5;250m \u001b[39m\u001b[38;5;21m__init__\u001b[39m(\u001b[38;5;28mself\u001b[39m, element, is_files\u001b[38;5;241m=\u001b[39m\u001b[38;5;28;01mFalse\u001b[39;00m, name\u001b[38;5;241m=\u001b[39m\u001b[38;5;28;01mNone\u001b[39;00m):\n\u001b[0;32m     32\u001b[0m \u001b[38;5;250m  \u001b[39m\u001b[38;5;124;03m\"\"\"See `Dataset.from_tensor_slices` for details.\"\"\"\u001b[39;00m\n\u001b[1;32m---> 33\u001b[0m   element \u001b[38;5;241m=\u001b[39m \u001b[43mstructure\u001b[49m\u001b[38;5;241;43m.\u001b[39;49m\u001b[43mnormalize_element\u001b[49m\u001b[43m(\u001b[49m\u001b[43melement\u001b[49m\u001b[43m)\u001b[49m\n\u001b[0;32m     34\u001b[0m   batched_spec \u001b[38;5;241m=\u001b[39m structure\u001b[38;5;241m.\u001b[39mtype_spec_from_value(element)\n\u001b[0;32m     35\u001b[0m   \u001b[38;5;28mself\u001b[39m\u001b[38;5;241m.\u001b[39m_tensors \u001b[38;5;241m=\u001b[39m structure\u001b[38;5;241m.\u001b[39mto_batched_tensor_list(batched_spec, element)\n",
      "File \u001b[1;32m~\\OneDrive - Høgskulen på Vestlandet\\Dokumenter\\3 År\\DAT255 Deep learning\\toxicity2\\toxicityPython39\\lib\\site-packages\\tensorflow\\python\\data\\util\\structure.py:134\u001b[0m, in \u001b[0;36mnormalize_element\u001b[1;34m(element, element_signature)\u001b[0m\n\u001b[0;32m    131\u001b[0m       \u001b[38;5;28;01melse\u001b[39;00m:\n\u001b[0;32m    132\u001b[0m         dtype \u001b[38;5;241m=\u001b[39m \u001b[38;5;28mgetattr\u001b[39m(spec, \u001b[38;5;124m\"\u001b[39m\u001b[38;5;124mdtype\u001b[39m\u001b[38;5;124m\"\u001b[39m, \u001b[38;5;28;01mNone\u001b[39;00m)\n\u001b[0;32m    133\u001b[0m         normalized_components\u001b[38;5;241m.\u001b[39mappend(\n\u001b[1;32m--> 134\u001b[0m             \u001b[43mops\u001b[49m\u001b[38;5;241;43m.\u001b[39;49m\u001b[43mconvert_to_tensor\u001b[49m\u001b[43m(\u001b[49m\u001b[43mt\u001b[49m\u001b[43m,\u001b[49m\u001b[43m \u001b[49m\u001b[43mname\u001b[49m\u001b[38;5;241;43m=\u001b[39;49m\u001b[38;5;124;43m\"\u001b[39;49m\u001b[38;5;124;43mcomponent_\u001b[39;49m\u001b[38;5;132;43;01m%d\u001b[39;49;00m\u001b[38;5;124;43m\"\u001b[39;49m\u001b[43m \u001b[49m\u001b[38;5;241;43m%\u001b[39;49m\u001b[43m \u001b[49m\u001b[43mi\u001b[49m\u001b[43m,\u001b[49m\u001b[43m \u001b[49m\u001b[43mdtype\u001b[49m\u001b[38;5;241;43m=\u001b[39;49m\u001b[43mdtype\u001b[49m\u001b[43m)\u001b[49m)\n\u001b[0;32m    135\u001b[0m \u001b[38;5;28;01mreturn\u001b[39;00m nest\u001b[38;5;241m.\u001b[39mpack_sequence_as(pack_as, normalized_components)\n",
      "File \u001b[1;32m~\\OneDrive - Høgskulen på Vestlandet\\Dokumenter\\3 År\\DAT255 Deep learning\\toxicity2\\toxicityPython39\\lib\\site-packages\\tensorflow\\python\\profiler\\trace.py:183\u001b[0m, in \u001b[0;36mtrace_wrapper.<locals>.inner_wrapper.<locals>.wrapped\u001b[1;34m(*args, **kwargs)\u001b[0m\n\u001b[0;32m    181\u001b[0m   \u001b[38;5;28;01mwith\u001b[39;00m Trace(trace_name, \u001b[38;5;241m*\u001b[39m\u001b[38;5;241m*\u001b[39mtrace_kwargs):\n\u001b[0;32m    182\u001b[0m     \u001b[38;5;28;01mreturn\u001b[39;00m func(\u001b[38;5;241m*\u001b[39margs, \u001b[38;5;241m*\u001b[39m\u001b[38;5;241m*\u001b[39mkwargs)\n\u001b[1;32m--> 183\u001b[0m \u001b[38;5;28;01mreturn\u001b[39;00m func(\u001b[38;5;241m*\u001b[39margs, \u001b[38;5;241m*\u001b[39m\u001b[38;5;241m*\u001b[39mkwargs)\n",
      "File \u001b[1;32m~\\OneDrive - Høgskulen på Vestlandet\\Dokumenter\\3 År\\DAT255 Deep learning\\toxicity2\\toxicityPython39\\lib\\site-packages\\tensorflow\\python\\framework\\ops.py:736\u001b[0m, in \u001b[0;36mconvert_to_tensor\u001b[1;34m(value, dtype, name, as_ref, preferred_dtype, dtype_hint, ctx, accepted_result_types)\u001b[0m\n\u001b[0;32m    734\u001b[0m \u001b[38;5;66;03m# TODO(b/142518781): Fix all call-sites and remove redundant arg\u001b[39;00m\n\u001b[0;32m    735\u001b[0m preferred_dtype \u001b[38;5;241m=\u001b[39m preferred_dtype \u001b[38;5;129;01mor\u001b[39;00m dtype_hint\n\u001b[1;32m--> 736\u001b[0m \u001b[38;5;28;01mreturn\u001b[39;00m \u001b[43mtensor_conversion_registry\u001b[49m\u001b[38;5;241;43m.\u001b[39;49m\u001b[43mconvert\u001b[49m\u001b[43m(\u001b[49m\n\u001b[0;32m    737\u001b[0m \u001b[43m    \u001b[49m\u001b[43mvalue\u001b[49m\u001b[43m,\u001b[49m\u001b[43m \u001b[49m\u001b[43mdtype\u001b[49m\u001b[43m,\u001b[49m\u001b[43m \u001b[49m\u001b[43mname\u001b[49m\u001b[43m,\u001b[49m\u001b[43m \u001b[49m\u001b[43mas_ref\u001b[49m\u001b[43m,\u001b[49m\u001b[43m \u001b[49m\u001b[43mpreferred_dtype\u001b[49m\u001b[43m,\u001b[49m\u001b[43m \u001b[49m\u001b[43maccepted_result_types\u001b[49m\n\u001b[0;32m    738\u001b[0m \u001b[43m\u001b[49m\u001b[43m)\u001b[49m\n",
      "File \u001b[1;32m~\\OneDrive - Høgskulen på Vestlandet\\Dokumenter\\3 År\\DAT255 Deep learning\\toxicity2\\toxicityPython39\\lib\\site-packages\\tensorflow\\python\\framework\\tensor_conversion_registry.py:234\u001b[0m, in \u001b[0;36mconvert\u001b[1;34m(value, dtype, name, as_ref, preferred_dtype, accepted_result_types)\u001b[0m\n\u001b[0;32m    225\u001b[0m       \u001b[38;5;28;01mraise\u001b[39;00m \u001b[38;5;167;01mRuntimeError\u001b[39;00m(\n\u001b[0;32m    226\u001b[0m           _add_error_prefix(\n\u001b[0;32m    227\u001b[0m               \u001b[38;5;124mf\u001b[39m\u001b[38;5;124m\"\u001b[39m\u001b[38;5;124mConversion function \u001b[39m\u001b[38;5;132;01m{\u001b[39;00mconversion_func\u001b[38;5;132;01m!r}\u001b[39;00m\u001b[38;5;124m for type \u001b[39m\u001b[38;5;124m\"\u001b[39m\n\u001b[1;32m   (...)\u001b[0m\n\u001b[0;32m    230\u001b[0m               \u001b[38;5;124mf\u001b[39m\u001b[38;5;124m\"\u001b[39m\u001b[38;5;124mactual = \u001b[39m\u001b[38;5;132;01m{\u001b[39;00mret\u001b[38;5;241m.\u001b[39mdtype\u001b[38;5;241m.\u001b[39mbase_dtype\u001b[38;5;241m.\u001b[39mname\u001b[38;5;132;01m}\u001b[39;00m\u001b[38;5;124m\"\u001b[39m,\n\u001b[0;32m    231\u001b[0m               name\u001b[38;5;241m=\u001b[39mname))\n\u001b[0;32m    233\u001b[0m \u001b[38;5;28;01mif\u001b[39;00m ret \u001b[38;5;129;01mis\u001b[39;00m \u001b[38;5;28;01mNone\u001b[39;00m:\n\u001b[1;32m--> 234\u001b[0m   ret \u001b[38;5;241m=\u001b[39m \u001b[43mconversion_func\u001b[49m\u001b[43m(\u001b[49m\u001b[43mvalue\u001b[49m\u001b[43m,\u001b[49m\u001b[43m \u001b[49m\u001b[43mdtype\u001b[49m\u001b[38;5;241;43m=\u001b[39;49m\u001b[43mdtype\u001b[49m\u001b[43m,\u001b[49m\u001b[43m \u001b[49m\u001b[43mname\u001b[49m\u001b[38;5;241;43m=\u001b[39;49m\u001b[43mname\u001b[49m\u001b[43m,\u001b[49m\u001b[43m \u001b[49m\u001b[43mas_ref\u001b[49m\u001b[38;5;241;43m=\u001b[39;49m\u001b[43mas_ref\u001b[49m\u001b[43m)\u001b[49m\n\u001b[0;32m    236\u001b[0m \u001b[38;5;28;01mif\u001b[39;00m ret \u001b[38;5;129;01mis\u001b[39;00m \u001b[38;5;28mNotImplemented\u001b[39m:\n\u001b[0;32m    237\u001b[0m   \u001b[38;5;28;01mcontinue\u001b[39;00m\n",
      "File \u001b[1;32m~\\OneDrive - Høgskulen på Vestlandet\\Dokumenter\\3 År\\DAT255 Deep learning\\toxicity2\\toxicityPython39\\lib\\site-packages\\tensorflow\\python\\framework\\constant_tensor_conversion.py:29\u001b[0m, in \u001b[0;36m_constant_tensor_conversion_function\u001b[1;34m(v, dtype, name, as_ref)\u001b[0m\n\u001b[0;32m     26\u001b[0m \u001b[38;5;28;01mfrom\u001b[39;00m\u001b[38;5;250m \u001b[39m\u001b[38;5;21;01mtensorflow\u001b[39;00m\u001b[38;5;21;01m.\u001b[39;00m\u001b[38;5;21;01mpython\u001b[39;00m\u001b[38;5;21;01m.\u001b[39;00m\u001b[38;5;21;01mframework\u001b[39;00m\u001b[38;5;250m \u001b[39m\u001b[38;5;28;01mimport\u001b[39;00m constant_op  \u001b[38;5;66;03m# pylint: disable=g-import-not-at-top\u001b[39;00m\n\u001b[0;32m     28\u001b[0m _ \u001b[38;5;241m=\u001b[39m as_ref\n\u001b[1;32m---> 29\u001b[0m \u001b[38;5;28;01mreturn\u001b[39;00m \u001b[43mconstant_op\u001b[49m\u001b[38;5;241;43m.\u001b[39;49m\u001b[43mconstant\u001b[49m\u001b[43m(\u001b[49m\u001b[43mv\u001b[49m\u001b[43m,\u001b[49m\u001b[43m \u001b[49m\u001b[43mdtype\u001b[49m\u001b[38;5;241;43m=\u001b[39;49m\u001b[43mdtype\u001b[49m\u001b[43m,\u001b[49m\u001b[43m \u001b[49m\u001b[43mname\u001b[49m\u001b[38;5;241;43m=\u001b[39;49m\u001b[43mname\u001b[49m\u001b[43m)\u001b[49m\n",
      "File \u001b[1;32m~\\OneDrive - Høgskulen på Vestlandet\\Dokumenter\\3 År\\DAT255 Deep learning\\toxicity2\\toxicityPython39\\lib\\site-packages\\tensorflow\\python\\ops\\weak_tensor_ops.py:142\u001b[0m, in \u001b[0;36mweak_tensor_binary_op_wrapper.<locals>.wrapper\u001b[1;34m(*args, **kwargs)\u001b[0m\n\u001b[0;32m    140\u001b[0m \u001b[38;5;28;01mdef\u001b[39;00m\u001b[38;5;250m \u001b[39m\u001b[38;5;21mwrapper\u001b[39m(\u001b[38;5;241m*\u001b[39margs, \u001b[38;5;241m*\u001b[39m\u001b[38;5;241m*\u001b[39mkwargs):\n\u001b[0;32m    141\u001b[0m   \u001b[38;5;28;01mif\u001b[39;00m \u001b[38;5;129;01mnot\u001b[39;00m ops\u001b[38;5;241m.\u001b[39mis_auto_dtype_conversion_enabled():\n\u001b[1;32m--> 142\u001b[0m     \u001b[38;5;28;01mreturn\u001b[39;00m op(\u001b[38;5;241m*\u001b[39margs, \u001b[38;5;241m*\u001b[39m\u001b[38;5;241m*\u001b[39mkwargs)\n\u001b[0;32m    143\u001b[0m   bound_arguments \u001b[38;5;241m=\u001b[39m signature\u001b[38;5;241m.\u001b[39mbind(\u001b[38;5;241m*\u001b[39margs, \u001b[38;5;241m*\u001b[39m\u001b[38;5;241m*\u001b[39mkwargs)\n\u001b[0;32m    144\u001b[0m   bound_arguments\u001b[38;5;241m.\u001b[39mapply_defaults()\n",
      "File \u001b[1;32m~\\OneDrive - Høgskulen på Vestlandet\\Dokumenter\\3 År\\DAT255 Deep learning\\toxicity2\\toxicityPython39\\lib\\site-packages\\tensorflow\\python\\framework\\constant_op.py:276\u001b[0m, in \u001b[0;36mconstant\u001b[1;34m(value, dtype, shape, name)\u001b[0m\n\u001b[0;32m    177\u001b[0m \u001b[38;5;129m@tf_export\u001b[39m(\u001b[38;5;124m\"\u001b[39m\u001b[38;5;124mconstant\u001b[39m\u001b[38;5;124m\"\u001b[39m, v1\u001b[38;5;241m=\u001b[39m[])\n\u001b[0;32m    178\u001b[0m \u001b[38;5;28;01mdef\u001b[39;00m\u001b[38;5;250m \u001b[39m\u001b[38;5;21mconstant\u001b[39m(\n\u001b[0;32m    179\u001b[0m     value, dtype\u001b[38;5;241m=\u001b[39m\u001b[38;5;28;01mNone\u001b[39;00m, shape\u001b[38;5;241m=\u001b[39m\u001b[38;5;28;01mNone\u001b[39;00m, name\u001b[38;5;241m=\u001b[39m\u001b[38;5;124m\"\u001b[39m\u001b[38;5;124mConst\u001b[39m\u001b[38;5;124m\"\u001b[39m\n\u001b[0;32m    180\u001b[0m ) \u001b[38;5;241m-\u001b[39m\u001b[38;5;241m>\u001b[39m Union[ops\u001b[38;5;241m.\u001b[39mOperation, ops\u001b[38;5;241m.\u001b[39m_EagerTensorBase]:\n\u001b[0;32m    181\u001b[0m \u001b[38;5;250m  \u001b[39m\u001b[38;5;124;03m\"\"\"Creates a constant tensor from a tensor-like object.\u001b[39;00m\n\u001b[0;32m    182\u001b[0m \n\u001b[0;32m    183\u001b[0m \u001b[38;5;124;03m  Note: All eager `tf.Tensor` values are immutable (in contrast to\u001b[39;00m\n\u001b[1;32m   (...)\u001b[0m\n\u001b[0;32m    274\u001b[0m \u001b[38;5;124;03m    ValueError: if called on a symbolic tensor.\u001b[39;00m\n\u001b[0;32m    275\u001b[0m \u001b[38;5;124;03m  \"\"\"\u001b[39;00m\n\u001b[1;32m--> 276\u001b[0m   \u001b[38;5;28;01mreturn\u001b[39;00m \u001b[43m_constant_impl\u001b[49m\u001b[43m(\u001b[49m\u001b[43mvalue\u001b[49m\u001b[43m,\u001b[49m\u001b[43m \u001b[49m\u001b[43mdtype\u001b[49m\u001b[43m,\u001b[49m\u001b[43m \u001b[49m\u001b[43mshape\u001b[49m\u001b[43m,\u001b[49m\u001b[43m \u001b[49m\u001b[43mname\u001b[49m\u001b[43m,\u001b[49m\u001b[43m \u001b[49m\u001b[43mverify_shape\u001b[49m\u001b[38;5;241;43m=\u001b[39;49m\u001b[38;5;28;43;01mFalse\u001b[39;49;00m\u001b[43m,\u001b[49m\n\u001b[0;32m    277\u001b[0m \u001b[43m                        \u001b[49m\u001b[43mallow_broadcast\u001b[49m\u001b[38;5;241;43m=\u001b[39;49m\u001b[38;5;28;43;01mTrue\u001b[39;49;00m\u001b[43m)\u001b[49m\n",
      "File \u001b[1;32m~\\OneDrive - Høgskulen på Vestlandet\\Dokumenter\\3 År\\DAT255 Deep learning\\toxicity2\\toxicityPython39\\lib\\site-packages\\tensorflow\\python\\framework\\constant_op.py:289\u001b[0m, in \u001b[0;36m_constant_impl\u001b[1;34m(value, dtype, shape, name, verify_shape, allow_broadcast)\u001b[0m\n\u001b[0;32m    287\u001b[0m     \u001b[38;5;28;01mwith\u001b[39;00m trace\u001b[38;5;241m.\u001b[39mTrace(\u001b[38;5;124m\"\u001b[39m\u001b[38;5;124mtf.constant\u001b[39m\u001b[38;5;124m\"\u001b[39m):\n\u001b[0;32m    288\u001b[0m       \u001b[38;5;28;01mreturn\u001b[39;00m _constant_eager_impl(ctx, value, dtype, shape, verify_shape)\n\u001b[1;32m--> 289\u001b[0m   \u001b[38;5;28;01mreturn\u001b[39;00m \u001b[43m_constant_eager_impl\u001b[49m\u001b[43m(\u001b[49m\u001b[43mctx\u001b[49m\u001b[43m,\u001b[49m\u001b[43m \u001b[49m\u001b[43mvalue\u001b[49m\u001b[43m,\u001b[49m\u001b[43m \u001b[49m\u001b[43mdtype\u001b[49m\u001b[43m,\u001b[49m\u001b[43m \u001b[49m\u001b[43mshape\u001b[49m\u001b[43m,\u001b[49m\u001b[43m \u001b[49m\u001b[43mverify_shape\u001b[49m\u001b[43m)\u001b[49m\n\u001b[0;32m    291\u001b[0m const_tensor \u001b[38;5;241m=\u001b[39m ops\u001b[38;5;241m.\u001b[39m_create_graph_constant(  \u001b[38;5;66;03m# pylint: disable=protected-access\u001b[39;00m\n\u001b[0;32m    292\u001b[0m     value, dtype, shape, name, verify_shape, allow_broadcast\n\u001b[0;32m    293\u001b[0m )\n\u001b[0;32m    294\u001b[0m \u001b[38;5;28;01mreturn\u001b[39;00m const_tensor\n",
      "File \u001b[1;32m~\\OneDrive - Høgskulen på Vestlandet\\Dokumenter\\3 År\\DAT255 Deep learning\\toxicity2\\toxicityPython39\\lib\\site-packages\\tensorflow\\python\\framework\\constant_op.py:301\u001b[0m, in \u001b[0;36m_constant_eager_impl\u001b[1;34m(ctx, value, dtype, shape, verify_shape)\u001b[0m\n\u001b[0;32m    297\u001b[0m \u001b[38;5;28;01mdef\u001b[39;00m\u001b[38;5;250m \u001b[39m\u001b[38;5;21m_constant_eager_impl\u001b[39m(\n\u001b[0;32m    298\u001b[0m     ctx, value, dtype, shape, verify_shape\n\u001b[0;32m    299\u001b[0m ) \u001b[38;5;241m-\u001b[39m\u001b[38;5;241m>\u001b[39m ops\u001b[38;5;241m.\u001b[39m_EagerTensorBase:\n\u001b[0;32m    300\u001b[0m \u001b[38;5;250m  \u001b[39m\u001b[38;5;124;03m\"\"\"Creates a constant on the current device.\"\"\"\u001b[39;00m\n\u001b[1;32m--> 301\u001b[0m   t \u001b[38;5;241m=\u001b[39m \u001b[43mconvert_to_eager_tensor\u001b[49m\u001b[43m(\u001b[49m\u001b[43mvalue\u001b[49m\u001b[43m,\u001b[49m\u001b[43m \u001b[49m\u001b[43mctx\u001b[49m\u001b[43m,\u001b[49m\u001b[43m \u001b[49m\u001b[43mdtype\u001b[49m\u001b[43m)\u001b[49m\n\u001b[0;32m    302\u001b[0m   \u001b[38;5;28;01mif\u001b[39;00m shape \u001b[38;5;129;01mis\u001b[39;00m \u001b[38;5;28;01mNone\u001b[39;00m:\n\u001b[0;32m    303\u001b[0m     \u001b[38;5;28;01mreturn\u001b[39;00m t\n",
      "File \u001b[1;32m~\\OneDrive - Høgskulen på Vestlandet\\Dokumenter\\3 År\\DAT255 Deep learning\\toxicity2\\toxicityPython39\\lib\\site-packages\\tensorflow\\python\\framework\\constant_op.py:108\u001b[0m, in \u001b[0;36mconvert_to_eager_tensor\u001b[1;34m(value, ctx, dtype)\u001b[0m\n\u001b[0;32m    106\u001b[0m     dtype \u001b[38;5;241m=\u001b[39m dtypes\u001b[38;5;241m.\u001b[39mas_dtype(dtype)\u001b[38;5;241m.\u001b[39mas_datatype_enum\n\u001b[0;32m    107\u001b[0m ctx\u001b[38;5;241m.\u001b[39mensure_initialized()\n\u001b[1;32m--> 108\u001b[0m \u001b[38;5;28;01mreturn\u001b[39;00m \u001b[43mops\u001b[49m\u001b[38;5;241;43m.\u001b[39;49m\u001b[43mEagerTensor\u001b[49m\u001b[43m(\u001b[49m\u001b[43mvalue\u001b[49m\u001b[43m,\u001b[49m\u001b[43m \u001b[49m\u001b[43mctx\u001b[49m\u001b[38;5;241;43m.\u001b[39;49m\u001b[43mdevice_name\u001b[49m\u001b[43m,\u001b[49m\u001b[43m \u001b[49m\u001b[43mdtype\u001b[49m\u001b[43m)\u001b[49m\n",
      "\u001b[1;31mValueError\u001b[0m: Can't convert Python sequence with mixed types to Tensor."
     ]
    }
   ],
   "source": [
    "# Convert data to Dataset\n",
    "dataset = tf.data.Dataset.from_tensor_slices((texts, labels))\n",
    "\n",
    "dataset = dataset.map(lambda x, y: (vectorizer(x), y), num_parallel_calls=tf.data.AUTOTUNE)\n",
    "\n",
    "dataset = dataset.cache()\n",
    "dataset = dataset.shuffle(10000)\n",
    "dataset = dataset.batch(32)\n",
    "dataset = dataset.prefetch(tf.data.AUTOTUNE)"
   ]
  },
  {
   "cell_type": "code",
   "execution_count": null,
   "id": "d049db88-6204-4a97-a674-d296c9550967",
   "metadata": {},
   "outputs": [],
   "source": [
    "len(dataset)"
   ]
  },
  {
   "cell_type": "code",
   "execution_count": null,
   "id": "ac3afb87-2aa2-4c44-b3c3-a2f1897d0ec0",
   "metadata": {},
   "outputs": [],
   "source": [
    "# Split into train / val / test\n",
    "train = dataset.take(int(len(dataset)*.7))\n",
    "val = dataset.skip(int(len(dataset)*.7)).take(int(len(dataset)*.2))\n",
    "test = dataset.skip(int(len(dataset)*.9)).take(int(len(dataset)*.1))"
   ]
  },
  {
   "cell_type": "code",
   "execution_count": null,
   "id": "324fdfce-b477-4742-a487-e9e6f82af452",
   "metadata": {},
   "outputs": [],
   "source": [
    "from tensorflow.keras.models import Sequential\n",
    "from tensorflow.keras.layers import Input, LSTM, Dropout, Bidirectional, Dense, Embedding"
   ]
  },
  {
   "cell_type": "code",
   "execution_count": null,
   "id": "ce9eb55d-2ad5-424a-8ad9-1f6138fca751",
   "metadata": {},
   "outputs": [],
   "source": [
    "model = Sequential()\n",
    "model.add(Input(shape=(300,)))\n",
    "# Create the embedding layer\n",
    "model.add(Embedding(MAX_WORDS+1, 32))\n",
    "# Bidirectional LSTM Layer\n",
    "model.add(Bidirectional(LSTM(32, activation='tanh')))\n",
    "# Feature extractor Fully connected layers\n",
    "model.add(Dense(128, activation='relu'))\n",
    "model.add(Dense(256, activation='relu'))\n",
    "model.add(Dense(128, activation='relu'))\n",
    "# Final layer\n",
    "model.add(Dense(7, activation='sigmoid'))"
   ]
  },
  {
   "cell_type": "code",
   "execution_count": null,
   "id": "8e2b9137-c6b9-4ca5-b1c9-06dcc3c7a26f",
   "metadata": {},
   "outputs": [],
   "source": [
    "from tensorflow.keras.metrics import Precision, Recall, AUC\n",
    "import tensorflow as tf\n",
    "\n",
    "model.compile(\n",
    "    optimizer='adam',\n",
    "    loss='binary_crossentropy',\n",
    "    metrics=[\n",
    "        tf.keras.metrics.Precision(name='precision'),\n",
    "        tf.keras.metrics.Recall(name='recall'),\n",
    "        tf.keras.metrics.AUC(name='auc'),\n",
    "    ]\n",
    ")\n",
    "\n"
   ]
  },
  {
   "cell_type": "code",
   "execution_count": null,
   "id": "86152f8f-7e2a-44fe-8a56-839bb06e75f0",
   "metadata": {},
   "outputs": [],
   "source": [
    "model.summary()"
   ]
  },
  {
   "cell_type": "code",
   "execution_count": null,
   "id": "013db8ed-3228-4606-a175-67293ee41471",
   "metadata": {},
   "outputs": [],
   "source": [
    "from tensorflow.keras.callbacks import EarlyStopping\n",
    "\n",
    "early_stop = EarlyStopping(\n",
    "    monitor='val_loss',\n",
    "    patience=2,\n",
    "    restore_best_weights=True\n",
    ")"
   ]
  },
  {
   "cell_type": "code",
   "execution_count": null,
   "id": "e85a5efa-a99b-4ad7-a318-f16607d6117d",
   "metadata": {},
   "outputs": [],
   "source": [
    "history = model.fit(train, \n",
    "                    epochs=6, \n",
    "                    validation_data=val,\n",
    "                    batch_size=32,\n",
    "                    callbacks=[early_stop]       \n",
    "                   )"
   ]
  },
  {
   "cell_type": "code",
   "execution_count": null,
   "id": "4a756898-472e-4cfc-abb8-93e347f17418",
   "metadata": {},
   "outputs": [],
   "source": [
    "model.save('Blanced_model04.keras')\n",
    "print(\"model saved successfully!\")"
   ]
  },
  {
   "cell_type": "code",
   "execution_count": null,
   "id": "9b4a0ca7-9d2b-4463-996d-36a09339e6b5",
   "metadata": {},
   "outputs": [],
   "source": [
    "import numpy as np\n",
    "\n",
    "X_val = []\n",
    "y_val = []\n",
    "\n",
    "for batch in val:\n",
    "    features, labels = batch\n",
    "    X_val.append(features)\n",
    "    y_val.append(labels)\n",
    "\n",
    "y_val = np.concatenate([y.numpy() for y in y_val], axis=0)"
   ]
  },
  {
   "cell_type": "code",
   "execution_count": null,
   "id": "ca3bad8f-5f53-4d2a-a395-0e1a209a091e",
   "metadata": {},
   "outputs": [],
   "source": [
    "import numpy as np\n",
    "from sklearn.metrics import classification_report, confusion_matrix\n",
    "import matplotlib.pyplot as plt\n",
    "import seaborn as sns\n",
    "\n",
    "label_names = ['toxicity', 'severe_toxicity', 'obscene', 'threat', 'insult', 'identity_attack', 'sexual_explicit']\n",
    "\n",
    "y_true = []\n",
    "for batch in val:\n",
    "    _, labels = batch\n",
    "    y_true.append(labels)\n",
    "\n",
    "y_true = np.concatenate([y.numpy() for y in y_true], axis=0)\n",
    "\n",
    "y_true_binary = (y_true >= 0.5).astype(int)\n",
    "\n",
    "y_true = np.vstack([labels.numpy() for _, labels in val])\n",
    "y_pred_binary = (y_pred >= 0.5).astype(int)\n",
    "\n",
    "for i, label in enumerate(label_names):\n",
    "    print(f\"\\nConfusion Matrix for '{label}':\")\n",
    "    cm = confusion_matrix(y_true_binary[:, i], y_pred_binary[:, i])\n",
    "    print(cm)\n",
    "\n",
    "    plt.figure(figsize=(4, 3))\n",
    "    sns.heatmap(cm, annot=True, fmt='d', cmap='Blues')\n",
    "    plt.title(f'Confusion Matrix - {label}')\n",
    "    plt.xlabel('Predicted')\n",
    "    plt.ylabel('True')\n",
    "    plt.tight_layout()\n",
    "    plt.show()\n",
    "\n",
    "print(\"\\nClassification Report:\")\n",
    "print(classification_report(\n",
    "                            y_true_binary,\n",
    "                            y_pred_binary,\n",
    "                            target_names=label_names,\n",
    "                            zero_division=0,\n",
    "                            labels=[0, 1]  \n",
    "                            ))\n"
   ]
  },
  {
   "cell_type": "code",
   "execution_count": null,
   "id": "1e89fcd8-dc90-489d-9677-159c29e76199",
   "metadata": {},
   "outputs": [],
   "source": [
    "import tensorflow as tf\n",
    "from tensorflow.keras.metrics import Precision, Recall, BinaryAccuracy\n",
    "\n",
    "pre = Precision()\n",
    "re = Recall()\n",
    "acc = BinaryAccuracy()\n",
    "\n",
    "for batch in val:\n",
    "    X_true, y_true = batch\n",
    "    \n",
    "    yhat = model(X_true, training=False)\n",
    "    \n",
    "    y_true_binary = tf.cast(y_true >= 0.5, tf.float32)\n",
    "    yhat_binary = tf.cast(yhat >= 0.5, tf.float32)\n",
    "\n",
    "    pre.update_state(y_true_binary, yhat_binary)\n",
    "    re.update_state(y_true_binary, yhat_binary)\n",
    "    acc.update_state(y_true_binary, yhat_binary)\n",
    "\n",
    "print(f'Precision: {pre.result().numpy()}, Recall: {re.result().numpy()}, Accuracy: {acc.result().numpy()}')\n"
   ]
  },
  {
   "cell_type": "code",
   "execution_count": null,
   "id": "a86322bd-bf19-43af-98e4-96fc26b94906",
   "metadata": {},
   "outputs": [],
   "source": [
    "import numpy as np\n",
    "\n",
    "all_labels = []\n",
    "for _, y in val:\n",
    "    all_labels.append(y.numpy())\n",
    "all_labels = np.concatenate(all_labels)\n",
    "\n",
    "print(\"Positive samples:\", np.sum(all_labels))\n",
    "print(\"Negative samples:\", len(all_labels) - np.sum(all_labels))"
   ]
  },
  {
   "cell_type": "code",
   "execution_count": null,
   "id": "2ada6256-49b3-4732-892e-a37870f092f1",
   "metadata": {},
   "outputs": [],
   "source": [
    "for batch in val.take(1):\n",
    "    X_true, y_true = batch\n",
    "    yhat = model.predict(X_true)\n",
    "    print(\"Predictions:\", yhat[:10].flatten())\n",
    "    print(\"Actual labels:\", y_true[:10].numpy().flatten())"
   ]
  },
  {
   "cell_type": "code",
   "execution_count": null,
   "id": "5277fc0b-8c88-4529-af48-5c298a27e16f",
   "metadata": {},
   "outputs": [],
   "source": []
  },
  {
   "cell_type": "code",
   "execution_count": null,
   "id": "80fabdc6-5ff7-4972-804f-095c2b19c42e",
   "metadata": {},
   "outputs": [],
   "source": []
  }
 ],
 "metadata": {
  "kernelspec": {
   "display_name": "Python (toxicityPython39)",
   "language": "python",
   "name": "toxicitypython39"
  },
  "language_info": {
   "codemirror_mode": {
    "name": "ipython",
    "version": 3
   },
   "file_extension": ".py",
   "mimetype": "text/x-python",
   "name": "python",
   "nbconvert_exporter": "python",
   "pygments_lexer": "ipython3",
   "version": "3.9.13"
  }
 },
 "nbformat": 4,
 "nbformat_minor": 5
}
